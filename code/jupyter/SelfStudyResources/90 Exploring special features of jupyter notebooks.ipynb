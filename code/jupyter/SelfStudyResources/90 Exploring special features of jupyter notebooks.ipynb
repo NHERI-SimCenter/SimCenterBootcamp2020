{
 "cells": [
  {
   "cell_type": "markdown",
   "metadata": {},
   "source": [
    "# A Python Quick Start Tutorial - Special Features in Jupyter NB\n",
    "\n",
    "## by Peter Mackenzie-Helnwein\n",
    "University of Washington, Seattle, WA\n",
    "\n",
    "pmackenz@uw.edu          \n",
    "https://www.ce.washington.edu/facultyfinder/peter-mackenzie-helnwein"
   ]
  },
  {
   "cell_type": "markdown",
   "metadata": {},
   "source": [
    "## Magic\n",
    "\n",
    "**Resources**:\n",
    "- http://buildandteach.com/jupyter-notebook-tutorials/lesson-7-using-magic-commands/"
   ]
  },
  {
   "cell_type": "markdown",
   "metadata": {},
   "source": [
    "### read the manual"
   ]
  },
  {
   "cell_type": "code",
   "execution_count": 1,
   "metadata": {},
   "outputs": [],
   "source": [
    "%magic"
   ]
  },
  {
   "cell_type": "code",
   "execution_count": 2,
   "metadata": {},
   "outputs": [
    {
     "data": {
      "application/json": {
       "cell": {
        "!": "OSMagics",
        "HTML": "Other",
        "SVG": "Other",
        "bash": "Other",
        "capture": "ExecutionMagics",
        "debug": "ExecutionMagics",
        "file": "Other",
        "html": "DisplayMagics",
        "javascript": "DisplayMagics",
        "js": "DisplayMagics",
        "latex": "DisplayMagics",
        "markdown": "DisplayMagics",
        "perl": "Other",
        "prun": "ExecutionMagics",
        "pypy": "Other",
        "python": "Other",
        "python2": "Other",
        "python3": "Other",
        "ruby": "Other",
        "script": "ScriptMagics",
        "sh": "Other",
        "svg": "DisplayMagics",
        "sx": "OSMagics",
        "system": "OSMagics",
        "time": "ExecutionMagics",
        "timeit": "ExecutionMagics",
        "writefile": "OSMagics"
       },
       "line": {
        "alias": "OSMagics",
        "alias_magic": "BasicMagics",
        "autoawait": "AsyncMagics",
        "autocall": "AutoMagics",
        "automagic": "AutoMagics",
        "autosave": "KernelMagics",
        "bookmark": "OSMagics",
        "cat": "Other",
        "cd": "OSMagics",
        "clear": "KernelMagics",
        "colors": "BasicMagics",
        "conda": "PackagingMagics",
        "config": "ConfigMagics",
        "connect_info": "KernelMagics",
        "cp": "Other",
        "debug": "ExecutionMagics",
        "dhist": "OSMagics",
        "dirs": "OSMagics",
        "doctest_mode": "BasicMagics",
        "ed": "Other",
        "edit": "KernelMagics",
        "env": "OSMagics",
        "gui": "BasicMagics",
        "hist": "Other",
        "history": "HistoryMagics",
        "killbgscripts": "ScriptMagics",
        "ldir": "Other",
        "less": "KernelMagics",
        "lf": "Other",
        "lk": "Other",
        "ll": "Other",
        "load": "CodeMagics",
        "load_ext": "ExtensionMagics",
        "loadpy": "CodeMagics",
        "logoff": "LoggingMagics",
        "logon": "LoggingMagics",
        "logstart": "LoggingMagics",
        "logstate": "LoggingMagics",
        "logstop": "LoggingMagics",
        "ls": "Other",
        "lsmagic": "BasicMagics",
        "lx": "Other",
        "macro": "ExecutionMagics",
        "magic": "BasicMagics",
        "man": "KernelMagics",
        "matplotlib": "PylabMagics",
        "mkdir": "Other",
        "more": "KernelMagics",
        "mv": "Other",
        "notebook": "BasicMagics",
        "page": "BasicMagics",
        "pastebin": "CodeMagics",
        "pdb": "ExecutionMagics",
        "pdef": "NamespaceMagics",
        "pdoc": "NamespaceMagics",
        "pfile": "NamespaceMagics",
        "pinfo": "NamespaceMagics",
        "pinfo2": "NamespaceMagics",
        "pip": "PackagingMagics",
        "popd": "OSMagics",
        "pprint": "BasicMagics",
        "precision": "BasicMagics",
        "prun": "ExecutionMagics",
        "psearch": "NamespaceMagics",
        "psource": "NamespaceMagics",
        "pushd": "OSMagics",
        "pwd": "OSMagics",
        "pycat": "OSMagics",
        "pylab": "PylabMagics",
        "qtconsole": "KernelMagics",
        "quickref": "BasicMagics",
        "recall": "HistoryMagics",
        "rehashx": "OSMagics",
        "reload_ext": "ExtensionMagics",
        "rep": "Other",
        "rerun": "HistoryMagics",
        "reset": "NamespaceMagics",
        "reset_selective": "NamespaceMagics",
        "rm": "Other",
        "rmdir": "Other",
        "run": "ExecutionMagics",
        "save": "CodeMagics",
        "sc": "OSMagics",
        "set_env": "OSMagics",
        "store": "StoreMagics",
        "sx": "OSMagics",
        "system": "OSMagics",
        "tb": "ExecutionMagics",
        "time": "ExecutionMagics",
        "timeit": "ExecutionMagics",
        "unalias": "OSMagics",
        "unload_ext": "ExtensionMagics",
        "who": "NamespaceMagics",
        "who_ls": "NamespaceMagics",
        "whos": "NamespaceMagics",
        "xdel": "NamespaceMagics",
        "xmode": "BasicMagics"
       }
      },
      "text/plain": [
       "Available line magics:\n",
       "%alias  %alias_magic  %autoawait  %autocall  %automagic  %autosave  %bookmark  %cat  %cd  %clear  %colors  %conda  %config  %connect_info  %cp  %debug  %dhist  %dirs  %doctest_mode  %ed  %edit  %env  %gui  %hist  %history  %killbgscripts  %ldir  %less  %lf  %lk  %ll  %load  %load_ext  %loadpy  %logoff  %logon  %logstart  %logstate  %logstop  %ls  %lsmagic  %lx  %macro  %magic  %man  %matplotlib  %mkdir  %more  %mv  %notebook  %page  %pastebin  %pdb  %pdef  %pdoc  %pfile  %pinfo  %pinfo2  %pip  %popd  %pprint  %precision  %prun  %psearch  %psource  %pushd  %pwd  %pycat  %pylab  %qtconsole  %quickref  %recall  %rehashx  %reload_ext  %rep  %rerun  %reset  %reset_selective  %rm  %rmdir  %run  %save  %sc  %set_env  %store  %sx  %system  %tb  %time  %timeit  %unalias  %unload_ext  %who  %who_ls  %whos  %xdel  %xmode\n",
       "\n",
       "Available cell magics:\n",
       "%%!  %%HTML  %%SVG  %%bash  %%capture  %%debug  %%file  %%html  %%javascript  %%js  %%latex  %%markdown  %%perl  %%prun  %%pypy  %%python  %%python2  %%python3  %%ruby  %%script  %%sh  %%svg  %%sx  %%system  %%time  %%timeit  %%writefile\n",
       "\n",
       "Automagic is ON, % prefix IS NOT needed for line magics."
      ]
     },
     "execution_count": 2,
     "metadata": {},
     "output_type": "execute_result"
    }
   ],
   "source": [
    "%lsmagic"
   ]
  },
  {
   "cell_type": "code",
   "execution_count": 7,
   "metadata": {},
   "outputs": [
    {
     "name": "stdout",
     "output_type": "stream",
     "text": [
      "drwxr-xr-x   8 pmackenz  staff       256 Sep 30 09:43 07 ML/\r\n",
      "drwxr-xr-x   9 pmackenz  staff       288 Sep 30 09:43 GIS/\r\n",
      "drwxr-xr-x@ 20 pmackenz  staff       640 Oct 21 16:37 LessonNotes/\r\n",
      "drwxr-xr-x   4 pmackenz  staff       128 Oct 20 17:10 Mechanics/\r\n",
      "drwxr-xr-x   3 pmackenz  staff        96 Oct 12 18:10 Student_Submissions/\r\n",
      "drwxr-xr-x   4 pmackenz  staff       128 Sep 30 09:43 Web/\r\n",
      "drwxr-xr-x   5 pmackenz  staff       160 Sep 30 09:43 demo/\r\n"
     ]
    }
   ],
   "source": [
    "%ldir"
   ]
  },
  {
   "cell_type": "code",
   "execution_count": 8,
   "metadata": {},
   "outputs": [
    {
     "name": "stdout",
     "output_type": "stream",
     "text": [
      "total 38808\r\n",
      "-rw-r--r--@  1 pmackenz  staff      3492 Sep 30 10:18 00 Outline.ipynb\r\n",
      "-rw-r--r--@  1 pmackenz  staff     31815 Oct 17 13:34 01 Basic Concepts.ipynb\r\n",
      "-rw-r--r--@  1 pmackenz  staff     13808 Oct  7 16:40 01.1 Exercise_Functions.ipynb\r\n",
      "-rw-r--r--@  1 pmackenz  staff     14510 Oct 12 14:41 01.2 Solution of Exercise_Functions.ipynb\r\n",
      "-rw-r--r--@  1 pmackenz  staff     16946 Oct 20 12:18 02 Matrix Data Types.ipynb\r\n",
      "-rw-r--r--@  1 pmackenz  staff     21214 Oct 14 16:17 02.1 Exercise numpy.ipynb\r\n",
      "-rw-r--r--@  1 pmackenz  staff     45844 Oct 13 13:06 02.2 Solution of Exercise numpy.ipynb\r\n",
      "-rw-r--r--@  1 pmackenz  staff      9840 Oct 12 00:06 02.3 Exercise on more matrix operations.ipynb\r\n",
      "-rw-r--r--@  1 pmackenz  staff     45975 Oct 12 00:07 02.4 Solution for Exercise on more matrix operations.ipynb\r\n",
      "-rw-r--r--@  1 pmackenz  staff     85753 Sep 30 09:43 03 Plotting using matplotlib.ipynb\r\n",
      "-rw-r--r--@  1 pmackenz  staff      3263 Oct 13 12:02 03.1 Exercise Plotting.ipynb\r\n",
      "-rw-r--r--@  1 pmackenz  staff    182028 Oct 13 12:03 03.2 Solution of Exercise Plotting.ipynb\r\n",
      "-rw-r--r--@  1 pmackenz  staff   1149788 Oct 18 21:51 04 File handling.ipynb\r\n",
      "-rw-r--r--@  1 pmackenz  staff      2813 Oct 21 16:46 04.1 Exercise File handling.ipynb\r\n",
      "-rw-r--r--@  1 pmackenz  staff     71311 Oct 21 13:57 04.2 Solution of Exercise File handling.ipynb\r\n",
      "-rw-r--r--@  1 pmackenz  staff     27103 Sep 30 09:43 05 Classes.ipynb\r\n",
      "-rw-r--r--@  1 pmackenz  staff      8765 Sep 30 09:43 05.1 Exercise Classes.ipynb\r\n",
      "-rw-r--r--@  1 pmackenz  staff     15569 Sep 30 09:43 05.2 Solution of Exercise Classes.ipynb\r\n",
      "-rw-r--r--@  1 pmackenz  staff     10665 Sep 30 09:43 06 Modules.ipynb\r\n",
      "-rw-r--r--@  1 pmackenz  staff      3288 Sep 30 09:43 06.1 Exercise Modules.ipynb\r\n",
      "-rw-r--r--@  1 pmackenz  staff      6002 Sep 30 09:43 06.2 Solution of Exercise Modules.ipynb\r\n",
      "drwxr-xr-x   8 pmackenz  staff       256 Sep 30 09:43 \u001b[34m07 ML\u001b[m\u001b[m/\r\n",
      "-rw-r--r--   1 pmackenz  staff    279067 Oct 12 19:30 07 ML_basics.ipynb\r\n",
      "-rw-r--r--@  1 pmackenz  staff      2831 Sep 30 09:43 07 Machine Learning AI.ipynb\r\n",
      "-rw-r--r--@  1 pmackenz  staff    989648 Sep 30 09:43 08 User Interface with PyQt5.ipynb\r\n",
      "-rw-r--r--@  1 pmackenz  staff      2258 Sep 30 09:43 09 SQL Databases.ipynb\r\n",
      "-rw-r--r--   1 pmackenz  staff    528747 Sep 30 09:43 10 Web Scrabbing.ipynb\r\n",
      "-rw-r--r--   1 pmackenz  staff      1585 Oct 21 23:19 98 Exploring special features of jupyter notebooks.ipynb\r\n",
      "-rw-r--r--   1 pmackenz  staff      7368 Oct 21 10:44 99 System Information Scripts.ipynb\r\n",
      "-rw-r--r--   1 pmackenz  staff      1863 Sep 30 15:37 Demo Notebook.ipynb\r\n",
      "-rw-r--r--   1 pmackenz  staff     19786 Sep 30 09:43 ExampleData.txt\r\n",
      "-rw-r--r--   1 pmackenz  staff    348933 Sep 30 09:43 ExcelDemo.xlsx\r\n",
      "drwxr-xr-x   9 pmackenz  staff       288 Sep 30 09:43 \u001b[34mGIS\u001b[m\u001b[m/\r\n",
      "drwxr-xr-x@ 20 pmackenz  staff       640 Oct 21 16:37 \u001b[34mLessonNotes\u001b[m\u001b[m/\r\n",
      "drwxr-xr-x   4 pmackenz  staff       128 Oct 20 17:10 \u001b[34mMechanics\u001b[m\u001b[m/\r\n",
      "-rw-r--r--@  1 pmackenz  staff      5540 Sep 30 09:43 MyExcelFile.xlsx\r\n",
      "-rw-r--r--   1 pmackenz  staff      2322 Sep 30 09:43 MyWidget.py\r\n",
      "-rw-r--r--   1 pmackenz  staff     23355 Oct 21 13:56 Problem3.xlsx\r\n",
      "drwxr-xr-x   3 pmackenz  staff        96 Oct 12 18:10 \u001b[34mStudent_Submissions\u001b[m\u001b[m/\r\n",
      "drwxr-xr-x   4 pmackenz  staff       128 Sep 30 09:43 \u001b[34mWeb\u001b[m\u001b[m/\r\n",
      "-rwxr-xr-x   1 pmackenz  staff  15368016 Sep 30 09:43 \u001b[31mWebDriver\u001b[m\u001b[m*\r\n",
      "-rw-r--r--   1 pmackenz  staff         0 Sep 30 09:43 common.py\r\n",
      "-rw-r--r--   1 pmackenz  staff        23 Sep 30 09:43 customer.py\r\n",
      "drwxr-xr-x   5 pmackenz  staff       160 Sep 30 09:43 \u001b[34mdemo\u001b[m\u001b[m/\r\n",
      "-rw-r--r--@  1 pmackenz  staff     24554 Sep 30 09:43 examplefigure.png\r\n",
      "-rw-r--r--   1 pmackenz  staff        23 Sep 30 09:43 hello.py\r\n",
      "-rw-r--r--   1 pmackenz  staff      1467 Sep 30 09:43 lastExample.py\r\n",
      "-rw-r--r--   1 pmackenz  staff       226 Sep 30 09:43 makeSampleData.py\r\n",
      "-rw-r--r--   1 pmackenz  staff        23 Sep 30 09:43 momandpopstore.py\r\n",
      "-rw-r--r--@  1 pmackenz  staff        67 Sep 30 09:43 myDataFile.txt\r\n",
      "-rw-r--r--   1 pmackenz  staff     27654 Sep 30 09:43 myWebData.csv\r\n",
      "-rw-r--r--   1 pmackenz  staff      1138 Sep 30 09:43 point.py\r\n",
      "-rw-r--r--   1 pmackenz  staff        52 Sep 30 09:43 simpleData.txt\r\n",
      "-rw-r--r--   1 pmackenz  staff        23 Sep 30 09:43 warehouse.py\r\n"
     ]
    }
   ],
   "source": [
    "%ll"
   ]
  },
  {
   "cell_type": "code",
   "execution_count": 12,
   "metadata": {},
   "outputs": [
    {
     "name": "stdout",
     "output_type": "stream",
     "text": [
      "Total number of aliases: 12\n"
     ]
    },
    {
     "data": {
      "text/plain": [
       "[('cat', 'cat'),\n",
       " ('cp', 'cp'),\n",
       " ('ldir', 'ls -F -G -l %l | grep /$'),\n",
       " ('lf', 'ls -F -l -G %l | grep ^-'),\n",
       " ('lk', 'ls -F -l -G %l | grep ^l'),\n",
       " ('ll', 'ls -F -l -G'),\n",
       " ('ls', 'ls -F -G'),\n",
       " ('lx', 'ls -F -l -G %l | grep ^-..x'),\n",
       " ('mkdir', 'mkdir'),\n",
       " ('mv', 'mv'),\n",
       " ('rm', 'rm'),\n",
       " ('rmdir', 'rmdir')]"
      ]
     },
     "execution_count": 12,
     "metadata": {},
     "output_type": "execute_result"
    }
   ],
   "source": [
    "%alias"
   ]
  },
  {
   "cell_type": "code",
   "execution_count": 15,
   "metadata": {},
   "outputs": [
    {
     "data": {
      "text/plain": [
       "['total 38832',\n",
       " '-rw-r--r--@  1 pmackenz  staff     85753 Sep 30 09:43 03 Plotting using matplotlib.ipynb',\n",
       " '-rw-r--r--@  1 pmackenz  staff     27103 Sep 30 09:43 05 Classes.ipynb',\n",
       " '-rw-r--r--@  1 pmackenz  staff      8765 Sep 30 09:43 05.1 Exercise Classes.ipynb',\n",
       " '-rw-r--r--@  1 pmackenz  staff     15569 Sep 30 09:43 05.2 Solution of Exercise Classes.ipynb',\n",
       " '-rw-r--r--@  1 pmackenz  staff     10665 Sep 30 09:43 06 Modules.ipynb',\n",
       " '-rw-r--r--@  1 pmackenz  staff      3288 Sep 30 09:43 06.1 Exercise Modules.ipynb',\n",
       " '-rw-r--r--@  1 pmackenz  staff      6002 Sep 30 09:43 06.2 Solution of Exercise Modules.ipynb',\n",
       " 'drwxr-xr-x   8 pmackenz  staff       256 Sep 30 09:43 07 ML',\n",
       " '-rw-r--r--@  1 pmackenz  staff      2831 Sep 30 09:43 07 Machine Learning AI.ipynb',\n",
       " '-rw-r--r--@  1 pmackenz  staff    989648 Sep 30 09:43 08 User Interface with PyQt5.ipynb',\n",
       " '-rw-r--r--@  1 pmackenz  staff      2258 Sep 30 09:43 09 SQL Databases.ipynb',\n",
       " '-rw-r--r--   1 pmackenz  staff    528747 Sep 30 09:43 10 Web Scrabbing.ipynb',\n",
       " '-rw-r--r--   1 pmackenz  staff     19786 Sep 30 09:43 ExampleData.txt',\n",
       " '-rw-r--r--   1 pmackenz  staff    348933 Sep 30 09:43 ExcelDemo.xlsx',\n",
       " 'drwxr-xr-x   9 pmackenz  staff       288 Sep 30 09:43 GIS',\n",
       " '-rw-r--r--@  1 pmackenz  staff      5540 Sep 30 09:43 MyExcelFile.xlsx',\n",
       " '-rw-r--r--   1 pmackenz  staff      2322 Sep 30 09:43 MyWidget.py',\n",
       " 'drwxr-xr-x   4 pmackenz  staff       128 Sep 30 09:43 Web',\n",
       " '-rwxr-xr-x   1 pmackenz  staff  15368016 Sep 30 09:43 WebDriver',\n",
       " '-rw-r--r--   1 pmackenz  staff         0 Sep 30 09:43 common.py',\n",
       " '-rw-r--r--   1 pmackenz  staff        23 Sep 30 09:43 customer.py',\n",
       " 'drwxr-xr-x   5 pmackenz  staff       160 Sep 30 09:43 demo',\n",
       " '-rw-r--r--@  1 pmackenz  staff     24554 Sep 30 09:43 examplefigure.png',\n",
       " '-rw-r--r--   1 pmackenz  staff        23 Sep 30 09:43 hello.py',\n",
       " '-rw-r--r--   1 pmackenz  staff      1467 Sep 30 09:43 lastExample.py',\n",
       " '-rw-r--r--   1 pmackenz  staff       226 Sep 30 09:43 makeSampleData.py',\n",
       " '-rw-r--r--   1 pmackenz  staff        23 Sep 30 09:43 momandpopstore.py',\n",
       " '-rw-r--r--@  1 pmackenz  staff        67 Sep 30 09:43 myDataFile.txt',\n",
       " '-rw-r--r--   1 pmackenz  staff     27654 Sep 30 09:43 myWebData.csv',\n",
       " '-rw-r--r--   1 pmackenz  staff      1138 Sep 30 09:43 point.py',\n",
       " '-rw-r--r--   1 pmackenz  staff        52 Sep 30 09:43 simpleData.txt',\n",
       " '-rw-r--r--   1 pmackenz  staff        23 Sep 30 09:43 warehouse.py',\n",
       " '-rw-r--r--@  1 pmackenz  staff      3492 Sep 30 10:18 00 Outline.ipynb',\n",
       " '-rw-r--r--   1 pmackenz  staff      1863 Sep 30 15:37 Demo Notebook.ipynb',\n",
       " '-rw-r--r--@  1 pmackenz  staff     13808 Oct  7 16:40 01.1 Exercise_Functions.ipynb',\n",
       " '-rw-r--r--@  1 pmackenz  staff      9840 Oct 12 00:06 02.3 Exercise on more matrix operations.ipynb',\n",
       " '-rw-r--r--@  1 pmackenz  staff     45975 Oct 12 00:07 02.4 Solution for Exercise on more matrix operations.ipynb',\n",
       " '-rw-r--r--@  1 pmackenz  staff     14510 Oct 12 14:41 01.2 Solution of Exercise_Functions.ipynb',\n",
       " 'drwxr-xr-x   3 pmackenz  staff        96 Oct 12 18:10 Student_Submissions',\n",
       " '-rw-r--r--   1 pmackenz  staff    279067 Oct 12 19:30 07 ML_basics.ipynb',\n",
       " '-rw-r--r--@  1 pmackenz  staff      3263 Oct 13 12:02 03.1 Exercise Plotting.ipynb',\n",
       " '-rw-r--r--@  1 pmackenz  staff    182028 Oct 13 12:03 03.2 Solution of Exercise Plotting.ipynb',\n",
       " '-rw-r--r--@  1 pmackenz  staff     45844 Oct 13 13:06 02.2 Solution of Exercise numpy.ipynb',\n",
       " '-rw-r--r--@  1 pmackenz  staff     21214 Oct 14 16:17 02.1 Exercise numpy.ipynb',\n",
       " '-rw-r--r--@  1 pmackenz  staff     31815 Oct 17 13:34 01 Basic Concepts.ipynb',\n",
       " '-rw-r--r--@  1 pmackenz  staff   1149788 Oct 18 21:51 04 File handling.ipynb',\n",
       " '-rw-r--r--@  1 pmackenz  staff     16946 Oct 20 12:18 02 Matrix Data Types.ipynb',\n",
       " 'drwxr-xr-x   4 pmackenz  staff       128 Oct 20 17:10 Mechanics',\n",
       " '-rw-r--r--   1 pmackenz  staff      7368 Oct 21 10:44 99 System Information Scripts.ipynb',\n",
       " '-rw-r--r--   1 pmackenz  staff     23355 Oct 21 13:56 Problem3.xlsx',\n",
       " '-rw-r--r--@  1 pmackenz  staff     71311 Oct 21 13:57 04.2 Solution of Exercise File handling.ipynb',\n",
       " 'drwxr-xr-x@ 20 pmackenz  staff       640 Oct 21 16:37 LessonNotes',\n",
       " '-rw-r--r--@  1 pmackenz  staff      2813 Oct 21 16:46 04.1 Exercise File handling.ipynb',\n",
       " '-rw-r--r--   1 pmackenz  staff     14010 Oct 21 23:23 98 Exploring special features of jupyter notebooks.ipynb']"
      ]
     },
     "execution_count": 15,
     "metadata": {},
     "output_type": "execute_result"
    }
   ],
   "source": [
    "%system ls -lrt"
   ]
  },
  {
   "cell_type": "code",
   "execution_count": 16,
   "metadata": {},
   "outputs": [
    {
     "name": "stdout",
     "output_type": "stream",
     "text": [
      "Hello, Frank!\n"
     ]
    }
   ],
   "source": [
    "%run hello.py"
   ]
  },
  {
   "cell_type": "code",
   "execution_count": null,
   "metadata": {},
   "outputs": [],
   "source": []
  }
 ],
 "metadata": {
  "kernelspec": {
   "display_name": "Python 3",
   "language": "python",
   "name": "python3"
  },
  "language_info": {
   "codemirror_mode": {
    "name": "ipython",
    "version": 3
   },
   "file_extension": ".py",
   "mimetype": "text/x-python",
   "name": "python",
   "nbconvert_exporter": "python",
   "pygments_lexer": "ipython3",
   "version": "3.8.5"
  }
 },
 "nbformat": 4,
 "nbformat_minor": 4
}
