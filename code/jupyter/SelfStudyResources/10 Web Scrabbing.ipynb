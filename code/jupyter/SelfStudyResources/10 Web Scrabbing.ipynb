{
 "cells": [
  {
   "cell_type": "markdown",
   "metadata": {},
   "source": [
    "# SimCenter Programming Bootcamp: Web scrabbing using python\n",
    "\n",
    "## by Wael Elhaddad\n",
    "(ported to jupyter notebooks by Peter Mackenzie-Helnwein)\n",
    "\n",
    "University of California at Berkeley, CA, United States"
   ]
  },
  {
   "cell_type": "markdown",
   "metadata": {},
   "source": [
    "## Part 1: Session opening by Wael Elhaddad\n",
    "**Start this session** by watching the first 30 minutes of https://youtu.be/VH-slcnmTJc "
   ]
  },
  {
   "cell_type": "markdown",
   "metadata": {},
   "source": [
    "## Part 2: \"Request\""
   ]
  },
  {
   "cell_type": "markdown",
   "metadata": {},
   "source": [
    "Loading the supporting modules"
   ]
  },
  {
   "cell_type": "code",
   "execution_count": null,
   "metadata": {},
   "outputs": [],
   "source": [
    "import requests"
   ]
  },
  {
   "cell_type": "code",
   "execution_count": null,
   "metadata": {},
   "outputs": [],
   "source": [
    "#Let's request the tall buildings information\n",
    "response = requests.get(\"https://data.sfgov.org/resource/5kya-mfst.json\")\n"
   ]
  },
  {
   "cell_type": "code",
   "execution_count": null,
   "metadata": {},
   "outputs": [],
   "source": [
    "#Let's check the response is OK (return code 200)\n",
    "if(response.status_code == 200):\n",
    "    #We will convert the response to json \n",
    "    tallBuildings = response.json()\n",
    "    \n",
    "    #we will read the first building in the response and print some information\n",
    "    building = tallBuildings[0]\n",
    "    print(\"Building Name\", [\"name\"])\n",
    "    print(\"\\tOccupancy: \", building[\"occupancy\"])\n",
    "    print(\"\\tAddress: \", building[\"address\"])\n"
   ]
  },
  {
   "cell_type": "markdown",
   "metadata": {},
   "source": [
    "### Excercise 1: Print to the screen the list of buildings \n",
    "\n",
    "including relevant information about the building like \n",
    "* structure type\n",
    "* occupancy, \n",
    "* number of stories,\n",
    "* total area."
   ]
  },
  {
   "cell_type": "code",
   "execution_count": null,
   "metadata": {},
   "outputs": [],
   "source": [
    "tallBuildings[0]"
   ]
  },
  {
   "cell_type": "code",
   "execution_count": null,
   "metadata": {},
   "outputs": [],
   "source": [
    "for building in tallBuildings:\n",
    "    print(\"Building Name\", [\"name\"])\n",
    "    print(\"\\tStructure type: \", building[\"structural_types\"])\n",
    "    print(\"\\tOccupancy: \", building[\"occupancy\"])\n",
    "    print(\"\\tAddress: \", building[\"address\"])\n",
    "    print(\"\\tArea: \", building[\"shape_area\"])"
   ]
  },
  {
   "cell_type": "markdown",
   "metadata": {},
   "source": [
    "### Excercise 2: Write the data from excercise 1 into a csv text file including latitude and longitude\n",
    "\n"
   ]
  },
  {
   "cell_type": "code",
   "execution_count": null,
   "metadata": {},
   "outputs": [],
   "source": []
  },
  {
   "cell_type": "markdown",
   "metadata": {},
   "source": [
    "### Exercise 3: Can we get PGA from USGS API for each building and include it in the output file"
   ]
  },
  {
   "cell_type": "markdown",
   "metadata": {},
   "source": [
    "## Part 3: \"Selenium\"\n",
    "\n",
    "For this part, you need to install an additional driver that depends upon your default web browser.\n",
    "\n",
    "* Main page: https://www.selenium.dev/\n",
    "* WebDriver (look for the **browser** section): https://www.selenium.dev/downloads/\n",
    "   * chrome: https://sites.google.com/a/chromium.org/chromedriver/\n",
    "   * safari: https://developer.apple.com/documentation/webkit/about_webdriver_for_safari\n",
    "   * edge: https://developer.microsoft.com/en-us/microsoft-edge/tools/webdriver/#downloads\n",
    "* Selenium IDE:\n",
    "   * chrome: https://chrome.google.com/webstore/detail/selenium-ide/mooikfkahbdckldjjndioackbalphokd\n",
    "   * firefox: https://addons.mozilla.org/en-US/firefox/addon/selenium-ide/"
   ]
  },
  {
   "cell_type": "markdown",
   "metadata": {},
   "source": [
    "Loading the supporting modules"
   ]
  },
  {
   "cell_type": "code",
   "execution_count": null,
   "metadata": {},
   "outputs": [],
   "source": [
    "import sys\n",
    "import os\n",
    "from selenium import webdriver\n",
    "from selenium.webdriver.support.ui import WebDriverWait\n",
    "from bs4 import BeautifulSoup"
   ]
  },
  {
   "cell_type": "code",
   "execution_count": null,
   "metadata": {},
   "outputs": [],
   "source": [
    "#Starting the browser and opening tax assessor's data website for Anchorage\n",
    "browser = webdriver.Chrome('./WebDriver') \n",
    "url = \"https://www.muni.org/pw/public.html\"\n",
    "browser.get(url)\n"
   ]
  },
  {
   "cell_type": "code",
   "execution_count": null,
   "metadata": {},
   "outputs": [],
   "source": [
    "#Fill parcel search box with zero\n",
    "parcelBox1 = browser.find_element_by_name(\"PAR1\")\n",
    "parcelBox1.send_keys('0')\n",
    "\n",
    "#Click on Submit\n",
    "submitButton = browser.find_element_by_name(\"submitbtn\") \n",
    "submitButton.click()\n"
   ]
  },
  {
   "cell_type": "code",
   "execution_count": null,
   "metadata": {},
   "outputs": [],
   "source": [
    "for i in range(1,3):\n",
    "    print(\"Processing results page {}\".format(i))\n",
    "    #Finding the parcels table with XPath\n",
    "    parcelsTable = browser.find_elements_by_xpath(\"//table[1]/tbody/tr[2]/td/table[5]/tbody/tr\")\n",
    "    parcelsCount = len(parcelsTable)\n",
    "\n",
    "    #Looping through the parcels table rows\n",
    "    for i in range(1, parcelsCount):\n",
    "        #extracting the parcel id\n",
    "        parcelRow = browser.find_element_by_xpath(\"//table[1]/tbody/tr[2]/td/table[5]/tbody/tr[{}]\".format(i+1))\n",
    "        parcelIdCell = parcelRow.find_element_by_xpath(\".//td[1]\")\n",
    "        if parcelIdCell is not None:\n",
    "            parcelId = parcelIdCell.text\n",
    "            \n",
    "            #Clinking on the parcel to open the parcel details\n",
    "            parcelIdCell.click()\n",
    "            WebDriverWait(browser, 10)\n",
    "\n",
    "            occupancy = 'unknown'\n",
    "            #We can now parse the parcel details\n",
    "            #e.g. let's find the occupancy\n",
    "            try:\n",
    "                parcelSoup = BeautifulSoup(browser.page_source, \"html.parser\")\n",
    "                \n",
    "                #We will assume the header is always the seventh table row (maybe using trial and error)\n",
    "                parcelHeader = parcelSoup.findAll('tr')[7].text\n",
    "\n",
    "                #We will read the header\n",
    "                if('Residential' in parcelHeader):\n",
    "                    occupancy = 'Residential'\n",
    "                elif('Commercial' in parcelHeader):\n",
    "                    occupancy = 'Commercial'\n",
    "\n",
    "            except:\n",
    "                \"Error: Failed to process parcel: \" + parcelId\n",
    "\n",
    "            print(\"Parcel: {} is {}\".format(parcelId, occupancy))\n",
    "\n",
    "            #clicking on the back button\n",
    "            backButton = browser.find_element_by_name(\"backbtn\")\n",
    "            backButton.click()\n",
    "    #Going to next page in the search results       \n",
    "    nextButton = browser.find_element_by_name(\"nextbtn\")\n",
    "    nextButton.click()"
   ]
  },
  {
   "cell_type": "markdown",
   "metadata": {},
   "source": [
    "### Excercise 4: Can we extract more information about these buildings\n",
    "e.g. \n",
    "* number of stories, \n",
    "* year built, \n",
    "* area\n",
    "* etc."
   ]
  },
  {
   "cell_type": "markdown",
   "metadata": {},
   "source": [
    "### Excercise 5: Now let's do this for Washington State\n",
    "\n",
    "https://wa-geoservices.maps.arcgis.com/home/item.html?id=3dca0b72eae94c098b21329e1e61afd7\n",
    "\n",
    "Knowing I live in Washington State, how could you design a program to find my home address?"
   ]
  },
  {
   "cell_type": "markdown",
   "metadata": {},
   "source": [
    "## Further recommendations\n",
    "\n",
    "Here is the package for data mining from the web that I used earlier: https://github.com/clips/pattern\n",
    "\n",
    "Pattern is a web mining module for Python. It has tools for:\n",
    "\n",
    "* Data Mining: web services (Google, Twitter, Wikipedia), web crawler, HTML DOM parser\n",
    "* Natural Language Processing: part-of-speech taggers, n-gram search, sentiment analysis, WordNet\n",
    "* Machine Learning: vector space model, clustering, classification (KNN, SVM, Perceptron)\n",
    "* Network Analysis: graph centrality and visualization.\n",
    "\n",
    "It is well documented, thoroughly tested with 350+ unit tests and comes bundled with 50+ examples. The source code is licensed under BSD.\n",
    "\n",
    "<img src=\"https://raw.githubusercontent.com/clips/pattern/master/docs/g/pattern_schema.gif\">"
   ]
  },
  {
   "cell_type": "markdown",
   "metadata": {},
   "source": [
    "## Visualizing geospatial data\n",
    "\n",
    "We recommend the **geopandas** library for easy visualization of GIS data.  You can find several easy to follow tutorials on youTube, e.g., \n",
    "* [Introduction to Visualizing Geospatial Data with Python GeoPandas](https://www.youtube.com/watch?v=IdxL5NZ7h_c) (~30 mins)\n",
    "* [Introduction to Spatial Analysis in Python with Geopandas - Tutorial](https://www.youtube.com/watch?v=h5sy0z2BUTo) (~15 mins)"
   ]
  },
  {
   "cell_type": "markdown",
   "metadata": {},
   "source": [
    "I am using example data files from th elatter video. Source: https://drive.google.com/drive/folders/1C_Zx4r-zRyc_9mNJ0XFZM4CDKuvtITaW"
   ]
  },
  {
   "cell_type": "code",
   "execution_count": null,
   "metadata": {},
   "outputs": [],
   "source": [
    "import geopandas as gpd\n",
    "import matplotlib.pyplot as plt \n",
    "from mpl_toolkits.axes_grid1 import make_axes_locatable "
   ]
  },
  {
   "cell_type": "code",
   "execution_count": null,
   "metadata": {},
   "outputs": [],
   "source": [
    "# Reading the world shapefile \n",
    "world_data = gpd.read_file('./GIS/Visualizing Geographical Data/world.shp')\n",
    "world_data = world_data[['NAME', 'geometry']]\n",
    "\n",
    "# Calculating the area of each country \n",
    "world_data['area'] = world_data.area\n",
    "\n",
    "# Removing Antarctica from GeoPandas GeoDataframe\n",
    "world_data = world_data[world_data['NAME'] != 'Antarctica']\n",
    "world_data.plot()"
   ]
  },
  {
   "cell_type": "markdown",
   "metadata": {},
   "source": [
    "#### Here with the recommended re-projection (see https://geopandas.org/projections.html#re-projecting)"
   ]
  },
  {
   "cell_type": "code",
   "execution_count": null,
   "metadata": {},
   "outputs": [],
   "source": [
    "world_data.to_crs(epsg=3395).plot()"
   ]
  },
  {
   "cell_type": "code",
   "execution_count": null,
   "metadata": {},
   "outputs": [],
   "source": [
    "# Changing the projection and adding color\n",
    "current_crs = world_data.crs   \n",
    "world_data.to_crs(epsg = 3857, inplace = True)\n",
    "world_data.plot(column = 'NAME', cmap = 'hsv')"
   ]
  },
  {
   "cell_type": "code",
   "execution_count": null,
   "metadata": {},
   "outputs": [],
   "source": [
    "# Re-calculate the areas in Sq. Km.\n",
    "world_data['area'] = world_data.area/1000000\n",
    "\n",
    "# Adding a legend \n",
    "world_data.plot(column = 'area' , cmap = 'hsv' , legend = True, \n",
    "                legend_kwds = {'label': \"Area of the country (Sq. Km.)\"}, figsize = (7,7))\n"
   ]
  },
  {
   "cell_type": "code",
   "execution_count": null,
   "metadata": {},
   "outputs": [],
   "source": [
    "# Resizing the legend \n",
    "plt.clf\n",
    "fig, ax = plt.subplots(figsize = (8,8))\n",
    "divider = make_axes_locatable(ax)\n",
    "cax = divider.append_axes(\"right\", size = \"7%\", pad = 0.1)\n",
    "\n",
    "world_data.plot(column = 'area' , cmap = 'hsv' , legend = True,  \n",
    "                legend_kwds = {'label': \"Area of the country (Sq. Km.)\"}, \n",
    "                ax = ax, cax = cax)\n"
   ]
  },
  {
   "cell_type": "code",
   "execution_count": null,
   "metadata": {},
   "outputs": [],
   "source": [
    "%matplotlib inline"
   ]
  },
  {
   "cell_type": "markdown",
   "metadata": {},
   "source": [
    "\n",
    "Plotting with Geoplot and GeoPandas\n",
    "-----------------------------------\n",
    "\n",
    "`Geoplot <https://residentmario.github.io/geoplot/index.html>`_ is a Python\n",
    "library providing a selection of easy-to-use geospatial visualizations. It is\n",
    "built on top of the lower-level `CartoPy <http://scitools.org.uk/cartopy/>`_,\n",
    "covered in a separate section of this tutorial, and is designed to work with\n",
    "GeoPandas input.\n",
    "\n",
    "This example is a brief tour of the `geoplot` API. For more details on the\n",
    "library refer to `its documentation\n",
    "<https://residentmario.github.io/geoplot/index.html>`_.\n",
    "\n",
    "First we'll load in the data using GeoPandas.\n"
   ]
  },
  {
   "cell_type": "code",
   "execution_count": null,
   "metadata": {},
   "outputs": [],
   "source": [
    "import geopandas\n",
    "import geoplot\n",
    "\n",
    "world = geopandas.read_file(\n",
    "    geopandas.datasets.get_path('naturalearth_lowres')\n",
    ")\n",
    "boroughs = geopandas.read_file(\n",
    "    geoplot.datasets.get_path('nyc_boroughs')\n",
    ")\n",
    "collisions = geopandas.read_file(\n",
    "    geoplot.datasets.get_path('nyc_injurious_collisions')\n",
    ")"
   ]
  },
  {
   "cell_type": "markdown",
   "metadata": {},
   "source": [
    "Plotting with Geoplot\n",
    "=====================\n",
    "\n",
    "We start out by replicating the basic GeoPandas world plot using Geoplot.\n",
    "\n"
   ]
  },
  {
   "cell_type": "code",
   "execution_count": null,
   "metadata": {},
   "outputs": [],
   "source": [
    "geoplot.polyplot(world, figsize=(8, 4))"
   ]
  },
  {
   "cell_type": "markdown",
   "metadata": {},
   "source": [
    "Geoplot can re-project data into any of the map projections provided by\n",
    "CartoPy (see the list\n",
    "`here <http://scitools.org.uk/cartopy/docs/latest/crs/projections.html>`_).\n",
    "\n"
   ]
  },
  {
   "cell_type": "code",
   "execution_count": null,
   "metadata": {},
   "outputs": [],
   "source": [
    "# use the Orthographic map projection (e.g. a world globe)\n",
    "ax = geoplot.polyplot(\n",
    "    world, projection=geoplot.crs.Orthographic(), figsize=(8, 4)\n",
    ")\n",
    "ax.outline_patch.set_visible(True)"
   ]
  },
  {
   "cell_type": "markdown",
   "metadata": {},
   "source": [
    "``polyplot`` is trivial and can only plot the geometries you pass to it. If\n",
    "you want to use color as a visual variable, specify a ``choropleth``. Here\n",
    "we sort GDP per person by country into five buckets by color, using\n",
    "\"quantiles\" binning from the `Mapclassify <https://pysal.org/mapclassify/>`_\n",
    "library.\n",
    "\n"
   ]
  },
  {
   "cell_type": "code",
   "execution_count": null,
   "metadata": {},
   "outputs": [],
   "source": [
    "import mapclassify\n",
    "gpd_per_person = world['gdp_md_est'] / world['pop_est']\n",
    "scheme = mapclassify.Quantiles(gpd_per_person, k=5)\n",
    "\n",
    "# Note: this code sample requires geoplot>=0.4.0.\n",
    "geoplot.choropleth(\n",
    "    world, hue=gpd_per_person, scheme=scheme,\n",
    "    cmap='Greens', figsize=(8, 4)\n",
    ")"
   ]
  },
  {
   "cell_type": "markdown",
   "metadata": {},
   "source": [
    "If you want to use size as a visual variable, use a ``cartogram``. Here are\n",
    "population estimates for countries in Africa.\n",
    "\n"
   ]
  },
  {
   "cell_type": "code",
   "execution_count": null,
   "metadata": {},
   "outputs": [],
   "source": [
    "africa = world.query('continent == \"Africa\"')\n",
    "ax = geoplot.cartogram(\n",
    "    africa, scale='pop_est', limits=(0.2, 1),\n",
    "    edgecolor='None', figsize=(7, 8)\n",
    ")\n",
    "geoplot.polyplot(africa, edgecolor='gray', ax=ax)"
   ]
  },
  {
   "cell_type": "markdown",
   "metadata": {},
   "source": [
    "If we have data in the shape of points in space, we may generate a\n",
    "three-dimensional heatmap on it using ``kdeplot``.\n",
    "\n"
   ]
  },
  {
   "cell_type": "code",
   "execution_count": null,
   "metadata": {},
   "outputs": [],
   "source": [
    "ax = geoplot.kdeplot(\n",
    "    collisions.head(1000), clip=boroughs.geometry,\n",
    "    shade=True, cmap='Reds',\n",
    "    projection=geoplot.crs.AlbersEqualArea())\n",
    "geoplot.polyplot(boroughs, ax=ax, zorder=1)"
   ]
  },
  {
   "cell_type": "markdown",
   "metadata": {},
   "source": [
    "Alternatively, we may partition the space into neighborhoods automatically,\n",
    "using Voronoi tessellation. This is a good way of visually verifying whether\n",
    "or not a certain data column is spatially correlated.\n",
    "\n"
   ]
  },
  {
   "cell_type": "markdown",
   "metadata": {},
   "source": [
    "These are just some of the plots you can make with Geoplot. There are\n",
    "many other possibilities not covered in this brief introduction. For more\n",
    "examples, refer to the\n",
    "`Gallery <https://residentmario.github.io/geoplot/gallery/index.html>`_ in\n",
    "the Geoplot documentation.\n",
    "\n"
   ]
  },
  {
   "cell_type": "markdown",
   "metadata": {},
   "source": [
    "\n",
    "## Adding a background map to plots\n",
    "\n",
    "source: https://geopandas.org/gallery/plotting_basemap_background.html\n",
    "\n",
    "This example shows how you can add a background basemap to plots created\n",
    "with the geopandas ``.plot()`` method. This makes use of the\n",
    "`contextily <https://github.com/geopandas/contextily>`__ package to retrieve\n",
    "web map tiles from several sources (OpenStreetMap, Stamen).\n",
    "\n"
   ]
  },
  {
   "cell_type": "code",
   "execution_count": null,
   "metadata": {},
   "outputs": [],
   "source": [
    "import geopandas\n",
    "\n",
    "###############################################################################\n",
    "# Let's use the NYC borough boundary data that is available in geopandas\n",
    "# datasets. Plotting this gives the following result:\n",
    "\n",
    "df = geopandas.read_file(geopandas.datasets.get_path('nybb'))\n",
    "ax = df.plot(figsize=(10, 10), alpha=0.5, edgecolor='k')\n"
   ]
  },
  {
   "cell_type": "code",
   "execution_count": null,
   "metadata": {},
   "outputs": [],
   "source": [
    "###############################################################################\n",
    "# Convert the data to Web Mercator\n",
    "# ================================\n",
    "#\n",
    "# Web map tiles are typically provided in\n",
    "# `Web Mercator <https://en.wikipedia.org/wiki/Web_Mercator>`__\n",
    "# (`EPSG 3857 <https://epsg.io/3857>`__), so we need to make sure to convert\n",
    "# our data first to the same CRS to combine our polygons and background tiles\n",
    "# in the same map:\n",
    "\n",
    "df = df.to_crs(epsg=3857)\n",
    "\n",
    "###############################################################################\n",
    "\n",
    "import contextily as ctx\n",
    "\n",
    "###############################################################################\n",
    "# Add background tiles to plot\n",
    "# ============================\n",
    "#\n",
    "# We can use `add_basemap` function of contextily to easily add a background\n",
    "# map to our plot. :\n",
    "\n",
    "ax = df.plot(figsize=(10, 10), alpha=0.5, edgecolor='k')\n",
    "ctx.add_basemap(ax)\n",
    "\n"
   ]
  },
  {
   "cell_type": "code",
   "execution_count": null,
   "metadata": {},
   "outputs": [],
   "source": [
    "###############################################################################\n",
    "# We can control the detail of the map tiles using the optional `zoom` keyword\n",
    "# (be careful to not specify a too high `zoom` level,\n",
    "# as this can result in a large download).:\n",
    "\n",
    "ax = df.plot(figsize=(10, 10), alpha=0.5, edgecolor='k')\n",
    "ctx.add_basemap(ax, zoom=12)\n",
    "\n"
   ]
  },
  {
   "cell_type": "code",
   "execution_count": null,
   "metadata": {},
   "outputs": [],
   "source": [
    "###############################################################################\n",
    "# By default, contextily uses the Stamen Terrain style. We can specify a\n",
    "# different style using ``ctx.providers``:\n",
    "\n",
    "ax = df.plot(figsize=(10, 10), alpha=0.5, edgecolor='k')\n",
    "ctx.add_basemap(ax, url=ctx.providers.Stamen.TonerLite)\n",
    "ax.set_axis_off()"
   ]
  },
  {
   "cell_type": "code",
   "execution_count": null,
   "metadata": {},
   "outputs": [],
   "source": []
  }
 ],
 "metadata": {
  "kernelspec": {
   "display_name": "Python 3",
   "language": "python",
   "name": "python3"
  },
  "language_info": {
   "codemirror_mode": {
    "name": "ipython",
    "version": 3
   },
   "file_extension": ".py",
   "mimetype": "text/x-python",
   "name": "python",
   "nbconvert_exporter": "python",
   "pygments_lexer": "ipython3",
   "version": "3.8.5"
  }
 },
 "nbformat": 4,
 "nbformat_minor": 4
}
