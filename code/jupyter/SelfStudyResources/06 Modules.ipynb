{
 "cells": [
  {
   "cell_type": "markdown",
   "metadata": {},
   "source": [
    "# A Python Quick Start Tutorial - Part 6\n",
    "\n",
    "## by Peter Mackenzie-Helnwein\n",
    "University of Washington, Seattle, WA\n",
    "\n",
    "pmackenz@uw.edu          \n",
    "https://www.ce.washington.edu/facultyfinder/peter-mackenzie-helnwein"
   ]
  },
  {
   "cell_type": "markdown",
   "metadata": {},
   "source": [
    "# Modules\n",
    "\n",
    "Python comes with a huge range of extension libraries (modules: [module index](https://docs.python.org/3/py-modindex.html)), allowing us to dynamically extend its abilities.  Moreover, it is easy to create your own modules and share them with the python community.  We will only discuss the most basic version of creating and using your own modules.  Read [the respective chapter in the manual](https://docs.python.org/3/tutorial/modules.html) for a more detailed discussion.\n",
    "\n"
   ]
  },
  {
   "cell_type": "markdown",
   "metadata": {},
   "source": [
    "We already imported modules, namely numpy and matplotlib.  The command to use is **import**.  There are, however, many ways of importing modules or parts of modules:"
   ]
  },
  {
   "cell_type": "code",
   "execution_count": 1,
   "metadata": {},
   "outputs": [
    {
     "data": {
      "text/plain": [
       "0.8660254037844386"
      ]
     },
     "execution_count": 1,
     "metadata": {},
     "output_type": "execute_result"
    }
   ],
   "source": [
    "import math\n",
    "\n",
    "math.sin(math.pi/3)"
   ]
  },
  {
   "cell_type": "code",
   "execution_count": 2,
   "metadata": {},
   "outputs": [
    {
     "data": {
      "text/plain": [
       "0.5000000000000001"
      ]
     },
     "execution_count": 2,
     "metadata": {},
     "output_type": "execute_result"
    }
   ],
   "source": [
    "from math import pi, cos\n",
    "\n",
    "cos(pi/3)"
   ]
  },
  {
   "cell_type": "markdown",
   "metadata": {},
   "source": [
    "The second usually form makes the code more readable.  However, modules may contain functions with identical names, e.g., the real analysis functions are containes in **math** while complex versions are contained in **cmath**.  In cases where both versions are needed, only the long option yields the necessary control."
   ]
  },
  {
   "cell_type": "code",
   "execution_count": 3,
   "metadata": {},
   "outputs": [
    {
     "name": "stdout",
     "output_type": "stream",
     "text": [
      "0.8660254037844386 (0.8660254037844386+0j)\n",
      "cmath.exp(): 1.2493670505239751j\n",
      "math.exp():  requires a real argument\n"
     ]
    }
   ],
   "source": [
    "import cmath\n",
    "\n",
    "print(math.sin(pi/3), cmath.sin(pi/3))\n",
    "print(\"cmath.exp():\",cmath.sin(1.j*pi/3))\n",
    "\n",
    "try:\n",
    "    print(math.exp(1.j*pi/3))\n",
    "except:\n",
    "    print(\"math.exp():  requires a real argument\")"
   ]
  },
  {
   "cell_type": "markdown",
   "metadata": {},
   "source": [
    "Another useful feature of **import** is to assign aliases to a module.  This can be used to shorten the reference, as we did with **numpy**:"
   ]
  },
  {
   "cell_type": "code",
   "execution_count": 4,
   "metadata": {},
   "outputs": [
    {
     "data": {
      "text/plain": [
       "array([0.09983342, 0.19866933, 0.29552021])"
      ]
     },
     "execution_count": 4,
     "metadata": {},
     "output_type": "execute_result"
    }
   ],
   "source": [
    "import numpy as np\n",
    "\n",
    "np.sin([0.1, 0.2, 0.3])"
   ]
  },
  {
   "cell_type": "markdown",
   "metadata": {},
   "source": [
    "Yet another use for aliasing is to easily switch between modules that perform similar tasks like, e.g., interface libraries to various database systems (the sample code is not designed to run, just to illustrate an easy switch between libraries without changing the rest of the code):"
   ]
  },
  {
   "cell_type": "code",
   "execution_count": 5,
   "metadata": {},
   "outputs": [
    {
     "ename": "TypeError",
     "evalue": "function missing required argument 'database' (pos 1)",
     "output_type": "error",
     "traceback": [
      "\u001b[0;31m---------------------------------------------------------------------------\u001b[0m",
      "\u001b[0;31mTypeError\u001b[0m                                 Traceback (most recent call last)",
      "\u001b[0;32m<ipython-input-5-d33c22879b14>\u001b[0m in \u001b[0;36m<module>\u001b[0;34m\u001b[0m\n\u001b[1;32m      3\u001b[0m \u001b[0;31m# import postgressql as DBI\u001b[0m\u001b[0;34m\u001b[0m\u001b[0;34m\u001b[0m\u001b[0;34m\u001b[0m\u001b[0m\n\u001b[1;32m      4\u001b[0m \u001b[0;34m\u001b[0m\u001b[0m\n\u001b[0;32m----> 5\u001b[0;31m \u001b[0mdb\u001b[0m \u001b[0;34m=\u001b[0m \u001b[0mDBI\u001b[0m\u001b[0;34m.\u001b[0m\u001b[0mconnect\u001b[0m\u001b[0;34m(\u001b[0m\u001b[0;34m)\u001b[0m\u001b[0;34m\u001b[0m\u001b[0;34m\u001b[0m\u001b[0m\n\u001b[0m\u001b[1;32m      6\u001b[0m \u001b[0mcu\u001b[0m \u001b[0;34m=\u001b[0m \u001b[0mdb\u001b[0m\u001b[0;34m.\u001b[0m\u001b[0mcursor\u001b[0m\u001b[0;34m(\u001b[0m\u001b[0;34m)\u001b[0m\u001b[0;34m\u001b[0m\u001b[0;34m\u001b[0m\u001b[0m\n\u001b[1;32m      7\u001b[0m \u001b[0;34m\u001b[0m\u001b[0m\n",
      "\u001b[0;31mTypeError\u001b[0m: function missing required argument 'database' (pos 1)"
     ]
    }
   ],
   "source": [
    "import sqlite3 as DBI\n",
    "# import mysqldb as DBI\n",
    "# import postgressql as DBI\n",
    "\n",
    "db = DBI.connect()\n",
    "cu = db.cursor()\n",
    "\n",
    "db.commit()"
   ]
  },
  {
   "cell_type": "markdown",
   "metadata": {},
   "source": [
    "## Building and using your simple modules\n",
    "\n",
    "The easiest form is to put one module into a single file.  This is the only way we will discuss in this tutorial."
   ]
  },
  {
   "cell_type": "markdown",
   "metadata": {},
   "source": [
    "The common problem with code is that what once started as something quick and simple grows over time into some very long files with hundreds of lines.  This makes code hard to read and maintain.  The solution is to change the coding style as follows.\n",
    "1. put every class in a single file named the classname.py\n",
    "2. files that use that class need to import that file as external library\n",
    "\n",
    "~~~\n",
    "from classname import *\n",
    "\n",
    "...\n",
    "\n",
    "a = classname(). # the constructor is called\n",
    "~~~\n",
    "\n",
    "This imports the class definition into the current namespace.  In the rare case that two files contain different implementations of the same class, we need to use separate name spaces:\n",
    "\n",
    "~~~\n",
    "import file1 as f1\n",
    "import file2 as f2\n",
    "\n",
    "...\n",
    "\n",
    "a = f1.classname()\n",
    "b = f2.classname()\n",
    "~~~\n",
    "\n",
    "<hr>\n",
    "\n",
    "Note the different styles:\n",
    "1. load everything into the current name space\n",
    "\n",
    "~~~\n",
    "from filename import *\n",
    "\n",
    "a = classname()\n",
    "~~~\n",
    "\n",
    "2. load into the default name space\n",
    "\n",
    "~~~\n",
    "import filename\n",
    "...\n",
    "a = filename.classname()\n",
    "~~~\n",
    "\n",
    "3. load into private name space using an alias (short form)\n",
    "\n",
    "~~~\n",
    "import some_very_long_module_name as mod\n",
    "...\n",
    "a = mod.classname()\n",
    "~~~\n",
    "\n",
    "We did use that option when importing matplotlib.pyplot as plt ;)"
   ]
  },
  {
   "cell_type": "markdown",
   "metadata": {},
   "source": [
    "## Writing demo and simple selftests for modules"
   ]
  },
  {
   "cell_type": "markdown",
   "metadata": {},
   "source": [
    "When putting code into an external file, we usually indent to import that file into some other code file or jupyter notebook.  However, we could also directly invoke that file directly from the commandline as (MacOS and Linux)\n",
    "~~~\n",
    "$ python3 my_class_file.py\n",
    "~~~\n",
    "or on Windows\n",
    "~~~\n",
    ">> python3.exe my_class_file.py\n",
    "~~~\n",
    "We can detect whether or not that file was executated directly or imported and, based on that information, run a demo or self test.  The mechanism is simple: upon loading a code file, python sets a series of private variables.  The one most useful here is \\_\\_name\\_\\_.  If the file is loaded as a module, \\_\\_name\\_\\_ is set to the filename of that python file.  If executed directly, \\_\\_name\\_\\_ is set to '\\_\\_main\\_\\_'.  We can exploit this by writing the file like this:"
   ]
  },
  {
   "cell_type": "code",
   "execution_count": 8,
   "metadata": {},
   "outputs": [],
   "source": [
    "# this is my private_module.py file\n",
    "# it contains the definition for MyClass and a demo function.\n",
    "\n",
    "# all the module loading here\n",
    "import numpy as np\n",
    "\n",
    "# now the class definition\n",
    "class MyClass(object):\n",
    "    def __init__(self):\n",
    "        pass\n",
    "    \n",
    "    # ...\n",
    "    \n",
    "# now define a test or demo routine\n",
    "# this code shall be ignored by the importing file\n",
    "def main():\n",
    "    a = MyClass()\n",
    "    # some demo ops ...\n",
    "    \n",
    "# and now the actual execution ...\n",
    "if __name__ == '__main__':\n",
    "    main()"
   ]
  },
  {
   "cell_type": "markdown",
   "metadata": {},
   "source": [
    "main() will be executed if and only if \\_\\_name\\_\\_ == '\\_\\_main\\_\\_', i.e., if this file is being executed directly by the python interpreter."
   ]
  },
  {
   "cell_type": "markdown",
   "metadata": {},
   "source": [
    "### Example:  A Point class as a module\n",
    "\n",
    "Work in a file point.py in your notebook directory (I created a skeleton file for you already).  We can view it using the IPython.display module."
   ]
  },
  {
   "cell_type": "code",
   "execution_count": 38,
   "metadata": {},
   "outputs": [
    {
     "data": {
      "text/html": [
       "<style>.output_html .hll { background-color: #ffffcc }\n",
       ".output_html  { background: #f8f8f8; }\n",
       ".output_html .c { color: #408080; font-style: italic } /* Comment */\n",
       ".output_html .err { border: 1px solid #FF0000 } /* Error */\n",
       ".output_html .k { color: #008000; font-weight: bold } /* Keyword */\n",
       ".output_html .o { color: #666666 } /* Operator */\n",
       ".output_html .ch { color: #408080; font-style: italic } /* Comment.Hashbang */\n",
       ".output_html .cm { color: #408080; font-style: italic } /* Comment.Multiline */\n",
       ".output_html .cp { color: #BC7A00 } /* Comment.Preproc */\n",
       ".output_html .cpf { color: #408080; font-style: italic } /* Comment.PreprocFile */\n",
       ".output_html .c1 { color: #408080; font-style: italic } /* Comment.Single */\n",
       ".output_html .cs { color: #408080; font-style: italic } /* Comment.Special */\n",
       ".output_html .gd { color: #A00000 } /* Generic.Deleted */\n",
       ".output_html .ge { font-style: italic } /* Generic.Emph */\n",
       ".output_html .gr { color: #FF0000 } /* Generic.Error */\n",
       ".output_html .gh { color: #000080; font-weight: bold } /* Generic.Heading */\n",
       ".output_html .gi { color: #00A000 } /* Generic.Inserted */\n",
       ".output_html .go { color: #888888 } /* Generic.Output */\n",
       ".output_html .gp { color: #000080; font-weight: bold } /* Generic.Prompt */\n",
       ".output_html .gs { font-weight: bold } /* Generic.Strong */\n",
       ".output_html .gu { color: #800080; font-weight: bold } /* Generic.Subheading */\n",
       ".output_html .gt { color: #0044DD } /* Generic.Traceback */\n",
       ".output_html .kc { color: #008000; font-weight: bold } /* Keyword.Constant */\n",
       ".output_html .kd { color: #008000; font-weight: bold } /* Keyword.Declaration */\n",
       ".output_html .kn { color: #008000; font-weight: bold } /* Keyword.Namespace */\n",
       ".output_html .kp { color: #008000 } /* Keyword.Pseudo */\n",
       ".output_html .kr { color: #008000; font-weight: bold } /* Keyword.Reserved */\n",
       ".output_html .kt { color: #B00040 } /* Keyword.Type */\n",
       ".output_html .m { color: #666666 } /* Literal.Number */\n",
       ".output_html .s { color: #BA2121 } /* Literal.String */\n",
       ".output_html .na { color: #7D9029 } /* Name.Attribute */\n",
       ".output_html .nb { color: #008000 } /* Name.Builtin */\n",
       ".output_html .nc { color: #0000FF; font-weight: bold } /* Name.Class */\n",
       ".output_html .no { color: #880000 } /* Name.Constant */\n",
       ".output_html .nd { color: #AA22FF } /* Name.Decorator */\n",
       ".output_html .ni { color: #999999; font-weight: bold } /* Name.Entity */\n",
       ".output_html .ne { color: #D2413A; font-weight: bold } /* Name.Exception */\n",
       ".output_html .nf { color: #0000FF } /* Name.Function */\n",
       ".output_html .nl { color: #A0A000 } /* Name.Label */\n",
       ".output_html .nn { color: #0000FF; font-weight: bold } /* Name.Namespace */\n",
       ".output_html .nt { color: #008000; font-weight: bold } /* Name.Tag */\n",
       ".output_html .nv { color: #19177C } /* Name.Variable */\n",
       ".output_html .ow { color: #AA22FF; font-weight: bold } /* Operator.Word */\n",
       ".output_html .w { color: #bbbbbb } /* Text.Whitespace */\n",
       ".output_html .mb { color: #666666 } /* Literal.Number.Bin */\n",
       ".output_html .mf { color: #666666 } /* Literal.Number.Float */\n",
       ".output_html .mh { color: #666666 } /* Literal.Number.Hex */\n",
       ".output_html .mi { color: #666666 } /* Literal.Number.Integer */\n",
       ".output_html .mo { color: #666666 } /* Literal.Number.Oct */\n",
       ".output_html .sa { color: #BA2121 } /* Literal.String.Affix */\n",
       ".output_html .sb { color: #BA2121 } /* Literal.String.Backtick */\n",
       ".output_html .sc { color: #BA2121 } /* Literal.String.Char */\n",
       ".output_html .dl { color: #BA2121 } /* Literal.String.Delimiter */\n",
       ".output_html .sd { color: #BA2121; font-style: italic } /* Literal.String.Doc */\n",
       ".output_html .s2 { color: #BA2121 } /* Literal.String.Double */\n",
       ".output_html .se { color: #BB6622; font-weight: bold } /* Literal.String.Escape */\n",
       ".output_html .sh { color: #BA2121 } /* Literal.String.Heredoc */\n",
       ".output_html .si { color: #BB6688; font-weight: bold } /* Literal.String.Interpol */\n",
       ".output_html .sx { color: #008000 } /* Literal.String.Other */\n",
       ".output_html .sr { color: #BB6688 } /* Literal.String.Regex */\n",
       ".output_html .s1 { color: #BA2121 } /* Literal.String.Single */\n",
       ".output_html .ss { color: #19177C } /* Literal.String.Symbol */\n",
       ".output_html .bp { color: #008000 } /* Name.Builtin.Pseudo */\n",
       ".output_html .fm { color: #0000FF } /* Name.Function.Magic */\n",
       ".output_html .vc { color: #19177C } /* Name.Variable.Class */\n",
       ".output_html .vg { color: #19177C } /* Name.Variable.Global */\n",
       ".output_html .vi { color: #19177C } /* Name.Variable.Instance */\n",
       ".output_html .vm { color: #19177C } /* Name.Variable.Magic */\n",
       ".output_html .il { color: #666666 } /* Literal.Number.Integer.Long */</style><div class=\"highlight\"><pre><span></span><span class=\"sd\">&#39;&#39;&#39;</span>\n",
       "<span class=\"sd\">file: point.py</span>\n",
       "\n",
       "<span class=\"sd\">author: Peter Mackenzie-Helnwein, University of Washington, Seattle, WA</span>\n",
       "<span class=\"sd\">created: 07-28-2020</span>\n",
       "<span class=\"sd\">&#39;&#39;&#39;</span>\n",
       "\n",
       "<span class=\"c1\"># all import statements go here</span>\n",
       "<span class=\"kn\">import</span> <span class=\"nn\">numpy</span> <span class=\"kn\">as</span> <span class=\"nn\">np</span>\n",
       "\n",
       "<span class=\"c1\"># class definition</span>\n",
       "<span class=\"k\">class</span> <span class=\"nc\">Point</span><span class=\"p\">(</span><span class=\"nb\">object</span><span class=\"p\">):</span>\n",
       "    <span class=\"sd\">&#39;&#39;&#39;</span>\n",
       "<span class=\"sd\">    class: Point</span>\n",
       "\n",
       "<span class=\"sd\">    variables:</span>\n",
       "<span class=\"sd\">        self.position  ... the point&#39;s position stored as a numpay.array for easy computations</span>\n",
       "\n",
       "<span class=\"sd\">    methods:</span>\n",
       "<span class=\"sd\">        def __init__(self, coords=[0.0,0.0]):</span>\n",
       "<span class=\"sd\">        def __str__(self):</span>\n",
       "<span class=\"sd\">        def __repr__(self):</span>\n",
       "<span class=\"sd\">        def __add__(self,p):</span>\n",
       "<span class=\"sd\">        def __sub__(self,p):</span>\n",
       "<span class=\"sd\">    &#39;&#39;&#39;</span>\n",
       "\n",
       "    <span class=\"k\">def</span> <span class=\"fm\">__init__</span><span class=\"p\">(</span><span class=\"bp\">self</span><span class=\"p\">,</span> <span class=\"n\">coords</span><span class=\"o\">=</span><span class=\"p\">[</span><span class=\"mf\">0.0</span><span class=\"p\">,</span><span class=\"mf\">0.0</span><span class=\"p\">]):</span>\n",
       "        <span class=\"bp\">self</span><span class=\"o\">.</span><span class=\"n\">position</span> <span class=\"o\">=</span> <span class=\"n\">np</span><span class=\"o\">.</span><span class=\"n\">array</span><span class=\"p\">(</span><span class=\"n\">coords</span><span class=\"p\">)</span>\n",
       "\n",
       "    <span class=\"k\">def</span> <span class=\"fm\">__str__</span><span class=\"p\">(</span><span class=\"bp\">self</span><span class=\"p\">):</span>\n",
       "        <span class=\"k\">return</span> <span class=\"nb\">str</span><span class=\"p\">(</span><span class=\"bp\">self</span><span class=\"o\">.</span><span class=\"n\">position</span><span class=\"o\">.</span><span class=\"n\">tolist</span><span class=\"p\">())</span>\n",
       "\n",
       "    <span class=\"k\">def</span> <span class=\"fm\">__repr__</span><span class=\"p\">(</span><span class=\"bp\">self</span><span class=\"p\">):</span>\n",
       "        <span class=\"k\">return</span> <span class=\"s2\">&quot;Point({})&quot;</span><span class=\"o\">.</span><span class=\"n\">format</span><span class=\"p\">(</span><span class=\"bp\">self</span><span class=\"o\">.</span><span class=\"n\">position</span><span class=\"o\">.</span><span class=\"n\">tolist</span><span class=\"p\">())</span>\n",
       "\n",
       "    <span class=\"k\">def</span> <span class=\"fm\">__add__</span><span class=\"p\">(</span><span class=\"bp\">self</span><span class=\"p\">,</span><span class=\"n\">p</span><span class=\"p\">):</span>\n",
       "        <span class=\"k\">pass</span>\n",
       "\n",
       "    <span class=\"k\">def</span> <span class=\"fm\">__sub__</span><span class=\"p\">(</span><span class=\"bp\">self</span><span class=\"p\">,</span><span class=\"n\">p</span><span class=\"p\">):</span>\n",
       "        <span class=\"k\">pass</span>\n",
       "\n",
       "    <span class=\"c1\"># more fun methods you could use with a Point object</span>\n",
       "\n",
       "\n",
       "<span class=\"c1\"># your demo code here</span>\n",
       "<span class=\"k\">def</span> <span class=\"nf\">demo</span><span class=\"p\">():</span>\n",
       "    <span class=\"k\">print</span><span class=\"p\">(</span><span class=\"s1\">&#39;creating a point object&#39;</span><span class=\"p\">)</span>\n",
       "    <span class=\"n\">a</span> <span class=\"o\">=</span> <span class=\"n\">Point</span><span class=\"p\">([</span><span class=\"mf\">2.</span><span class=\"p\">,</span><span class=\"mf\">4.</span><span class=\"p\">])</span>\n",
       "    <span class=\"k\">print</span><span class=\"p\">(</span><span class=\"n\">a</span><span class=\"p\">)</span>\n",
       "    <span class=\"k\">print</span><span class=\"p\">(</span><span class=\"nb\">repr</span><span class=\"p\">(</span><span class=\"n\">a</span><span class=\"p\">))</span>\n",
       "\n",
       "    <span class=\"c1\"># more creative demo and testing</span>\n",
       "    <span class=\"c1\"># ...</span>\n",
       "\n",
       "<span class=\"c1\"># run demo if run directly</span>\n",
       "<span class=\"k\">if</span> <span class=\"vm\">__name__</span> <span class=\"o\">==</span> <span class=\"s1\">&#39;__main__&#39;</span><span class=\"p\">:</span>\n",
       "    <span class=\"n\">demo</span><span class=\"p\">()</span>\n",
       "</pre></div>\n"
      ],
      "text/latex": [
       "\\begin{Verbatim}[commandchars=\\\\\\{\\}]\n",
       "\\PY{l+s+sd}{\\PYZsq{}\\PYZsq{}\\PYZsq{}}\n",
       "\\PY{l+s+sd}{file: point.py}\n",
       "\n",
       "\\PY{l+s+sd}{author: Peter Mackenzie\\PYZhy{}Helnwein, University of Washington, Seattle, WA}\n",
       "\\PY{l+s+sd}{created: 07\\PYZhy{}28\\PYZhy{}2020}\n",
       "\\PY{l+s+sd}{\\PYZsq{}\\PYZsq{}\\PYZsq{}}\n",
       "\n",
       "\\PY{c+c1}{\\PYZsh{} all import statements go here}\n",
       "\\PY{k+kn}{import} \\PY{n+nn}{numpy} \\PY{k+kn}{as} \\PY{n+nn}{np}\n",
       "\n",
       "\\PY{c+c1}{\\PYZsh{} class definition}\n",
       "\\PY{k}{class} \\PY{n+nc}{Point}\\PY{p}{(}\\PY{n+nb}{object}\\PY{p}{)}\\PY{p}{:}\n",
       "    \\PY{l+s+sd}{\\PYZsq{}\\PYZsq{}\\PYZsq{}}\n",
       "\\PY{l+s+sd}{    class: Point}\n",
       "\n",
       "\\PY{l+s+sd}{    variables:}\n",
       "\\PY{l+s+sd}{        self.position  ... the point\\PYZsq{}s position stored as a numpay.array for easy computations}\n",
       "\n",
       "\\PY{l+s+sd}{    methods:}\n",
       "\\PY{l+s+sd}{        def \\PYZus{}\\PYZus{}init\\PYZus{}\\PYZus{}(self, coords=[0.0,0.0]):}\n",
       "\\PY{l+s+sd}{        def \\PYZus{}\\PYZus{}str\\PYZus{}\\PYZus{}(self):}\n",
       "\\PY{l+s+sd}{        def \\PYZus{}\\PYZus{}repr\\PYZus{}\\PYZus{}(self):}\n",
       "\\PY{l+s+sd}{        def \\PYZus{}\\PYZus{}add\\PYZus{}\\PYZus{}(self,p):}\n",
       "\\PY{l+s+sd}{        def \\PYZus{}\\PYZus{}sub\\PYZus{}\\PYZus{}(self,p):}\n",
       "\\PY{l+s+sd}{    \\PYZsq{}\\PYZsq{}\\PYZsq{}}\n",
       "\n",
       "    \\PY{k}{def} \\PY{n+nf+fm}{\\PYZus{}\\PYZus{}init\\PYZus{}\\PYZus{}}\\PY{p}{(}\\PY{n+nb+bp}{self}\\PY{p}{,} \\PY{n}{coords}\\PY{o}{=}\\PY{p}{[}\\PY{l+m+mf}{0.0}\\PY{p}{,}\\PY{l+m+mf}{0.0}\\PY{p}{]}\\PY{p}{)}\\PY{p}{:}\n",
       "        \\PY{n+nb+bp}{self}\\PY{o}{.}\\PY{n}{position} \\PY{o}{=} \\PY{n}{np}\\PY{o}{.}\\PY{n}{array}\\PY{p}{(}\\PY{n}{coords}\\PY{p}{)}\n",
       "\n",
       "    \\PY{k}{def} \\PY{n+nf+fm}{\\PYZus{}\\PYZus{}str\\PYZus{}\\PYZus{}}\\PY{p}{(}\\PY{n+nb+bp}{self}\\PY{p}{)}\\PY{p}{:}\n",
       "        \\PY{k}{return} \\PY{n+nb}{str}\\PY{p}{(}\\PY{n+nb+bp}{self}\\PY{o}{.}\\PY{n}{position}\\PY{o}{.}\\PY{n}{tolist}\\PY{p}{(}\\PY{p}{)}\\PY{p}{)}\n",
       "\n",
       "    \\PY{k}{def} \\PY{n+nf+fm}{\\PYZus{}\\PYZus{}repr\\PYZus{}\\PYZus{}}\\PY{p}{(}\\PY{n+nb+bp}{self}\\PY{p}{)}\\PY{p}{:}\n",
       "        \\PY{k}{return} \\PY{l+s+s2}{\\PYZdq{}}\\PY{l+s+s2}{Point(\\PYZob{}\\PYZcb{})}\\PY{l+s+s2}{\\PYZdq{}}\\PY{o}{.}\\PY{n}{format}\\PY{p}{(}\\PY{n+nb+bp}{self}\\PY{o}{.}\\PY{n}{position}\\PY{o}{.}\\PY{n}{tolist}\\PY{p}{(}\\PY{p}{)}\\PY{p}{)}\n",
       "\n",
       "    \\PY{k}{def} \\PY{n+nf+fm}{\\PYZus{}\\PYZus{}add\\PYZus{}\\PYZus{}}\\PY{p}{(}\\PY{n+nb+bp}{self}\\PY{p}{,}\\PY{n}{p}\\PY{p}{)}\\PY{p}{:}\n",
       "        \\PY{k}{pass}\n",
       "\n",
       "    \\PY{k}{def} \\PY{n+nf+fm}{\\PYZus{}\\PYZus{}sub\\PYZus{}\\PYZus{}}\\PY{p}{(}\\PY{n+nb+bp}{self}\\PY{p}{,}\\PY{n}{p}\\PY{p}{)}\\PY{p}{:}\n",
       "        \\PY{k}{pass}\n",
       "\n",
       "    \\PY{c+c1}{\\PYZsh{} more fun methods you could use with a Point object}\n",
       "\n",
       "\n",
       "\\PY{c+c1}{\\PYZsh{} your demo code here}\n",
       "\\PY{k}{def} \\PY{n+nf}{demo}\\PY{p}{(}\\PY{p}{)}\\PY{p}{:}\n",
       "    \\PY{k}{print}\\PY{p}{(}\\PY{l+s+s1}{\\PYZsq{}}\\PY{l+s+s1}{creating a point object}\\PY{l+s+s1}{\\PYZsq{}}\\PY{p}{)}\n",
       "    \\PY{n}{a} \\PY{o}{=} \\PY{n}{Point}\\PY{p}{(}\\PY{p}{[}\\PY{l+m+mf}{2.}\\PY{p}{,}\\PY{l+m+mf}{4.}\\PY{p}{]}\\PY{p}{)}\n",
       "    \\PY{k}{print}\\PY{p}{(}\\PY{n}{a}\\PY{p}{)}\n",
       "    \\PY{k}{print}\\PY{p}{(}\\PY{n+nb}{repr}\\PY{p}{(}\\PY{n}{a}\\PY{p}{)}\\PY{p}{)}\n",
       "\n",
       "    \\PY{c+c1}{\\PYZsh{} more creative demo and testing}\n",
       "    \\PY{c+c1}{\\PYZsh{} ...}\n",
       "\n",
       "\\PY{c+c1}{\\PYZsh{} run demo if run directly}\n",
       "\\PY{k}{if} \\PY{n+nv+vm}{\\PYZus{}\\PYZus{}name\\PYZus{}\\PYZus{}} \\PY{o}{==} \\PY{l+s+s1}{\\PYZsq{}}\\PY{l+s+s1}{\\PYZus{}\\PYZus{}main\\PYZus{}\\PYZus{}}\\PY{l+s+s1}{\\PYZsq{}}\\PY{p}{:}\n",
       "    \\PY{n}{demo}\\PY{p}{(}\\PY{p}{)}\n",
       "\\end{Verbatim}\n"
      ],
      "text/plain": [
       "'''\n",
       "file: point.py\n",
       "\n",
       "author: Peter Mackenzie-Helnwein, University of Washington, Seattle, WA\n",
       "created: 07-28-2020\n",
       "'''\n",
       "\n",
       "# all import statements go here\n",
       "import numpy as np\n",
       "\n",
       "# class definition\n",
       "class Point(object):\n",
       "    '''\n",
       "    class: Point\n",
       "\n",
       "    variables:\n",
       "        self.position  ... the point's position stored as a numpay.array for easy computations\n",
       "\n",
       "    methods:\n",
       "        def __init__(self, coords=[0.0,0.0]):\n",
       "        def __str__(self):\n",
       "        def __repr__(self):\n",
       "        def __add__(self,p):\n",
       "        def __sub__(self,p):\n",
       "    '''\n",
       "\n",
       "    def __init__(self, coords=[0.0,0.0]):\n",
       "        self.position = np.array(coords)\n",
       "\n",
       "    def __str__(self):\n",
       "        return str(self.position.tolist())\n",
       "\n",
       "    def __repr__(self):\n",
       "        return \"Point({})\".format(self.position.tolist())\n",
       "\n",
       "    def __add__(self,p):\n",
       "        pass\n",
       "\n",
       "    def __sub__(self,p):\n",
       "        pass\n",
       "\n",
       "    # more fun methods you could use with a Point object\n",
       "\n",
       "\n",
       "# your demo code here\n",
       "def demo():\n",
       "    print('creating a point object')\n",
       "    a = Point([2.,4.])\n",
       "    print(a)\n",
       "    print(repr(a))\n",
       "\n",
       "    # more creative demo and testing\n",
       "    # ...\n",
       "\n",
       "# run demo if run directly\n",
       "if __name__ == '__main__':\n",
       "    demo()"
      ]
     },
     "execution_count": 38,
     "metadata": {},
     "output_type": "execute_result"
    }
   ],
   "source": [
    "import IPython\n",
    "IPython.display.Code(filename='point.py',language='python')"
   ]
  },
  {
   "cell_type": "markdown",
   "metadata": {},
   "source": [
    "First, let us import this code and create a Point object."
   ]
  },
  {
   "cell_type": "code",
   "execution_count": 24,
   "metadata": {},
   "outputs": [],
   "source": [
    "from point import *"
   ]
  },
  {
   "cell_type": "markdown",
   "metadata": {},
   "source": [
    "Note that demo was not executed at import.  However, we do have the definition of the Point class available as will be shown by the next statement."
   ]
  },
  {
   "cell_type": "code",
   "execution_count": 25,
   "metadata": {},
   "outputs": [
    {
     "name": "stdout",
     "output_type": "stream",
     "text": [
      "[-1.0, 2.0]\n"
     ]
    }
   ],
   "source": [
    "x = Point([-1,2.])\n",
    "print(x)"
   ]
  },
  {
   "cell_type": "markdown",
   "metadata": {},
   "source": [
    "However, when executed directly - which we will do via a subprocess -, the variable '\\_\\_name\\_\\_' is set accordingly and demo() will be executed.\n",
    "\n",
    "**Note**: you may need to adjust the path to the python executable accordingly."
   ]
  },
  {
   "cell_type": "code",
   "execution_count": 6,
   "metadata": {},
   "outputs": [
    {
     "name": "stdout",
     "output_type": "stream",
     "text": [
      "creating a point object\n",
      "[2.0, 4.0]\n",
      "Point([2.0, 4.0])\n",
      "\n"
     ]
    }
   ],
   "source": [
    "import subprocess\n",
    "\n",
    "import os\n",
    "if os.name == 'posix':\n",
    "    executable = 'python3'\n",
    "else:\n",
    "    executable = 'python3.exe'\n",
    "\n",
    "out=subprocess.run([executable, 'point.py'], capture_output=True)\n",
    "if out.stderr:\n",
    "    print(out.stderr.decode('utf8'))\n",
    "else:\n",
    "    print(out.stdout.decode('utf8'))"
   ]
  },
  {
   "cell_type": "markdown",
   "metadata": {},
   "source": [
    "<hr>\n",
    "\n",
    "[Jump to chapter 5: Classes](./05%20Classes.ipynb)\n",
    "\n",
    "[Jump to chapter 7: Machine learning](./07%20Machine%20Learning%20AI.ipynb)\n",
    "\n",
    "[Back to the outline](./00%20Outline.ipynb)"
   ]
  },
  {
   "cell_type": "code",
   "execution_count": null,
   "metadata": {},
   "outputs": [],
   "source": []
  }
 ],
 "metadata": {
  "kernelspec": {
   "display_name": "Python 3",
   "language": "python",
   "name": "python3"
  },
  "language_info": {
   "codemirror_mode": {
    "name": "ipython",
    "version": 3
   },
   "file_extension": ".py",
   "mimetype": "text/x-python",
   "name": "python",
   "nbconvert_exporter": "python",
   "pygments_lexer": "ipython3",
   "version": "3.7.4"
  }
 },
 "nbformat": 4,
 "nbformat_minor": 4
}
