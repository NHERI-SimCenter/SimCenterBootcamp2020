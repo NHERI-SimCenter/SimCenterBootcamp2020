{
 "cells": [
  {
   "cell_type": "markdown",
   "metadata": {},
   "source": [
    "# A Python Quick Start Tutorial - System Information Scripts\n",
    "\n",
    "## by Peter Mackenzie-Helnwein\n",
    "University of Washington, Seattle, WA\n",
    "\n",
    "pmackenz@uw.edu          \n",
    "https://www.ce.washington.edu/facultyfinder/peter-mackenzie-helnwein"
   ]
  },
  {
   "cell_type": "markdown",
   "metadata": {},
   "source": [
    "## System Information"
   ]
  },
  {
   "cell_type": "markdown",
   "metadata": {},
   "source": [
    "### Which operation system"
   ]
  },
  {
   "cell_type": "code",
   "execution_count": 1,
   "metadata": {},
   "outputs": [
    {
     "name": "stdout",
     "output_type": "stream",
     "text": [
      "macOS-10.15.7-x86_64-i386-64bit\n",
      "Darwin\n",
      "Peters-MBP-15.domain\n",
      "\n",
      "('', '', '', '')\n",
      "('10.15.7', ('', '', ''), 'x86_64')\n"
     ]
    }
   ],
   "source": [
    "import platform\n",
    "\n",
    "print(platform.platform())\n",
    "print(platform.system())\n",
    "print(platform.node())\n",
    "\n",
    "print()\n",
    "\n",
    "print(platform.win32_ver())\n",
    "print(platform.mac_ver())"
   ]
  },
  {
   "cell_type": "markdown",
   "metadata": {},
   "source": [
    "### Hardware information"
   ]
  },
  {
   "cell_type": "code",
   "execution_count": 2,
   "metadata": {},
   "outputs": [
    {
     "name": "stdout",
     "output_type": "stream",
     "text": [
      "('64bit', '')\n",
      "x86_64\n",
      "i386\n"
     ]
    }
   ],
   "source": [
    "import platform\n",
    "\n",
    "print(platform.architecture())\n",
    "print(platform.machine())\n",
    "print(platform.processor())"
   ]
  },
  {
   "cell_type": "markdown",
   "metadata": {},
   "source": [
    "### uname (summary)"
   ]
  },
  {
   "cell_type": "code",
   "execution_count": 3,
   "metadata": {},
   "outputs": [
    {
     "name": "stdout",
     "output_type": "stream",
     "text": [
      "uname_result(system='Darwin', node='Peters-MBP-15.domain', release='19.6.0', version='Darwin Kernel Version 19.6.0: Mon Aug 31 22:12:52 PDT 2020; root:xnu-6153.141.2~1/RELEASE_X86_64', machine='x86_64', processor='i386')\n",
      "\n",
      "sysname -> Darwin\n",
      "nodename -> Peters-MBP-15.domain\n",
      "release -> 19.6.0\n",
      "version -> Darwin Kernel Version 19.6.0: Mon Aug 31 22:12:52 PDT 2020; root:xnu-6153.141.2~1/RELEASE_X86_64\n",
      "root -> x86_64\n",
      "machine -> i386\n"
     ]
    }
   ],
   "source": [
    "import platform\n",
    "\n",
    "sysinfo = platform.uname()\n",
    "print(sysinfo)\n",
    "\n",
    "print()\n",
    "\n",
    "attributes = ['sysname', 'nodename', 'release', 'version', 'root','machine','processor']\n",
    "d = {attr : value for attr,value in zip(attributes, sysinfo)}\n",
    "for key in d:\n",
    "    print(\"{} -> {}\".format(key,d[key]))"
   ]
  },
  {
   "cell_type": "markdown",
   "metadata": {},
   "source": [
    "## User Environment "
   ]
  },
  {
   "cell_type": "markdown",
   "metadata": {},
   "source": [
    "### Finding the python executable"
   ]
  },
  {
   "cell_type": "code",
   "execution_count": 4,
   "metadata": {},
   "outputs": [
    {
     "name": "stdout",
     "output_type": "stream",
     "text": [
      "/usr/local/opt/python@3.8/bin/python3.8\n"
     ]
    }
   ],
   "source": [
    "import sys\n",
    "\n",
    "print(sys.executable)"
   ]
  },
  {
   "cell_type": "markdown",
   "metadata": {},
   "source": [
    "### Checking environment variables"
   ]
  },
  {
   "cell_type": "markdown",
   "metadata": {},
   "source": [
    "**PATH**"
   ]
  },
  {
   "cell_type": "code",
   "execution_count": 5,
   "metadata": {},
   "outputs": [
    {
     "name": "stdout",
     "output_type": "stream",
     "text": [
      "PATH=/opt/local/bin:/opt/local/sbin:.:/Users/pmackenz/bin:/Users/pmackenz/bin/OpenSees3.2.2/bin:/usr/local/bin:/usr/bin:/bin:/usr/sbin:/sbin:/Library/TeX/texbin:/opt/X11/bin:/Library/Apple/usr/bin\n",
      "\n",
      "PATH includes the following:\n",
      "-------------------------------\n",
      "/opt/local/bin\n",
      "/opt/local/sbin\n",
      ".\n",
      "/Users/pmackenz/bin\n",
      "/Users/pmackenz/bin/OpenSees3.2.2/bin\n",
      "/usr/local/bin\n",
      "/usr/bin\n",
      "/bin\n",
      "/usr/sbin\n",
      "/sbin\n",
      "/Library/TeX/texbin\n",
      "/opt/X11/bin\n",
      "/Library/Apple/usr/bin\n"
     ]
    }
   ],
   "source": [
    "import os\n",
    "path = os.environ['PATH']\n",
    "\n",
    "print(f\"PATH={path}\")\n",
    "print(\"\\nPATH includes the following:\\n-------------------------------\")\n",
    "for location in path.split(':'):\n",
    "    print(location)"
   ]
  },
  {
   "cell_type": "markdown",
   "metadata": {},
   "source": [
    "**User HOME folder**"
   ]
  },
  {
   "cell_type": "code",
   "execution_count": 6,
   "metadata": {},
   "outputs": [
    {
     "name": "stdout",
     "output_type": "stream",
     "text": [
      "/Users/pmackenz\n"
     ]
    }
   ],
   "source": [
    "import os\n",
    "print(os.environ['HOME'])"
   ]
  },
  {
   "cell_type": "markdown",
   "metadata": {},
   "source": [
    "**All** environment variables"
   ]
  },
  {
   "cell_type": "code",
   "execution_count": 7,
   "metadata": {},
   "outputs": [
    {
     "name": "stdout",
     "output_type": "stream",
     "text": [
      "TERM_PROGRAM=Apple_Terminal\n",
      "TERM=xterm-color\n",
      "SHELL=/bin/bash\n",
      "TMPDIR=/var/folders/th/zfxdns8j10j765tvrhf7yb080000gn/T/\n",
      "TERM_PROGRAM_VERSION=433\n",
      "TERM_SESSION_ID=EADC0712-630D-4796-AA8C-2050CD01405E\n",
      "USER=pmackenz\n",
      "SSH_AUTH_SOCK=/private/tmp/com.apple.launchd.8YY1k6PYpk/Listeners\n",
      "PATH=/opt/local/bin:/opt/local/sbin:.:/Users/pmackenz/bin:/Users/pmackenz/bin/OpenSees3.2.2/bin:/usr/local/bin:/usr/bin:/bin:/usr/sbin:/sbin:/Library/TeX/texbin:/opt/X11/bin:/Library/Apple/usr/bin\n",
      "LaunchInstanceID=EC49A3A7-D66D-4813-940B-26E166E8E815\n",
      "PWD=/Users/pmackenz/Documents/Classes/CESG_505/jupyter\n",
      "LANG=en_US.UTF-8\n",
      "XPC_FLAGS=0x0\n",
      "XPC_SERVICE_NAME=0\n",
      "HOME=/Users/pmackenz\n",
      "SHLVL=1\n",
      "LOGNAME=pmackenz\n",
      "DISPLAY=/private/tmp/com.apple.launchd.yjBZrrsvkL/org.macosforge.xquartz:0\n",
      "SECURITYSESSIONID=186a6\n",
      "_=/usr/local/bin/jupyter-notebook\n",
      "__CF_USER_TEXT_ENCODING=0x1F5:0x0:0x0\n",
      "JPY_PARENT_PID=20694\n",
      "CLICOLOR=1\n",
      "PAGER=cat\n",
      "GIT_PAGER=cat\n",
      "MPLBACKEND=module://ipykernel.pylab.backend_inline\n"
     ]
    }
   ],
   "source": [
    "import os\n",
    "\n",
    "for key in os.environ:\n",
    "    print(\"{}={}\".format(key,os.environ[key]))"
   ]
  },
  {
   "cell_type": "code",
   "execution_count": null,
   "metadata": {},
   "outputs": [],
   "source": []
  }
 ],
 "metadata": {
  "kernelspec": {
   "display_name": "Python 3",
   "language": "python",
   "name": "python3"
  },
  "language_info": {
   "codemirror_mode": {
    "name": "ipython",
    "version": 3
   },
   "file_extension": ".py",
   "mimetype": "text/x-python",
   "name": "python",
   "nbconvert_exporter": "python",
   "pygments_lexer": "ipython3",
   "version": "3.8.5"
  }
 },
 "nbformat": 4,
 "nbformat_minor": 4
}
