{
 "cells": [
  {
   "cell_type": "markdown",
   "metadata": {},
   "source": [
    "# A Python Quick Start Tutorial - Part 5\n",
    "## by Peter Mackenzie-Helnwein\n",
    "University of Washington, Seattle, WA\n",
    "\n",
    "pmackenz@uw.edu          \n",
    "https://www.ce.washington.edu/facultyfinder/peter-mackenzie-helnwein"
   ]
  },
  {
   "cell_type": "markdown",
   "metadata": {},
   "source": [
    "# Classes (objects)"
   ]
  },
  {
   "cell_type": "markdown",
   "metadata": {},
   "source": [
    "Let us start this chapter with the question: **\"What is object oriented programming (OOP)?\"**\n",
    "\n",
    "The west way to approach this question is to review the common programming style most of you may have used in MATLAB, or even in python up to this point:\n",
    "1. variables contain data\n",
    "2. functions manipulate data\n",
    "3. the user needs to maintain control of data, usually in the main execution branch.\n",
    "\n",
    "This strategy leads to problems as the program grows increasingly complex.  \n",
    "In a business type analogy: the customer tries to keep total control over a merchand, manufacturer, transportation agencies, contractors, ..., i.e., this is micro-managing your project.\n",
    "\n",
    "The same business-like analogy illustrates the **object oriented approach**:\n",
    "1. Your project requires a series of companies, agencies, subcontractors, etc., to work together. \n",
    "2. However, each company provides a set of specialized skills (none does everything), has their own employees, their proprietary know-how (tghat will not be shared with the competition!), or agencies have protected data (think privacy protection) or secrets (think about the military).\n",
    "3. Each company has a well defined communication channel: project manager, foreman, county clerk, teller, etc.  All communications must go through those agents.  All data exchange is handled and controlled by those agents.\n",
    "4. Each company has an undisclosed number of specialists, who can perform some tasks, if requested by a communication agent.  No direct interaction is possible between those employees of one company with undisclosed employees of another.  See \"well defined communication channels\".\n",
    "\n",
    "Such an approach is considered object-oriented.  Each company/agency is one object.  Each object holds information (data) and skills (methods = the OOP term for functions).  The idea is to compartmentalize portions of the code, make them independent of each other, make them exchangeable (different libraries with identical communication structure).  This allows for team work when building complex code, as well as easier and more reliable testing of those building blocks."
   ]
  },
  {
   "cell_type": "markdown",
   "metadata": {},
   "source": [
    "Python is an object oriented language just as C++.  As such, many similarities exist between the two languages.  However, python is much more relaxed than C++ when it comes to data protection (no protected variables).  Moreover, it does not provide an easy mechanism to overload methods of identical name but different argument type.  I will show later how to emulate that behavior in python."
   ]
  },
  {
   "cell_type": "markdown",
   "metadata": {},
   "source": [
    "## A basic class\n",
    "\n",
    "Classes are the definition of an object.  They define which data is kept by the object, as well as which functionality if provided by that object.  Th eclass definition should b eviewed as a template on how to build an object.  Every manifestation of such an object is called an instance of that class."
   ]
  },
  {
   "cell_type": "code",
   "execution_count": 11,
   "metadata": {},
   "outputs": [],
   "source": [
    "class Pet(object):\n",
    "    \"\"\"\n",
    "    The Pet class:\n",
    "    \n",
    "    create an object that can remember its name\n",
    "    \"\"\"\n",
    "    \n",
    "    def __init__(self, name='unknown'):\n",
    "        self.name = name\n",
    "    \n",
    "    def __str__(self):\n",
    "        return self.name\n",
    "    \n",
    "    def __repr__(self):\n",
    "        return \"{}(\\\"{}\\\")\".format(self.__class__.__name__,self.name)\n",
    "    \n",
    "    def sound(self):\n",
    "        print(\"{} is silent\".format(self.name))"
   ]
  },
  {
   "cell_type": "code",
   "execution_count": 3,
   "metadata": {},
   "outputs": [],
   "source": [
    "a = Pet(\"Buddy\")\n",
    "b = Pet(\"Kitty\")"
   ]
  },
  {
   "cell_type": "markdown",
   "metadata": {},
   "source": [
    "Pet() is the class definition (the template).  The variables a and b hold instances of that class.\n",
    "\n",
    "Any variable starting with self is a member variable.  Those variables are visible to all methods of the class. \n",
    "There is no clear sequence of execution of methods except for the constructor (__init__(self)), thus, to ensure your code always has the necessary information, all variables starting in self.*** should be initialized inside the constructor.\n",
    "\n",
    "The constructor is called at initiation:\n",
    "~~~\n",
    "a = Pet(\"Buddy\")\n",
    "~~~\n",
    "calls the constructor of the animal class as follows:\n",
    "~~~\n",
    "Pet.__init__(self=a, name=\"Buddy\")\n",
    "~~~\n",
    "The constructor creates a new instance and the variable\n",
    "~~~\n",
    "a.name\n",
    "~~~\n",
    "which contains data \"Buddy\".  Similar, b = Pet(\"Kitty\") creates b.name which contains the string \"Kitty\".\n",
    "\n"
   ]
  },
  {
   "cell_type": "markdown",
   "metadata": {},
   "source": [
    "Each class has a set of predefined methods that provide basic functionality.  One of those methods is the __str__() method, which converts an instance of a class to a string.  The **print** function, e.g., can only display strings.  See what happens when calling"
   ]
  },
  {
   "cell_type": "code",
   "execution_count": 4,
   "metadata": {},
   "outputs": [
    {
     "name": "stdout",
     "output_type": "stream",
     "text": [
      "Buddy\n",
      "Kitty\n"
     ]
    }
   ],
   "source": [
    "print(a)\n",
    "print(b)"
   ]
  },
  {
   "cell_type": "markdown",
   "metadata": {},
   "source": [
    "print(a) wants to do\n",
    "~~~\n",
    "   print(str(a))\n",
    "~~~\n",
    "which in turn executes\n",
    "~~~\n",
    "   print( <Type of a>.__str__(self=a) )\n",
    "~~~\n",
    "This may look complicated at first but is pretty straigth forward once you read and wrote a few lines of code.  The important message is that if you want to print your instances, you need to provide the **__str__(self)** method.\n",
    "<hr>"
   ]
  },
  {
   "cell_type": "markdown",
   "metadata": {},
   "source": [
    "There exists the identical shortcut by directly accessing the class variable name (not recommended):"
   ]
  },
  {
   "cell_type": "code",
   "execution_count": 5,
   "metadata": {},
   "outputs": [
    {
     "name": "stdout",
     "output_type": "stream",
     "text": [
      "Buddy\n"
     ]
    }
   ],
   "source": [
    "print(a.name)"
   ]
  },
  {
   "cell_type": "code",
   "execution_count": 6,
   "metadata": {},
   "outputs": [
    {
     "name": "stdout",
     "output_type": "stream",
     "text": [
      "Kitty\n"
     ]
    }
   ],
   "source": [
    "print(b.name)"
   ]
  },
  {
   "cell_type": "markdown",
   "metadata": {},
   "source": [
    "Another useful method is **__repr__(self)**.  This method is used by the debugger (you'll lern more about debugging next week) and when saving your contents to file using the **pickle** method (not covered by this tutorial.  Please refer to the python manual for details.)\n",
    "\n",
    "The **__repr__(self)** method shall return a string that, when executed, generates an identical copy of the current instance.  In general, this is the form the constructor shall be called."
   ]
  },
  {
   "cell_type": "code",
   "execution_count": 7,
   "metadata": {},
   "outputs": [
    {
     "data": {
      "text/plain": [
       "'Pet(\"Buddy\")'"
      ]
     },
     "execution_count": 7,
     "metadata": {},
     "output_type": "execute_result"
    }
   ],
   "source": [
    "repr(a)"
   ]
  },
  {
   "cell_type": "markdown",
   "metadata": {},
   "source": [
    "Your own methods (not a standard method) must not start or end with **__** (double underliner) to avoid accidential overwriting of default methods (more on that in th enext section)"
   ]
  },
  {
   "cell_type": "code",
   "execution_count": 8,
   "metadata": {},
   "outputs": [
    {
     "name": "stdout",
     "output_type": "stream",
     "text": [
      "Buddy is silent\n"
     ]
    }
   ],
   "source": [
    "a.sound()"
   ]
  },
  {
   "cell_type": "markdown",
   "metadata": {},
   "source": [
    "## Inheritance\n",
    "\n",
    "One of the most powerful concepts of OOP is inheritance.  Let's explain this by looking at your own code: you may have developed code to represent a Dog.  You may also implement code to represent a Cat.  Since both are Pets, you may just copy Dog to Cat and edit where they differ.  However, what if you find a bug in Dog?  You need to fix that bug in Dog and in its copy, Cat.  Adding a new method will result in similar duplication.  Now think of a big family with Cat, Dog, Hamster, Guineapig, and a Goldfish.  You'll have to edit 5 copies, duplicating lots of work.\n",
    "\n",
    "The OOP solution to eliminate duplication is inheritance: Create a class (Pet) that defines what all those animals have in common (here it's a name, the __str__() and the __repr__() methods).  Define Dog, Cat, etc., are children classes of Pet (Parent class).  That way, the children inherit all the functionalities and methods of the parent.  You only define whats new and/or different."
   ]
  },
  {
   "cell_type": "code",
   "execution_count": 9,
   "metadata": {},
   "outputs": [],
   "source": [
    "class Dog(Pet):\n",
    "    \"\"\"\n",
    "    The Dog class inherits constructor, str, and repr from Animal but overwrites sound()\n",
    "    \"\"\"\n",
    "    \n",
    "    def sound(self):\n",
    "        print(\"{} is barking\".format(self.name))\n",
    "\n",
    "\n",
    "class Cat(Pet):\n",
    "    \"\"\"\n",
    "    The Cat class inherits constructor, str, and repr from Animal but overwrites sound()\n",
    "    \"\"\"\n",
    "    \n",
    "    def sound(self):\n",
    "        print(\"{} is meowing\".format(self.name))\n",
    "        "
   ]
  },
  {
   "cell_type": "markdown",
   "metadata": {},
   "source": [
    "Look at the first line: the argument to the class name is the name of the parent class.\n",
    "The body defines the method sound(self). \n",
    "\n",
    "Putting those classes to the test:"
   ]
  },
  {
   "cell_type": "code",
   "execution_count": 81,
   "metadata": {},
   "outputs": [],
   "source": [
    "myDog = Dog('Bash')\n",
    "myCat = Cat('Maggie')\n",
    "myOtherDog = Dog('Callie')"
   ]
  },
  {
   "cell_type": "markdown",
   "metadata": {},
   "source": [
    "These commandsCat, and one more instance of Dog.  This works as follows:\n",
    "~~~\n",
    "myDog = Dog('Bash') -> Dog.__init__(myDog,'Bash') -> \"not found! Ask the parent:\" -> Pet.__init__(myDog,'Bash')\n",
    "~~~\n",
    "and this creates\n",
    "~~~\n",
    "myDog.name -> 'Bash'\n",
    "~~~\n",
    "The __str__(self) method works quite similar:"
   ]
  },
  {
   "cell_type": "code",
   "execution_count": 82,
   "metadata": {},
   "outputs": [
    {
     "name": "stdout",
     "output_type": "stream",
     "text": [
      "Bash\n",
      "Maggie\n"
     ]
    }
   ],
   "source": [
    "print(myDog)\n",
    "print(myCat)"
   ]
  },
  {
   "cell_type": "code",
   "execution_count": 83,
   "metadata": {},
   "outputs": [
    {
     "name": "stdout",
     "output_type": "stream",
     "text": [
      "Dog(Callie) Cat(Maggie)\n"
     ]
    }
   ],
   "source": [
    "print(repr(myOtherDog),repr(myCat))"
   ]
  },
  {
   "cell_type": "code",
   "execution_count": 84,
   "metadata": {},
   "outputs": [
    {
     "name": "stdout",
     "output_type": "stream",
     "text": [
      "Bash is barking\n",
      "Maggie is meowing\n",
      "Callie is barking\n"
     ]
    }
   ],
   "source": [
    "myDog.sound()\n",
    "myCat.sound()\n",
    "myOtherDog.sound()"
   ]
  },
  {
   "cell_type": "markdown",
   "metadata": {},
   "source": [
    "The sound methods (note the same name of the method!), however, finds sound() sooner:\n",
    "~~~\n",
    "myDog.sound() -> Dog.sound(myDog)  # found and executed here.  No need to talk to the parent ;)\n",
    "~~~\n",
    "We say, Pet.sound(self) has been overloaded by the Dog and the Cat class."
   ]
  },
  {
   "cell_type": "markdown",
   "metadata": {},
   "source": [
    "## Built-in functions\n",
    "\n",
    "By default, all classes inherit from the **object** class (see definition of the Animal class above)."
   ]
  },
  {
   "cell_type": "markdown",
   "metadata": {},
   "source": [
    "## Operator overload\n",
    "\n",
    "Another powerful concept of OOP is th econcept of operators and the ability to overload them with your own code.\n",
    "Let's look at some simple code and analyze what python is doing."
   ]
  },
  {
   "cell_type": "code",
   "execution_count": 16,
   "metadata": {},
   "outputs": [],
   "source": [
    "a=2.3\n",
    "b=4.1\n",
    "c=a+b"
   ]
  },
  {
   "cell_type": "code",
   "execution_count": 17,
   "metadata": {},
   "outputs": [
    {
     "data": {
      "text/plain": [
       "6.3999999999999995"
      ]
     },
     "execution_count": 17,
     "metadata": {},
     "output_type": "execute_result"
    }
   ],
   "source": [
    "c"
   ]
  },
  {
   "cell_type": "markdown",
   "metadata": {},
   "source": [
    "Here is the long form of what this code does:"
   ]
  },
  {
   "cell_type": "code",
   "execution_count": 14,
   "metadata": {},
   "outputs": [],
   "source": [
    "a=float(2.3)\n",
    "b=float(4.1)\n",
    "c=float.__add__(a,b)"
   ]
  },
  {
   "cell_type": "code",
   "execution_count": 15,
   "metadata": {},
   "outputs": [
    {
     "data": {
      "text/plain": [
       "6.3999999999999995"
      ]
     },
     "execution_count": 15,
     "metadata": {},
     "output_type": "execute_result"
    }
   ],
   "source": [
    "c"
   ]
  },
  {
   "cell_type": "markdown",
   "metadata": {},
   "source": [
    "float, like all built-in data types, is itself just another class.\n",
    "~~~\n",
    "a=float(2.3)  ->  float.__init__(self=a, 2.3)  \n",
    "~~~\n",
    "and the + symbol is a short form for <type of left variable>.__add__(left_variable, right_variable)"
   ]
  },
  {
   "cell_type": "markdown",
   "metadata": {},
   "source": [
    "Similar operator methods exist for the other standard operators:\n",
    "~~~\n",
    "+   __add__(self,v)\n",
    "-   __sub__(self,v)\n",
    "*   __mul__(self,v)\n",
    "/   __truediv__(self,v)\n",
    "//  __floordiv__(self,v)\n",
    "%   __divmod__(self,v)\n",
    "@   __matmul__(self,v)\n",
    "**  __pow__(self,v)\n",
    "~~~\n",
    "The nice thing is: **you can overload them all!**"
   ]
  },
  {
   "cell_type": "markdown",
   "metadata": {},
   "source": [
    "Let us demonstrate the concept by introducing our own 3D Vector class as follows.\n",
    "1. Start with a list object, since it looks like a vector.  This will be our storage type.\n",
    "2. change the addition from combining lists to vector addition.\n",
    "3. add a subtraction.  Remember, lists throw an exception when trying to subtract them?  Look at the error:"
   ]
  },
  {
   "cell_type": "code",
   "execution_count": 18,
   "metadata": {},
   "outputs": [
    {
     "ename": "TypeError",
     "evalue": "unsupported operand type(s) for -: 'list' and 'list'",
     "output_type": "error",
     "traceback": [
      "\u001b[0;31m---------------------------------------------------------------------------\u001b[0m",
      "\u001b[0;31mTypeError\u001b[0m                                 Traceback (most recent call last)",
      "\u001b[0;32m<ipython-input-18-2e6c9bbdf050>\u001b[0m in \u001b[0;36m<module>\u001b[0;34m\u001b[0m\n\u001b[0;32m----> 1\u001b[0;31m \u001b[0;34m[\u001b[0m\u001b[0;36m1\u001b[0m\u001b[0;34m,\u001b[0m\u001b[0;36m2\u001b[0m\u001b[0;34m,\u001b[0m\u001b[0;36m3\u001b[0m\u001b[0;34m]\u001b[0m\u001b[0;34m-\u001b[0m\u001b[0;34m[\u001b[0m\u001b[0;36m4\u001b[0m\u001b[0;34m,\u001b[0m\u001b[0;36m5\u001b[0m\u001b[0;34m,\u001b[0m\u001b[0;36m6\u001b[0m\u001b[0;34m]\u001b[0m\u001b[0;34m\u001b[0m\u001b[0;34m\u001b[0m\u001b[0m\n\u001b[0m",
      "\u001b[0;31mTypeError\u001b[0m: unsupported operand type(s) for -: 'list' and 'list'"
     ]
    }
   ],
   "source": [
    "[1,2,3]-[4,5,6]"
   ]
  },
  {
   "cell_type": "markdown",
   "metadata": {},
   "source": [
    "4. Add a dot product.  How about using * as the operator?"
   ]
  },
  {
   "cell_type": "code",
   "execution_count": 19,
   "metadata": {},
   "outputs": [],
   "source": [
    "class Vector(object):\n",
    "    \n",
    "    def __init__(self,vec=[0.,0.,0.]):\n",
    "        self.V = vec\n",
    "        \n",
    "    def __str__(self):\n",
    "        return str(self.V)\n",
    "    \n",
    "    def __repr__(self):\n",
    "        return \"Vector({})\".format(str(self.V))\n",
    "    \n",
    "    def __add__(self,w):\n",
    "        ans=[0,0,0]\n",
    "        for i in range(3):\n",
    "            ans[i] = self.V[i] + w[i]  \n",
    "        # ans is just a list !\n",
    "        # This converts it to another Vector\n",
    "        return Vector(ans)\n",
    "    \n",
    "    def __sub__(self,w):\n",
    "        ans=[0,0,0]\n",
    "        for i in range(3):\n",
    "            ans[i] = self.V[i] - w[i]  \n",
    "        # ans is just a list !\n",
    "        # This converts it to another Vector\n",
    "        return Vector(ans)\n",
    "    \n",
    "    def __mul__(self,w):\n",
    "        ans=0\n",
    "        for i in range(3):\n",
    "            ans += self.V[i] * w[i]       \n",
    "        return ans\n",
    "    \n",
    "    # get component i of this Vector instance\n",
    "    def __getitem__(self,i):\n",
    "        return self.V[i]\n",
    "    \n",
    "    # assign value x to the i-th component of this Vector instance\n",
    "    # same as self[i]=x\n",
    "    def __setitem__(self,i,x):\n",
    "        self.V[i] = x\n",
    "            "
   ]
  },
  {
   "cell_type": "code",
   "execution_count": 24,
   "metadata": {},
   "outputs": [
    {
     "name": "stdout",
     "output_type": "stream",
     "text": [
      "[1, 2, 3]\n",
      "[4, 5, 6]\n",
      "[5, 7, 9]\n",
      "[-3, -3, -3]\n",
      "32\n",
      "[5, 7, 9]\n",
      "[1, 2, 3]\n"
     ]
    }
   ],
   "source": [
    "u = Vector([1,2,3])\n",
    "v = Vector([4,5,6])\n",
    "\n",
    "print(u)     # show u\n",
    "print(v)     # show v\n",
    "\n",
    "print(u+v)   # show u+v\n",
    "print(u-v)   # show u-v\n",
    "print(u*v)   # show u dot v\n",
    "\n",
    "w = u+v      # add u and v and store it in the new instance w\n",
    "print(w)     # show the newly created instance\n",
    "print(w-v)   # should be u"
   ]
  },
  {
   "cell_type": "code",
   "execution_count": 25,
   "metadata": {},
   "outputs": [
    {
     "data": {
      "text/plain": [
       "[1, 2, 3, 4, 5, 6]"
      ]
     },
     "execution_count": 25,
     "metadata": {},
     "output_type": "execute_result"
    }
   ],
   "source": [
    "# just remember\n",
    "[1,2,3] + [4,5,6]"
   ]
  },
  {
   "cell_type": "markdown",
   "metadata": {},
   "source": [
    "You see how we used what worked (storage, str()) and overloaded the behavior (__add__, __sub__, __mul__)"
   ]
  },
  {
   "cell_type": "markdown",
   "metadata": {},
   "source": [
    "<hr>\n",
    "\n",
    "[Jump to chapter 4: File I/O](./04%20File%20handling.ipynb)\n",
    "\n",
    "[Jump to chapter 6: Modules](./06%20Modules.ipynb)\n",
    "\n",
    "[Back to the outline](./00%20Outline.ipynb)"
   ]
  }
 ],
 "metadata": {
  "kernelspec": {
   "display_name": "Python 3",
   "language": "python",
   "name": "python3"
  },
  "language_info": {
   "codemirror_mode": {
    "name": "ipython",
    "version": 3
   },
   "file_extension": ".py",
   "mimetype": "text/x-python",
   "name": "python",
   "nbconvert_exporter": "python",
   "pygments_lexer": "ipython3",
   "version": "3.7.4"
  }
 },
 "nbformat": 4,
 "nbformat_minor": 4
}
