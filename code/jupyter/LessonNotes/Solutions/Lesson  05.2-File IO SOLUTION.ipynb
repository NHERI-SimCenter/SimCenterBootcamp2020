{
 "cells": [
  {
   "cell_type": "markdown",
   "metadata": {},
   "source": [
    "# A Python Quick Start Tutorial\n",
    "# Lesson \\#5.2 : File IO & Exception handling - <font color=#ff00>SOLUTION</font>\n",
    "\n",
    "## by Peter Mackenzie-Helnwein\n",
    "University of Washington, Seattle, WA\n",
    "\n",
    "pmackenz@uw.edu          \n",
    "https://www.ce.washington.edu/facultyfinder/peter-mackenzie-helnwein"
   ]
  },
  {
   "cell_type": "markdown",
   "metadata": {},
   "source": [
    "## Resources (reminder)\n",
    "\n",
    "   1. Python Docs: https://docs.python.org/3/\n",
    "   \n",
    "   1. Python Tutorial (comprehensive): https://docs.python.org/3/tutorial/index.html\n",
    "   \n",
    "   1. **File IO**: https://docs.python.org/3/tutorial/inputoutput.html#reading-and-writing-files\n",
    "   \n",
    "   1. **Exception handling**: https://docs.python.org/3/tutorial/errors.html\n",
    "   \n",
    "   1. Python Library Reference (the nitty-gritty details): https://docs.python.org/3/library/index.html\n",
    "   \n",
    "   1. Everything else: http://google.com\n",
    "   "
   ]
  },
  {
   "cell_type": "markdown",
   "metadata": {},
   "source": [
    "## Discussing questions from the self-study assignment\n",
    "\n",
    "This section is to discuss your questions\n"
   ]
  },
  {
   "cell_type": "markdown",
   "metadata": {},
   "source": [
    "### Exercise 1: ... was discussed in Lesson \\#6\n",
    "\n"
   ]
  },
  {
   "cell_type": "markdown",
   "metadata": {},
   "source": [
    "**Remarks**: here is how I created that data file"
   ]
  },
  {
   "cell_type": "code",
   "execution_count": null,
   "metadata": {},
   "outputs": [],
   "source": [
    "import numpy as np\n",
    "\n",
    "# how many data points to generate\n",
    "N = 1000\n",
    "\n",
    "# generate the data\n",
    "x  = np.random.normal(10., 5., N)\n",
    "y1 = np.random.lognormal(5., 2., N)\n",
    "y2 = np.random.uniform(1., 7., N)\n",
    "y3 = np.random.exponential(2., N)\n",
    "\n",
    "# write the file\n",
    "try:\n",
    "    f=open('exercise6_data.csv','w')\n",
    "except:\n",
    "    print(\"Cannot open file 'exercise6_data.txt' for writing\")\n",
    "    raise\n",
    "    \n",
    "template = \"{:16.12e},{:16.12e},{:16.12e},{:16.12e}\\n\"\n",
    "\n",
    "for data in zip(x,y1,y2,y3):\n",
    "    f.write(template.format(*data))\n",
    "\n",
    "f.close()"
   ]
  },
  {
   "cell_type": "markdown",
   "metadata": {},
   "source": [
    "### Exercise 2: \n",
    "\n",
    "If you haven't done so yet, add exception handling to **Exercise 1** using `try: ... except: ...` statement(s)\n"
   ]
  },
  {
   "cell_type": "code",
   "execution_count": 3,
   "metadata": {},
   "outputs": [],
   "source": [
    "import sys\n",
    "import numpy as np\n",
    "\n",
    "def read_from_file(filename):\n",
    "    \n",
    "    # initialize \n",
    "    means = np.zeros(4)\n",
    "    sigs  = np.zeros(4)\n",
    "    N = 0\n",
    "\n",
    "    data = []\n",
    "\n",
    "    # collect data\n",
    "    try:\n",
    "        f = open(filename,'r')\n",
    "    except IOError:\n",
    "        print(\"Could not open file '{}' for reading\".format(filename))\n",
    "        return tuple()\n",
    "\n",
    "    for line in f:\n",
    "        vals = np.array([ float(s) for s in line.strip().split(',') ])\n",
    "\n",
    "        N += 1\n",
    "        means += vals         # collecting x_i\n",
    "        sigs  += vals*vals    # collecting x_i^2\n",
    "\n",
    "        data.append(vals)\n",
    "\n",
    "    # finish up calculations    \n",
    "    means /= N\n",
    "    sigs = np.sqrt(sigs/N - means*means)\n",
    "\n",
    "    for i in range(len(means)):\n",
    "        print(\"data in column {:2d} -> mean={:12.8f}   stdev={:12.8f}\".format(i, means[i],sigs[i]))\n",
    "        \n",
    "    # convert data into a multi-dimensional numpy.array\n",
    "    return np.array(data)"
   ]
  },
  {
   "cell_type": "markdown",
   "metadata": {},
   "source": [
    "**Your task**:\n",
    "Test exception handling through generating errors and verify that your code warns you and exits gracefully."
   ]
  },
  {
   "cell_type": "code",
   "execution_count": 4,
   "metadata": {},
   "outputs": [
    {
     "name": "stdout",
     "output_type": "stream",
     "text": [
      "data in column  0 -> mean= 10.12705438   stdev=  5.02040014\n",
      "data in column  1 -> mean=1023.03763057   stdev=4289.94536914\n",
      "data in column  2 -> mean=  3.92864627   stdev=  1.70554210\n",
      "data in column  3 -> mean=  1.99268738   stdev=  2.09007046\n"
     ]
    }
   ],
   "source": [
    "# this one should work\n",
    "data = read_from_file('exercise6_data.csv')"
   ]
  },
  {
   "cell_type": "code",
   "execution_count": 5,
   "metadata": {},
   "outputs": [
    {
     "name": "stdout",
     "output_type": "stream",
     "text": [
      "Could not open file 'exercise6_data' for reading\n"
     ]
    }
   ],
   "source": [
    "# this one should fail: missing extension\n",
    "data = read_from_file('exercise6_data')"
   ]
  },
  {
   "cell_type": "markdown",
   "metadata": {},
   "source": [
    "### Exercise 3: Writing to a file - our first version of sending data to Excel\n",
    "\n",
    "\n",
    "**Given**:\n",
    "Let's reuse the data file **\"exercise6_data.csv\"**.\n",
    "\n",
    "**Your tasks**:\n",
    "Let's treat the first column as an angle, $\\theta$, in degrees.  Create a file **\"output_data.csv\"** and write to it a line at a time the following information:\n",
    "\n",
    "~~~\n",
    "theta, cos(10.*theta), sin(10.*theta),\n",
    ".\n",
    ".\n",
    "~~~\n",
    "\n",
    "Once completed, open that file in your spread sheet program (Excel, Number, LibreOffice, ...) and create three plots:\n",
    "1. column 1 - column 2\n",
    "2. column 1 - column 3\n",
    "3. column 2 - column 3 (axis equal)\n",
    "\n",
    "**Hint**: the sample points are in random order!  You either need to do a points-only plot or sort the data first when plotting in Excel."
   ]
  },
  {
   "cell_type": "code",
   "execution_count": 6,
   "metadata": {},
   "outputs": [],
   "source": [
    "import sys\n",
    "from numpy import radians, sin, cos\n",
    "\n",
    "try:\n",
    "    infile = open('exercise6_data.csv','r')\n",
    "except:\n",
    "    print(\"Could not open file 'exercise6_data.csv' for reading\")\n",
    "    sys.exit(1)\n",
    "    \n",
    "try:\n",
    "    outfile = open('output_data.csv','w')\n",
    "except:\n",
    "    print(\"Could not open file 'output_data.csv' for writing\")\n",
    "    sys.exit(2)\n",
    "    \n",
    "for line in infile:\n",
    "    theta = float(line.split(',')[0])\n",
    "    outfile.write(\"{:16.12e},{:16.12e},{:16.12e},\\n\".format(theta,cos(10*radians(theta)),sin(10*radians(theta))))\n",
    "    \n",
    "infile.close()\n",
    "outfile.close()\n"
   ]
  },
  {
   "cell_type": "markdown",
   "metadata": {},
   "source": [
    "**Next task**: \n",
    "- Read your file **\"output_data.csv\"** in python.  This time, use `read()` to read all data at once.\n",
    "- create the same three plots using `matplotlib.pyplot`"
   ]
  },
  {
   "cell_type": "code",
   "execution_count": 9,
   "metadata": {},
   "outputs": [
    {
     "data": {
      "image/png": "[encoded data removed]",
      "text/plain": [
       "<Figure size 864x288 with 3 Axes>"
      ]
     },
     "metadata": {
      "needs_background": "light"
     },
     "output_type": "display_data"
    }
   ],
   "source": [
    "try:\n",
    "    f = open('output_data.csv','r')\n",
    "except:\n",
    "    print(\"Could not open file 'output_data.csv' for reading\")\n",
    "    sys.exit(1)\n",
    "    \n",
    "raw_data = f.read()\n",
    "\n",
    "f.close()\n",
    "\n",
    "cols = [[],[],[]]\n",
    "\n",
    "# processing data\n",
    "for line in raw_data.split('\\n'):\n",
    "    if line:\n",
    "        s = line.split(',')\n",
    "        for c in zip(cols,s[:3]):\n",
    "            c[0].append(float(c[1]))\n",
    "        \n",
    "# plotting\n",
    "import matplotlib.pyplot as plt\n",
    "\n",
    "fig, (ax1,ax2,ax3) = plt.subplots(1,3,figsize=plt.figaspect(1./3.))\n",
    "\n",
    "ax1.plot(cols[0],cols[1],'.r')\n",
    "ax2.plot(cols[0],cols[2],'.r')\n",
    "ax3.plot(cols[1],cols[2],'.r')\n",
    "\n",
    "ax1.grid(True)\n",
    "ax2.grid(True)\n",
    "ax3.grid(True)\n",
    "ax3.set_aspect(1.0)"
   ]
  },
  {
   "cell_type": "markdown",
   "metadata": {},
   "source": [
    "### Exercise 4: Parsing a binary file - the tough nut to crack!\n",
    "\n",
    "**Given**:\n",
    "- A binary file named **\"weird_stuff.cesg\"**\n",
    "- The data is organized as sequence of binary representation of three (3) floating point numbers per data point.\n",
    "\n",
    "**Your task**:\n",
    "1. open the file for binary reading\n",
    "2. read a data point at a time (format: 'ddd') -> (X1, X2, X3)\n",
    "3. collect all data in a list of data points\n",
    "4. plot X2-X3 (X2 on the horizontal, X3 on the vertical axis). Set aspect to equal.\n",
    "\n",
    "**Useful functions**:\n",
    "- I found all the useful information on: https://docs.python.org/3.1/library/struct.html#functions-and-exceptions\n",
    "- check out `struct.pack`, `struct.unpack`, `struct.calcsize`, and `struct.peek`\n",
    "- you may need the `size` argument to `f.read(size)`\n"
   ]
  },
  {
   "cell_type": "code",
   "execution_count": 21,
   "metadata": {},
   "outputs": [
    {
     "data": {
      "image/png": "[encoded data removed]",
      "text/plain": [
       "<Figure size 432x288 with 1 Axes>"
      ]
     },
     "metadata": {
      "needs_background": "light"
     },
     "output_type": "display_data"
    }
   ],
   "source": [
    "import sys\n",
    "import numpy as np\n",
    "from struct import *\n",
    "import matplotlib.pyplot as plt\n",
    "\n",
    "\n",
    "try:\n",
    "    f = open('weird_stuff.cesg','rb')\n",
    "except IOError:\n",
    "    print('Cannot open file for binary reading')\n",
    "    sys.exit(1)\n",
    "    \n",
    "N = calcsize('ddd')\n",
    "\n",
    "x = []\n",
    "\n",
    "#while f.peek(N):\n",
    "binary_data = f.read(N)\n",
    "\n",
    "while binary_data:\n",
    "    try:\n",
    "        data = list(unpack('ddd',binary_data))\n",
    "        x.append(data)\n",
    "        binary_data = f.read(N)\n",
    "        #print(binary_data)\n",
    "    except:\n",
    "        print(\"don't know what to do with {}\".format(binary_data))\n",
    "        raise\n",
    "\n",
    "f.close()\n",
    "\n",
    "# plot data read from file\n",
    "\n",
    "X = np.array(x)\n",
    "\n",
    "ax = plt.subplot(111)\n",
    "ax.plot(X[:,1],X[:,2])\n",
    "ax.grid(True)\n",
    "ax.set_aspect('equal')\n",
    "        "
   ]
  },
  {
   "cell_type": "markdown",
   "metadata": {},
   "source": [
    "**Remarks**: here is how I created that binary file"
   ]
  },
  {
   "cell_type": "code",
   "execution_count": 20,
   "metadata": {},
   "outputs": [
    {
     "data": {
      "image/png": "[encoded data removed]",
      "text/plain": [
       "<Figure size 432x288 with 1 Axes>"
      ]
     },
     "metadata": {
      "needs_background": "light"
     },
     "output_type": "display_data"
    }
   ],
   "source": [
    "import sys\n",
    "import numpy as np\n",
    "from struct import *\n",
    "import matplotlib.pyplot as plt\n",
    "\n",
    "# create data\n",
    "\n",
    "th = np.linspace(0.,360.,360)\n",
    "s = np.log(2.+np.sin(np.radians(th)))\n",
    "c = np.log(2.+np.cos(np.radians(th)))\n",
    "\n",
    "# plot data as computed\n",
    "\n",
    "ax = plt.subplot(111)\n",
    "ax.plot(c,s)\n",
    "ax.grid(True)\n",
    "ax.set_aspect('equal')\n",
    "\n",
    "# write data to a binary file\n",
    "\n",
    "try:\n",
    "    f = open('weird_stuff.cesg','wb')\n",
    "except IOError:\n",
    "    print('Cannot open file for binary writing')\n",
    "    sys.exit(1)\n",
    "    \n",
    "for data in zip(th,c,s):\n",
    "    f.write(pack('ddd',*data))\n",
    "    \n",
    "f.close()\n",
    "        "
   ]
  },
  {
   "cell_type": "markdown",
   "metadata": {},
   "source": [
    "## Homework questions\n",
    "\n",
    "We can all learn from your questions!"
   ]
  }
 ],
 "metadata": {
  "kernelspec": {
   "display_name": "Python 3",
   "language": "python",
   "name": "python3"
  },
  "language_info": {
   "codemirror_mode": {
    "name": "ipython",
    "version": 3
   },
   "file_extension": ".py",
   "mimetype": "text/x-python",
   "name": "python",
   "nbconvert_exporter": "python",
   "pygments_lexer": "ipython3",
   "version": "3.8.5"
  }
 },
 "nbformat": 4,
 "nbformat_minor": 4
}
