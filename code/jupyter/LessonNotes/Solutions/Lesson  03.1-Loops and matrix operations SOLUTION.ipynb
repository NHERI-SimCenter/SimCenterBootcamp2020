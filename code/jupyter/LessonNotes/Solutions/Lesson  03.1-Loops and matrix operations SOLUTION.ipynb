{
 "cells": [
  {
   "cell_type": "markdown",
   "metadata": {},
   "source": [
    "# A Python Quick Start Tutorial\n",
    "# Lesson \\#3 : Loops & Matrix Operations\n",
    "## by Peter Mackenzie-Helnwein - <font color=red>SOLUTION</font>\n",
    "University of Washington, Seattle, WA\n",
    "\n",
    "pmackenz@uw.edu          \n",
    "https://www.ce.washington.edu/facultyfinder/peter-mackenzie-helnwein"
   ]
  },
  {
   "cell_type": "markdown",
   "metadata": {},
   "source": [
    "## Resources (reminder)\n",
    "\n",
    "   1. Python Docs: https://docs.python.org/3/\n",
    "   \n",
    "   1. Python Tutorial (comprehensive): https://docs.python.org/3/tutorial/index.html\n",
    "   \n",
    "   1. Python Library Reference (the nitty-gritty details): https://docs.python.org/3/library/index.html\n",
    "   \n",
    "   1. Everything else: http://google.com\n",
    "   "
   ]
  },
  {
   "cell_type": "markdown",
   "metadata": {},
   "source": [
    "## Discussing questions from the self-study assignment\n",
    "\n",
    "This section is to discuss your questions\n"
   ]
  },
  {
   "cell_type": "markdown",
   "metadata": {},
   "source": [
    "### Exercise 1: Looping over dictionaries\n",
    "\n",
    "**Given**:\n",
    "A dictionary `your_course` is given as follows (please do a `shift-enter` to initialize it)"
   ]
  },
  {
   "cell_type": "code",
   "execution_count": 1,
   "metadata": {},
   "outputs": [],
   "source": [
    "your_course = {\n",
    "               'department':'CEE',\n",
    "               'group':'CESG',\n",
    "               'number':'505 A&B',\n",
    "               'complexity':10,\n",
    "               'workload':0,\n",
    "               'credits':3,\n",
    "               'instructor':'Dr Peter'\n",
    "              }"
   ]
  },
  {
   "cell_type": "markdown",
   "metadata": {},
   "source": [
    "**Your tasks**:\n",
    "1. Write a loop to print all keys, one per line"
   ]
  },
  {
   "cell_type": "code",
   "execution_count": 2,
   "metadata": {},
   "outputs": [
    {
     "name": "stdout",
     "output_type": "stream",
     "text": [
      "department\n",
      "group\n",
      "number\n",
      "complexity\n",
      "workload\n",
      "credits\n",
      "instructor\n"
     ]
    }
   ],
   "source": [
    "for k in your_course:\n",
    "    print(k)"
   ]
  },
  {
   "cell_type": "markdown",
   "metadata": {},
   "source": [
    "2. Change complexity to 6 and workload to 8"
   ]
  },
  {
   "cell_type": "code",
   "execution_count": 3,
   "metadata": {},
   "outputs": [],
   "source": [
    "your_course['complexity']=6\n",
    "your_course['workload']=8"
   ]
  },
  {
   "cell_type": "markdown",
   "metadata": {},
   "source": [
    "3. copy and modify the loop from 1. to print \"key: value\", one per line"
   ]
  },
  {
   "cell_type": "code",
   "execution_count": 4,
   "metadata": {},
   "outputs": [
    {
     "name": "stdout",
     "output_type": "stream",
     "text": [
      "department  : CEE\n",
      "group       : CESG\n",
      "number      : 505 A&B\n",
      "complexity  : 6\n",
      "workload    : 8\n",
      "credits     : 3\n",
      "instructor  : Dr Peter\n"
     ]
    }
   ],
   "source": [
    "for k in your_course:\n",
    "    print(\"{:12s}: {}\".format(k, your_course[k]))"
   ]
  },
  {
   "cell_type": "markdown",
   "metadata": {},
   "source": [
    "4. Write a condition that checks if `your_course` has a field named `'expected_grade'`.\n",
    "    - If the field DOES exist, print **\"Field exists with value of {:3.1f}\".format(_the value associated with that key_)\"**\n",
    "    - If the field DOES NOT exist, create it and assign a sensible value, the print **\"Field created with value of {:3.1f}\".format(_the value associated with that key_)\"**"
   ]
  },
  {
   "cell_type": "code",
   "execution_count": 5,
   "metadata": {},
   "outputs": [
    {
     "name": "stdout",
     "output_type": "stream",
     "text": [
      "Field created with value of 4.0\n"
     ]
    }
   ],
   "source": [
    "if 'expected_grade' in your_course:\n",
    "    print(\"Field exists with value of {:3.1f}\".format(your_course['expected_grade']))\n",
    "else:\n",
    "    your_course['expected_grade'] = 4.0\n",
    "    print(\"Field created with value of {:3.1f}\".format(your_course['expected_grade']))"
   ]
  },
  {
   "cell_type": "markdown",
   "metadata": {},
   "source": [
    "Execute the above code again to verify that the new key/value pair was added"
   ]
  },
  {
   "cell_type": "code",
   "execution_count": 6,
   "metadata": {},
   "outputs": [
    {
     "name": "stdout",
     "output_type": "stream",
     "text": [
      "Field exists with value of 4.0\n"
     ]
    }
   ],
   "source": [
    "if 'expected_grade' in your_course:\n",
    "    print(\"Field exists with value of {:3.1f}\".format(your_course['expected_grade']))\n",
    "else:\n",
    "    your_course['expected_grade'] = 4.0\n",
    "    print(\"Field created with value of {:3.1f}\".format(your_course['expected_grade']))"
   ]
  },
  {
   "cell_type": "code",
   "execution_count": 7,
   "metadata": {},
   "outputs": [
    {
     "name": "stdout",
     "output_type": "stream",
     "text": [
      "department  : CEE\n",
      "group       : CESG\n",
      "number      : 505 A&B\n",
      "complexity  : 6\n",
      "workload    : 8\n",
      "credits     : 3\n",
      "instructor  : Dr Peter\n",
      "expected_grade: 4.0\n"
     ]
    }
   ],
   "source": [
    "for k in your_course:\n",
    "    print(\"{:12s}: {}\".format(k, your_course[k]))"
   ]
  },
  {
   "cell_type": "markdown",
   "metadata": {},
   "source": [
    "### Exercise 2: Looping over Strings\n",
    "\n",
    "Strings are \"Lists of characters\". Thus, you can loop through a string.\n",
    "\n",
    "Moreover, multi-line text is also just a single string with newline characters ('\\n') separating lines.\n",
    "\n",
    "Consider the following string (a poem by Phillis Wheatley, the first African-American author of a published book of poetry):"
   ]
  },
  {
   "cell_type": "code",
   "execution_count": 19,
   "metadata": {},
   "outputs": [],
   "source": [
    "s = \"\"\"'Twas mercy brought me from my Pagan land,\n",
    "Taught my benighted soul to understand\n",
    "That there's a God, that there's a Saviour too:\n",
    "Once I redemption neither sought nor knew.\n",
    "Some view our sable race with scornful eye,\n",
    "\"Their colour is a diabolic die.\"\n",
    "Remember, Christians, Negros, black as Cain,\n",
    "May be refin'd, and join th' angelic train.\n",
    "\n",
    "            BY PHILLIS WHEATLEY \"\"\""
   ]
  },
  {
   "cell_type": "markdown",
   "metadata": {},
   "source": [
    "We used `\"\"\"...\"\"\"` to define a multi-line string.  While this looks nice, it is still a single string as can be verified by the next command."
   ]
  },
  {
   "cell_type": "code",
   "execution_count": 20,
   "metadata": {},
   "outputs": [
    {
     "data": {
      "text/plain": [
       "'\\'Twas mercy brought me from my Pagan land,\\nTaught my benighted soul to understand\\nThat there\\'s a God, that there\\'s a Saviour too:\\nOnce I redemption neither sought nor knew.\\nSome view our sable race with scornful eye,\\n\"Their colour is a diabolic die.\"\\nRemember, Christians, Negros, black as Cain,\\nMay be refin\\'d, and join th\\' angelic train.\\n\\n            BY PHILLIS WHEATLEY '"
      ]
     },
     "execution_count": 20,
     "metadata": {},
     "output_type": "execute_result"
    }
   ],
   "source": [
    "s"
   ]
  },
  {
   "cell_type": "markdown",
   "metadata": {},
   "source": [
    "Note the `\\n` in this string?  This example actually shows the difference between just typing the variable `s` (above) or using the `print()` command."
   ]
  },
  {
   "cell_type": "code",
   "execution_count": 21,
   "metadata": {},
   "outputs": [
    {
     "name": "stdout",
     "output_type": "stream",
     "text": [
      "'Twas mercy brought me from my Pagan land,\n",
      "Taught my benighted soul to understand\n",
      "That there's a God, that there's a Saviour too:\n",
      "Once I redemption neither sought nor knew.\n",
      "Some view our sable race with scornful eye,\n",
      "\"Their colour is a diabolic die.\"\n",
      "Remember, Christians, Negros, black as Cain,\n",
      "May be refin'd, and join th' angelic train.\n",
      "\n",
      "            BY PHILLIS WHEATLEY \n"
     ]
    }
   ],
   "source": [
    "print(s)"
   ]
  },
  {
   "cell_type": "markdown",
   "metadata": {},
   "source": [
    "**Your task**:\n",
    "Write code that counts and outputs\n",
    "1. The number of lines in the string `s`.\n",
    "2. The number of non-whitespace characters (whitespace is `' '`, `'\\t'` (tab), `'\\n'` (newline)\n",
    "3. The number of words."
   ]
  },
  {
   "cell_type": "code",
   "execution_count": 22,
   "metadata": {},
   "outputs": [
    {
     "name": "stdout",
     "output_type": "stream",
     "text": [
      "\\t\n"
     ]
    }
   ],
   "source": [
    "print('\\\\t')"
   ]
  },
  {
   "cell_type": "code",
   "execution_count": 26,
   "metadata": {},
   "outputs": [
    {
     "name": "stdout",
     "output_type": "stream",
     "text": [
      "Found 10 lines\n",
      "Found 299 printable characters\n",
      "Found 61 words\n"
     ]
    }
   ],
   "source": [
    "# list of white space chars (tuple, actually)\n",
    "whitespace = (' ','\\n','\\t','\\0')\n",
    "\n",
    "# initialize counters\n",
    "num_lines = 1\n",
    "num_chars = 0\n",
    "num_words = 0\n",
    "\n",
    "# do the counting\n",
    "last_char = ''\n",
    "for char in s:\n",
    "    if char=='\\n':\n",
    "        num_lines += 1\n",
    "    if char not in whitespace:\n",
    "        num_chars += 1\n",
    "    else:\n",
    "        if  last_char not in whitespace:\n",
    "            num_words += 1\n",
    "    last_char = char\n",
    "        \n",
    "print(\"Found {} lines\".format(num_lines))\n",
    "print(\"Found {} printable characters\".format(num_chars))\n",
    "print(\"Found {} words\".format(num_words))"
   ]
  },
  {
   "cell_type": "markdown",
   "metadata": {},
   "source": [
    "### Exercise 3: Some linear algebra\n",
    "\n",
    "**Theory**: \n",
    "The eigenvalue problem for a symmetric matrix ${\\bf A}$ is defined as\n",
    "$$\n",
    "    ({\\bf A}-\\lambda_i {\\bf 1})\\,{\\bf n_i} = {\\bf 0}\n",
    "$$\n",
    "where $\\lambda_i$ is the $i^{th}$ eigenvalue and ${\\bf n}$ is the  $i^{th}$ eigenvector.\n",
    "\n",
    "Pre-multiplying this equation with the eigenvector yields\n",
    "$$\n",
    "    {\\bf n_i}\\cdot({\\bf A}-\\lambda_i {\\bf 1})\\,{\\bf n_i} = 0\n",
    "    \\quad\\Rightarrow\\quad\n",
    "    \\lambda_i = \\frac{{\\bf n_i}\\cdot{\\bf A}\\cdot{\\bf n_i}}{{\\bf n_i}\\cdot{\\bf n_i}}\n",
    "$$\n",
    "The expression for $\\lambda_i$ is the _Rayleigh coefficient_.\n",
    "\n",
    "**Your tasks**:\n",
    "1. use `numpy.linalg.eig` to solve to find eigenvalues and eigenvectors of the given matrix ${\\bf A}$\n",
    "2. in a loop, verify that the _Rayleigh coefficient_ indeed yields the eigenvalues.\n",
    "3. test, whether or not the following expression is true\n",
    "   $$\n",
    "      \\text{for}~~{\\bf v}=\\frac{\\sqrt{2}}{2}({\\bf n}_1+{\\bf n}_2)\n",
    "      \\quad\\to\\quad\n",
    "      \\frac{{\\bf v}\\cdot{\\bf A}\\cdot{\\bf v}}{{\\bf v}\\cdot{\\bf v}} = \\frac{\\lambda_1 + \\lambda_2}{2}\n",
    "   $$\n",
    "   whill this result hold for ${\\bf v}=({\\bf n}_1+{\\bf n}_2)$?"
   ]
  },
  {
   "cell_type": "code",
   "execution_count": 39,
   "metadata": {},
   "outputs": [],
   "source": [
    "# GIVEN ... please execute this cell to initialize A\n",
    "\n",
    "from numpy import array\n",
    "\n",
    "A = array(\n",
    "    [[3,2,1,0,0],\n",
    "     [2,3,2,1,0],\n",
    "     [1,2,3,2,1],\n",
    "     [0,1,2,3,2],\n",
    "     [0,0,1,2,3]]\n",
    ")"
   ]
  },
  {
   "cell_type": "markdown",
   "metadata": {},
   "source": [
    "I define helper functions to compute the Rayleigh coefficient and to perform a relaxed floating point comparison"
   ]
  },
  {
   "cell_type": "code",
   "execution_count": 44,
   "metadata": {},
   "outputs": [],
   "source": [
    "def rayleigh(A,v):\n",
    "    q = v@v\n",
    "    if q>0.0:\n",
    "        ans = v@A@v/q\n",
    "    else:\n",
    "        raise\n",
    "    return ans\n",
    "\n",
    "def test_equal(a,b):\n",
    "    if abs(b-a) < 1.e-12:\n",
    "        return True\n",
    "    else:\n",
    "        return False"
   ]
  },
  {
   "cell_type": "code",
   "execution_count": 45,
   "metadata": {},
   "outputs": [
    {
     "name": "stdout",
     "output_type": "stream",
     "text": [
      "[7.65427349 4.56155281 1.74770274 0.43844719 0.59802377]\n",
      "[[ 3.28733703e-01  5.57345410e-01  6.17548407e-01  4.35162146e-01\n",
      "   1.02801351e-01]\n",
      " [ 4.85676469e-01  4.35162146e-01 -1.78297793e-01 -5.57345410e-01\n",
      "  -4.82004424e-01]\n",
      " [ 5.58663621e-01 -6.11410290e-16 -4.16758592e-01 -3.92388876e-15\n",
      "   7.17082447e-01]\n",
      " [ 4.85676469e-01 -4.35162146e-01 -1.78297793e-01  5.57345410e-01\n",
      "  -4.82004424e-01]\n",
      " [ 3.28733703e-01 -5.57345410e-01  6.17548407e-01 -4.35162146e-01\n",
      "   1.02801351e-01]]\n"
     ]
    }
   ],
   "source": [
    "from numpy import sqrt\n",
    "from numpy.linalg import eig\n",
    "\n",
    "# 1. *****************\n",
    "lam,nvec = eig(A)\n",
    "print(lam)\n",
    "print(nvec)"
   ]
  },
  {
   "cell_type": "code",
   "execution_count": 46,
   "metadata": {},
   "outputs": [
    {
     "name": "stdout",
     "output_type": "stream",
     "text": [
      "from eig:   7.654273492980 <=> Rayleigh:   7.381558569180   => False\n",
      "from eig:   4.561552812809 <=> Rayleigh:   4.520723212062   => False\n",
      "from eig:   1.747702740583 <=> Rayleigh:   1.936643730918   => False\n",
      "from eig:   0.438447187191 <=> Rayleigh:   0.506515417796   => False\n",
      "from eig:   0.598023766437 <=> Rayleigh:   0.654559070044   => False\n",
      "----\n",
      "from eig:   7.654273492980 <=> Rayleigh:   7.654273492980   => True\n",
      "from eig:   4.561552812809 <=> Rayleigh:   4.561552812809   => True\n",
      "from eig:   1.747702740583 <=> Rayleigh:   1.747702740583   => True\n",
      "from eig:   0.438447187191 <=> Rayleigh:   0.438447187191   => True\n",
      "from eig:   0.598023766437 <=> Rayleigh:   0.598023766437   => True\n"
     ]
    }
   ],
   "source": [
    "# 2. *****************\n",
    "\n",
    "template = \"from eig: {:16.12f} <=> Rayleigh: {:16.12f}   => {}\"\n",
    "\n",
    "# ... wrong way\n",
    "for pair in zip(lam,nvec):\n",
    "    lamR = rayleigh(A,pair[1])\n",
    "    print(template.format(pair[0],lamR, test_equal(pair[0],lamR)))\n",
    "    \n",
    "print('----')\n",
    "# ... correct way\n",
    "for pair in zip(lam,nvec.T):\n",
    "    lamR = rayleigh(A,pair[1])\n",
    "    print(template.format(pair[0],lamR, test_equal(pair[0],lamR))) "
   ]
  },
  {
   "cell_type": "code",
   "execution_count": 47,
   "metadata": {},
   "outputs": [
    {
     "name": "stdout",
     "output_type": "stream",
     "text": [
      "lam1+lam2:   6.107913152894 <=> Rayleigh:   6.107913152894   => True\n",
      "lam1+lam2:   6.107913152894 <=> Rayleigh:   6.107913152894   => True\n"
     ]
    }
   ],
   "source": [
    "# 3.a  *****************\n",
    "v = (nvec[:,0]+nvec[:,1])/sqrt(2)\n",
    "rhs = (lam[0]+lam[1])/2\n",
    "lhs = rayleigh(A,v)\n",
    "print(\"lam1+lam2: {:16.12f} <=> Rayleigh: {:16.12f}   => {}\".format(rhs,lhs,test_equal(rhs,lhs)))\n",
    "\n",
    "# 3.b  *****************\n",
    "v = (nvec[:,0]+nvec[:,1])\n",
    "rhs = (lam[0]+lam[1])/2\n",
    "lhs = rayleigh(A,v)\n",
    "print(\"lam1+lam2: {:16.12f} <=> Rayleigh: {:16.12f}   => {}\".format(rhs,lhs,test_equal(rhs,lhs)))"
   ]
  },
  {
   "cell_type": "markdown",
   "metadata": {},
   "source": [
    "### Exercise 4: Conversion from MATLAB\n",
    "\n",
    "You may already have some MATLAB code that you want to migrate to python.  Using the `matrix` type is a quick and dirty way, though using `array` is the _highly_ recommended way.\n",
    "\n",
    "Using the `array` type, try converting this MATLAB code segment into python\n",
    "\n",
    "~~~\n",
    "x = linspace(0,10,11)';\n",
    "x2 = x.*x;              # generates a list of x^2\n",
    "one = ones(11,1);       # a vector full of ones\n",
    "y = sin(pi*x/10);\n",
    "\n",
    "A = [ one'*one, one'*x, one'*x2\n",
    "        x'*one,   x'*x,   x'*x2\n",
    "       x2'*one,  x2'*x,  x2'*x2 ];\n",
    "\n",
    "b = [ y'*one; y'*x; y'*x2 ];\n",
    "\n",
    "p = A\\b\n",
    "\n",
    "ybar = [ one, x, x2 ]*p;\n",
    "\n",
    "errvec = y-ybar;\n",
    "\n",
    "err = sqrt((errvec'*errvec)/length(x))\n",
    "~~~\n",
    "\n",
    "which generates\n",
    "\n",
    "~~~\n",
    "p =\n",
    "\n",
    "  -0.025578\n",
    "   0.399704\n",
    "  -0.039970\n",
    "\n",
    "err =  0.021912\n",
    "~~~\n",
    "\n",
    "**hints**:\n",
    "1. Think vector as 1D-array and matrix as 2D-array\n",
    "2. think matrix or dot product -> @\n",
    "3. the `numpy.hstack` or `numpy.vstack` function may come in handy"
   ]
  },
  {
   "cell_type": "code",
   "execution_count": 37,
   "metadata": {},
   "outputs": [
    {
     "name": "stdout",
     "output_type": "stream",
     "text": [
      "parameters p = [-0.02557832  0.39970382 -0.03997038]\n",
      "error = 0.021911970681663454\n"
     ]
    }
   ],
   "source": [
    "from numpy import array,linspace, sqrt, sin, ones, pi, vstack, hstack\n",
    "from numpy.linalg import solve\n",
    "\n",
    "x = linspace(0,10,11)\n",
    "x2 = x*x               # generates a list of x^2\n",
    "one = ones(11)         # a vector full of ones\n",
    "y = sin(pi*x/10.)\n",
    "\n",
    "A = array([[one@one, one@x, one@x2 ],\n",
    "           [  x@one,   x@x,   x@x2 ],\n",
    "           [ x2@one,  x2@x,  x2@x2 ]])\n",
    "\n",
    "b = array([ y@one, y@x, y@x2 ])\n",
    "\n",
    "p = solve(A,b)\n",
    "\n",
    "# ybar = p@array([one,x,x2])\n",
    "ybar = array([one,x,x2]).T@p\n",
    "\n",
    "errvec = y-ybar\n",
    "\n",
    "err = sqrt((errvec@errvec)/len(x))\n",
    "\n",
    "print(\"parameters p = {}\".format(p))\n",
    "print(\"error = {}\".format(err))"
   ]
  },
  {
   "cell_type": "code",
   "execution_count": 30,
   "metadata": {},
   "outputs": [
    {
     "data": {
      "text/plain": [
       "[array([1., 1., 1., 1., 1., 1., 1., 1., 1., 1., 1.]),\n",
       " array([ 0.,  1.,  2.,  3.,  4.,  5.,  6.,  7.,  8.,  9., 10.]),\n",
       " array([  0.,   1.,   4.,   9.,  16.,  25.,  36.,  49.,  64.,  81., 100.])]"
      ]
     },
     "execution_count": 30,
     "metadata": {},
     "output_type": "execute_result"
    }
   ],
   "source": [
    "[one,x,x2]"
   ]
  },
  {
   "cell_type": "code",
   "execution_count": 34,
   "metadata": {},
   "outputs": [
    {
     "data": {
      "text/plain": [
       "array([-0.02557832,  0.33415512,  0.61394779,  0.8137997 ,  0.93371085,\n",
       "        0.97368123,  0.93371085,  0.8137997 ,  0.61394779,  0.33415512,\n",
       "       -0.02557832])"
      ]
     },
     "execution_count": 34,
     "metadata": {},
     "output_type": "execute_result"
    }
   ],
   "source": [
    "p @ array([one,x,x2])"
   ]
  },
  {
   "cell_type": "code",
   "execution_count": 33,
   "metadata": {},
   "outputs": [
    {
     "data": {
      "text/plain": [
       "array([-0.02557832,  0.33415512,  0.61394779,  0.8137997 ,  0.93371085,\n",
       "        0.97368123,  0.93371085,  0.8137997 ,  0.61394779,  0.33415512,\n",
       "       -0.02557832])"
      ]
     },
     "execution_count": 33,
     "metadata": {},
     "output_type": "execute_result"
    }
   ],
   "source": [
    "array([one,x,x2]).T @ p"
   ]
  },
  {
   "cell_type": "markdown",
   "metadata": {},
   "source": [
    "## Homework questions\n",
    "\n",
    "We can all learn from your questions!"
   ]
  },
  {
   "cell_type": "code",
   "execution_count": null,
   "metadata": {},
   "outputs": [],
   "source": []
  }
 ],
 "metadata": {
  "kernelspec": {
   "display_name": "Python 3",
   "language": "python",
   "name": "python3"
  },
  "language_info": {
   "codemirror_mode": {
    "name": "ipython",
    "version": 3
   },
   "file_extension": ".py",
   "mimetype": "text/x-python",
   "name": "python",
   "nbconvert_exporter": "python",
   "pygments_lexer": "ipython3",
   "version": "3.8.5"
  }
 },
 "nbformat": 4,
 "nbformat_minor": 4
}
