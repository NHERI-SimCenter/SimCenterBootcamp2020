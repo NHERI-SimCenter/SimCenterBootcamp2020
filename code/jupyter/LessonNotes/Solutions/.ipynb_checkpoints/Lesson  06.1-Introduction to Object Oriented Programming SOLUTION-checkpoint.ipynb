{
 "cells": [
  {
   "cell_type": "markdown",
   "metadata": {},
   "source": [
    "# A Python Quick Start Tutorial\n",
    "# Lesson \\#6 :  Introduction to Object Oriented Programming (OOP) - <font color=red>SOLUTION</font>\n",
    "## by Peter Mackenzie-Helnwein\n",
    "University of Washington, Seattle, WA\n",
    "\n",
    "pmackenz@uw.edu          \n",
    "https://www.ce.washington.edu/facultyfinder/peter-mackenzie-helnwein"
   ]
  },
  {
   "cell_type": "markdown",
   "metadata": {},
   "source": [
    "## Resources (reminder)\n",
    "   \n",
    "   1. Python Docs: https://docs.python.org/3/\n",
    "   \n",
    "   1. Python Tutorial (comprehensive): https://docs.python.org/3/tutorial/index.html\n",
    "   \n",
    "   1. <font color=red>**Classes**</font>: https://docs.python.org/3/tutorial/classes.html#a-first-look-at-classes\n",
    "   \n",
    "   1. Python Library Reference (the nitty-gritty details): https://docs.python.org/3/library/index.html\n",
    "   \n",
    "   1. Everything else: http://google.com\n",
    "   "
   ]
  },
  {
   "cell_type": "markdown",
   "metadata": {},
   "source": [
    "## Homework Questions & Discussion\n",
    "\n",
    "Reserving time for questions on Assignment \\#4\n",
    "\n",
    "..."
   ]
  },
  {
   "cell_type": "markdown",
   "metadata": {},
   "source": [
    "## Discussing questions from the self-study assignment\n",
    "\n",
    "This section is to discuss your questions\n"
   ]
  },
  {
   "cell_type": "markdown",
   "metadata": {},
   "source": [
    "### Exercise 1:  Thinking about Objects\n",
    "\n",
    "**Given**:\n",
    "\n",
    "A large project requires collaboration of multiple companies and administrative entities.  Each of these collaborators will have to manage their own company, do internal business, and business with (one or many) customers.  Each entity will require their own internal organization, hold protected and public information, conduct their business, and communicate and coordinate with customers.\n",
    "\n",
    "\n",
    "**Your Task**:\n",
    "\n",
    "Each team represents one company:\n",
    "* Breakout Room \\#1: ***'BIG BANK'***, a large financial institution.\n",
    "* Breakout Room \\#2: ***'PAVE A AWAY'***, a construction firm specializing in road construction.\n",
    "* Breakout Room \\#3: ***'WIDE SPAN'***, a company specializing in concrete bridge construction.\n",
    "* Breakout Room \\#4: ***'ENGI-NERDS'***, a large structural analysis firm.\n",
    "\n",
    "Discuss the following and enter the answers in the provided google sheet.\n",
    "1. What kind of **internal** information do you keep?\n",
    "1. What kind of **public per customer** information do you keep?\n",
    "1. What kind of **public for everybody** information do you keep?\n",
    "1. What kind of **internal/private** tasks does your company  do?\n",
    "1. What kind of **public** tasks does your company  do?\n",
    "\n",
    "- Shared work sheet: https://docs.google.com/spreadsheets/d/1L8sMNIizG5wpyNwhykgAmgTtmTOxON5unv1EAfasi6M/edit?usp=sharing\n",
    "\n"
   ]
  },
  {
   "cell_type": "markdown",
   "metadata": {},
   "source": [
    "### Exercise 2:  Thinking about access functions\n",
    "\n",
    "Now that you have established your company's setup, let's look what it takes to actually conduct some business.\n",
    "\n",
    "**Your Task**:\n",
    "\n",
    "Discuss the following and enter the answers in the provided google sheet.\n",
    "1. What kind of **requests** should your company receive?\n",
    "1. What kind of **services** will your company provide? (response to requests)\n",
    "1. What kind of **requests** should your company post toward other companies?\n",
    "\n",
    "- Shared work sheet: https://docs.google.com/spreadsheets/d/1L8sMNIizG5wpyNwhykgAmgTtmTOxON5unv1EAfasi6M/edit?usp=sharing\n"
   ]
  },
  {
   "cell_type": "markdown",
   "metadata": {},
   "source": [
    "### Exercise 3: Defining an object in Python\n",
    "\n",
    "In python, pretty much everything is an object - defined as a `class`.  Classes can go from very simple to very complex.  Let's start by creating an extensed data type that holds data in a form:\n",
    "\n",
    "| data      | variable     | type       |\n",
    "|:----------|:-------------|:-----------|\n",
    "| first name | `_.first_name` | string | \n",
    "| last name | `_.last_name` | string | \n",
    "| email | `_.email` | string | \n",
    "| phone number | `_.phone` | string |\n",
    "| year of birth | `_.YOB` | integer | \n",
    "\n",
    "`_` stands for any variable name representing an instance of the class.\n",
    "\n",
    "**Your tasks**:\n",
    "1. Use the provided template and add the missing variables.\n",
    "1. Why "
   ]
  },
  {
   "cell_type": "code",
   "execution_count": null,
   "metadata": {},
   "outputs": [],
   "source": [
    "class MyDataType():\n",
    "    \n",
    "    def __init__(self):\n",
    "        self.first_name = 'Jane'\n",
    "        self.last_name  = 'Doe'\n",
    "        # more here\n",
    "        \n",
    "    def __str__(self):\n",
    "        s =  \"First name: {}\\n\".format(self.first_name)\n",
    "        s += \"Last name:  {}\\n\".format(self.last_name)\n",
    "        # more here\n",
    "        \n",
    "        return s\n",
    "        "
   ]
  },
  {
   "cell_type": "code",
   "execution_count": 12,
   "metadata": {},
   "outputs": [],
   "source": [
    "class MyDataType():\n",
    "    \n",
    "    def __init__(self):\n",
    "        self.first_name = 'Jane'\n",
    "        self.last_name  = 'Doe'\n",
    "        self.email      = 'jane.doe@gmail.com'\n",
    "        self.phone      = '(206) 987-6543'\n",
    "        self.YOB        = 2000\n",
    "        \n",
    "    def __str__(self):\n",
    "        s =  \"First name:    {}\\n\".format(self.first_name)\n",
    "        s += \"Last name:     {}\\n\".format(self.last_name)\n",
    "        s += \"E-mail:        {}\\n\".format(self.email)\n",
    "        s += \"Phone number:  {}\\n\".format(self.phone)\n",
    "        s += \"Year of birth: {}\\n\".format(self.YOB)\n",
    "        \n",
    "        return s\n",
    "        "
   ]
  },
  {
   "cell_type": "markdown",
   "metadata": {},
   "source": [
    "**How to use this**:\n",
    "\n",
    "Executing the above cell did not produce any output.  Actually, it didn't run any code either but instead defined the class.  Things will be executed once we create some instances of that class.\n",
    "\n",
    "1. create two instances or `MyDataType` named `student1` and `student1`.\n",
    "1. modify the ***instance*** `student2` to hold your information.\n",
    "1. create a print statement that shows all the information stored for ***both*** instances"
   ]
  },
  {
   "cell_type": "code",
   "execution_count": 19,
   "metadata": {},
   "outputs": [],
   "source": [
    "student1 = MyDataType()\n",
    "student2 = MyDataType()\n",
    "\n",
    "student2.first_name = 'Peter'\n",
    "student2.last_name  = 'Mackenzie-Helnwein'\n",
    "student2.email      = 'pmckenz@uw.edu'\n",
    "student2.phone      = '(206) 724-4589'\n",
    "student2.YOB        = 1965"
   ]
  },
  {
   "cell_type": "code",
   "execution_count": 20,
   "metadata": {},
   "outputs": [
    {
     "name": "stdout",
     "output_type": "stream",
     "text": [
      "First name:    Jane\n",
      "Last name:     Doe\n",
      "E-mail:        jane.doe@gmail.com\n",
      "Phone number:  (206) 987-6543\n",
      "Year of birth: 2000\n",
      "\n",
      "First name:    Peter\n",
      "Last name:     Mackenzie-Helnwein\n",
      "E-mail:        pmckenz@uw.edu\n",
      "Phone number:  (206) 724-4589\n",
      "Year of birth: 1965\n",
      "\n"
     ]
    }
   ],
   "source": [
    "print(student1)\n",
    "print(student2)"
   ]
  },
  {
   "cell_type": "code",
   "execution_count": 21,
   "metadata": {},
   "outputs": [
    {
     "data": {
      "text/plain": [
       "55"
      ]
     },
     "execution_count": 21,
     "metadata": {},
     "output_type": "execute_result"
    }
   ],
   "source": [
    "2020 - student2.YOB"
   ]
  },
  {
   "cell_type": "markdown",
   "metadata": {},
   "source": [
    "### Exercise 4: Using the debugger\n",
    "\n",
    "**Your task**:\n"
   ]
  },
  {
   "cell_type": "code",
   "execution_count": 1,
   "metadata": {},
   "outputs": [],
   "source": [
    "class MyDataType():\n",
    "    \n",
    "    def __init__(self,\n",
    "                 first = 'Jane',\n",
    "                 last  = 'Doe',\n",
    "                 email = 'jane.doe@gmail.com',\n",
    "                 phone = '(000) 000-0000',\n",
    "                 yob   = 2000):\n",
    "        \n",
    "        self.first_name = first\n",
    "        self.last_name  = last\n",
    "        self.email      = email\n",
    "        self.phone      = phone\n",
    "        self.YOB        = yop\n",
    "        \n",
    "    def __str__(self):\n",
    "        s =  \"First name:    {}\\n\".format(self.first_name)\n",
    "        s += \"Last name:     {}\\n\".format(self.last_name)\n",
    "        s += \"E-mail:        {}\\n\".format(self.email)\n",
    "        s += \"Phone number:  {}\\n\".format(self.phone)\n",
    "        s += \"Year of birth: {}\\n\".format(self.YOB)\n",
    "        \n",
    "        return s"
   ]
  },
  {
   "cell_type": "code",
   "execution_count": 2,
   "metadata": {},
   "outputs": [
    {
     "ename": "NameError",
     "evalue": "name 'yop' is not defined",
     "output_type": "error",
     "traceback": [
      "\u001b[0;31m---------------------------------------------------------------------------\u001b[0m",
      "\u001b[0;31mNameError\u001b[0m                                 Traceback (most recent call last)",
      "\u001b[0;32m<ipython-input-2-0f3e67be46b4>\u001b[0m in \u001b[0;36m<module>\u001b[0;34m\u001b[0m\n\u001b[0;32m----> 1\u001b[0;31m \u001b[0mstudent1\u001b[0m \u001b[0;34m=\u001b[0m \u001b[0mMyDataType\u001b[0m\u001b[0;34m(\u001b[0m\u001b[0;34m)\u001b[0m\u001b[0;34m\u001b[0m\u001b[0;34m\u001b[0m\u001b[0m\n\u001b[0m\u001b[1;32m      2\u001b[0m \u001b[0mstudent2\u001b[0m \u001b[0;34m=\u001b[0m \u001b[0mMyDataType\u001b[0m\u001b[0;34m(\u001b[0m\u001b[0mfirst\u001b[0m\u001b[0;34m=\u001b[0m\u001b[0;34m'John'\u001b[0m\u001b[0;34m,\u001b[0m\u001b[0memail\u001b[0m\u001b[0;34m=\u001b[0m\u001b[0;34m'john.doe@hotmail.com'\u001b[0m\u001b[0;34m)\u001b[0m\u001b[0;34m\u001b[0m\u001b[0;34m\u001b[0m\u001b[0m\n\u001b[1;32m      3\u001b[0m \u001b[0;34m\u001b[0m\u001b[0m\n\u001b[1;32m      4\u001b[0m \u001b[0mprint\u001b[0m\u001b[0;34m(\u001b[0m\u001b[0mstudent1\u001b[0m\u001b[0;34m)\u001b[0m\u001b[0;34m\u001b[0m\u001b[0;34m\u001b[0m\u001b[0m\n\u001b[1;32m      5\u001b[0m \u001b[0mprint\u001b[0m\u001b[0;34m(\u001b[0m\u001b[0mstudent2\u001b[0m\u001b[0;34m)\u001b[0m\u001b[0;34m\u001b[0m\u001b[0;34m\u001b[0m\u001b[0m\n",
      "\u001b[0;32m<ipython-input-1-2c732a58bbea>\u001b[0m in \u001b[0;36m__init__\u001b[0;34m(self, first, last, email, phone, yob)\u001b[0m\n\u001b[1;32m     12\u001b[0m         \u001b[0mself\u001b[0m\u001b[0;34m.\u001b[0m\u001b[0memail\u001b[0m      \u001b[0;34m=\u001b[0m \u001b[0memail\u001b[0m\u001b[0;34m\u001b[0m\u001b[0;34m\u001b[0m\u001b[0m\n\u001b[1;32m     13\u001b[0m         \u001b[0mself\u001b[0m\u001b[0;34m.\u001b[0m\u001b[0mphone\u001b[0m      \u001b[0;34m=\u001b[0m \u001b[0mphone\u001b[0m\u001b[0;34m\u001b[0m\u001b[0;34m\u001b[0m\u001b[0m\n\u001b[0;32m---> 14\u001b[0;31m         \u001b[0mself\u001b[0m\u001b[0;34m.\u001b[0m\u001b[0mYOB\u001b[0m        \u001b[0;34m=\u001b[0m \u001b[0myop\u001b[0m\u001b[0;34m\u001b[0m\u001b[0;34m\u001b[0m\u001b[0m\n\u001b[0m\u001b[1;32m     15\u001b[0m \u001b[0;34m\u001b[0m\u001b[0m\n\u001b[1;32m     16\u001b[0m     \u001b[0;32mdef\u001b[0m \u001b[0m__str__\u001b[0m\u001b[0;34m(\u001b[0m\u001b[0mself\u001b[0m\u001b[0;34m)\u001b[0m\u001b[0;34m:\u001b[0m\u001b[0;34m\u001b[0m\u001b[0;34m\u001b[0m\u001b[0m\n",
      "\u001b[0;31mNameError\u001b[0m: name 'yop' is not defined"
     ]
    }
   ],
   "source": [
    "student1 = MyDataType()\n",
    "student2 = MyDataType(first='John',email='john.doe@hotmail.com')\n",
    "\n",
    "print(student1)\n",
    "print(student2)"
   ]
  },
  {
   "cell_type": "code",
   "execution_count": 3,
   "metadata": {},
   "outputs": [
    {
     "name": "stdout",
     "output_type": "stream",
     "text": [
      "> \u001b[0;32m<ipython-input-1-2c732a58bbea>\u001b[0m(14)\u001b[0;36m__init__\u001b[0;34m()\u001b[0m\n",
      "\u001b[0;32m     12 \u001b[0;31m        \u001b[0mself\u001b[0m\u001b[0;34m.\u001b[0m\u001b[0memail\u001b[0m      \u001b[0;34m=\u001b[0m \u001b[0memail\u001b[0m\u001b[0;34m\u001b[0m\u001b[0;34m\u001b[0m\u001b[0m\n",
      "\u001b[0m\u001b[0;32m     13 \u001b[0;31m        \u001b[0mself\u001b[0m\u001b[0;34m.\u001b[0m\u001b[0mphone\u001b[0m      \u001b[0;34m=\u001b[0m \u001b[0mphone\u001b[0m\u001b[0;34m\u001b[0m\u001b[0;34m\u001b[0m\u001b[0m\n",
      "\u001b[0m\u001b[0;32m---> 14 \u001b[0;31m        \u001b[0mself\u001b[0m\u001b[0;34m.\u001b[0m\u001b[0mYOB\u001b[0m        \u001b[0;34m=\u001b[0m \u001b[0myop\u001b[0m\u001b[0;34m\u001b[0m\u001b[0;34m\u001b[0m\u001b[0m\n",
      "\u001b[0m\u001b[0;32m     15 \u001b[0;31m\u001b[0;34m\u001b[0m\u001b[0m\n",
      "\u001b[0m\u001b[0;32m     16 \u001b[0;31m    \u001b[0;32mdef\u001b[0m \u001b[0m__str__\u001b[0m\u001b[0;34m(\u001b[0m\u001b[0mself\u001b[0m\u001b[0;34m)\u001b[0m\u001b[0;34m:\u001b[0m\u001b[0;34m\u001b[0m\u001b[0;34m\u001b[0m\u001b[0m\n",
      "\u001b[0m\n",
      "ipdb> yop\n",
      "*** NameError: name 'yop' is not defined\n",
      "ipdb> self\n",
      "<__main__.MyDataType object at 0x105b316a0>\n",
      "ipdb> yob\n",
      "2000\n",
      "ipdb> exit\n"
     ]
    }
   ],
   "source": [
    "%debug"
   ]
  },
  {
   "cell_type": "code",
   "execution_count": 6,
   "metadata": {},
   "outputs": [],
   "source": [
    "class MyDataType():\n",
    "    \n",
    "    def __init__(self,\n",
    "                 first = 'Jane',\n",
    "                 last  = 'Doe',\n",
    "                 email = 'jane.doe@gmail.com',\n",
    "                 phone = '(000) 000-0000',\n",
    "                 yob   = 2000):\n",
    "        \n",
    "        self.first_name = first\n",
    "        self.last_name  = last\n",
    "        self.email      = email\n",
    "        self.phone      = phone\n",
    "        self.YOB        = yob\n",
    "        \n",
    "    def __str__(self):\n",
    "        s =  \"First name:    {}\\n\".format(self.first_name)\n",
    "        s += \"Last name:     {}\\n\".format(self.last_name)\n",
    "        s += \"E-mail:        {}\\n\".format(self.email)\n",
    "        s += \"Phone number:  {}\\n\".format(self.phone)\n",
    "        s += \"Year of birth: {}\\n\".format(self.YOB)\n",
    "        \n",
    "        return s\n",
    "        \n",
    "    def __repr__(self):\n",
    "        tmp = \"MyDataType(first='{}', last='{}', email='{}', phone='{}', yob={} )\"\n",
    "        s = tmp.format( self.first_name,\n",
    "                        self.last_name,\n",
    "                        self.email,\n",
    "                        self.phone,\n",
    "                        self.YOB )\n",
    "        return s\n",
    "        "
   ]
  },
  {
   "cell_type": "code",
   "execution_count": 10,
   "metadata": {},
   "outputs": [
    {
     "name": "stdout",
     "output_type": "stream",
     "text": [
      "First name:    Jane\n",
      "Last name:     Doe\n",
      "E-mail:        jane.doe@gmail.com\n",
      "Phone number:  (000) 000-0000\n",
      "Year of birth: 2000\n",
      "\n",
      "First name:    John\n",
      "Last name:     Doe\n",
      "E-mail:        john.doe@hotmail.com\n",
      "Phone number:  (000) 000-0000\n",
      "Year of birth: 2000\n",
      "\n",
      "MyDataType(first='Jane', last='Doe', email='jane.doe@gmail.com', phone='(000) 000-0000', yob=2000 )\n",
      "MyDataType(first='John', last='Doe', email='john.doe@hotmail.com', phone='(000) 000-0000', yob=2000 )\n"
     ]
    }
   ],
   "source": [
    "student1 = MyDataType()\n",
    "student2 = MyDataType(first='John',email='john.doe@hotmail.com')\n",
    "\n",
    "print(student1)\n",
    "print(student2)\n",
    "\n",
    "print(repr(student1))\n",
    "print(repr(student2))"
   ]
  },
  {
   "cell_type": "markdown",
   "metadata": {},
   "source": [
    "**IMPORTANT**: The `repr(...)` function shall create a string that, when executed, creates a new instance of `MyDataType` that holds the same data."
   ]
  },
  {
   "cell_type": "code",
   "execution_count": 11,
   "metadata": {},
   "outputs": [],
   "source": [
    "student2_copy = MyDataType(first='John', last='Doe', email='john.doe@hotmail.com', phone='(000) 000-0000', yob=2000 )"
   ]
  },
  {
   "cell_type": "code",
   "execution_count": 12,
   "metadata": {},
   "outputs": [
    {
     "name": "stdout",
     "output_type": "stream",
     "text": [
      "First name:    John\n",
      "Last name:     Doe\n",
      "E-mail:        john.doe@hotmail.com\n",
      "Phone number:  (000) 000-0000\n",
      "Year of birth: 2000\n",
      "\n",
      "First name:    John\n",
      "Last name:     Doe\n",
      "E-mail:        john.doe@hotmail.com\n",
      "Phone number:  (000) 000-0000\n",
      "Year of birth: 2000\n",
      "\n"
     ]
    }
   ],
   "source": [
    "print(student2)\n",
    "print(student2_copy)"
   ]
  },
  {
   "cell_type": "markdown",
   "metadata": {},
   "source": [
    "The following is to demonstrate that `student2_copy` is a separate instance of `MyDataType`"
   ]
  },
  {
   "cell_type": "code",
   "execution_count": 14,
   "metadata": {},
   "outputs": [
    {
     "name": "stdout",
     "output_type": "stream",
     "text": [
      "First name:    John\n",
      "Last name:     Doe\n",
      "E-mail:        john.doe@hotmail.com\n",
      "Phone number:  (111) 111-1111\n",
      "Year of birth: 2000\n",
      "\n",
      "First name:    John\n",
      "Last name:     Doe\n",
      "E-mail:        john.doe@hotmail.com\n",
      "Phone number:  (000) 000-0000\n",
      "Year of birth: 2002\n",
      "\n",
      "First name:    John\n",
      "Last name:     Doe\n",
      "E-mail:        john.doe@hotmail.com\n",
      "Phone number:  (111) 111-1111\n",
      "Year of birth: 2000\n",
      "\n",
      "First name:    John\n",
      "Last name:     Doe\n",
      "E-mail:        john.doe@hotmail.com\n",
      "Phone number:  (000) 000-0000\n",
      "Year of birth: 2002\n",
      "\n"
     ]
    }
   ],
   "source": [
    "print(student2)\n",
    "print(student2_copy)\n",
    "\n",
    "student2_copy.YOB = 2002\n",
    "student2.phone = '(111) 111-1111'\n",
    "\n",
    "print(student2)\n",
    "print(student2_copy)"
   ]
  },
  {
   "cell_type": "code",
   "execution_count": null,
   "metadata": {},
   "outputs": [],
   "source": []
  }
 ],
 "metadata": {
  "kernelspec": {
   "display_name": "Python 3",
   "language": "python",
   "name": "python3"
  },
  "language_info": {
   "codemirror_mode": {
    "name": "ipython",
    "version": 3
   },
   "file_extension": ".py",
   "mimetype": "text/x-python",
   "name": "python",
   "nbconvert_exporter": "python",
   "pygments_lexer": "ipython3",
   "version": "3.8.5"
  }
 },
 "nbformat": 4,
 "nbformat_minor": 4
}
