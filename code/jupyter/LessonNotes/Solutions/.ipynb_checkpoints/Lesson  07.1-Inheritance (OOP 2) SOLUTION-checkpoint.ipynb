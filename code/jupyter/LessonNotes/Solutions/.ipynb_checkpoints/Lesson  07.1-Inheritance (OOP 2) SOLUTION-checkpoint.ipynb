{
 "cells": [
  {
   "cell_type": "markdown",
   "metadata": {},
   "source": [
    "# A Python Quick Start Tutorial\n",
    "# Lesson \\#7 :  Inheritance (OOP cont'd) - <font color=red>SOLUTION</font>\n",
    "## by Peter Mackenzie-Helnwein\n",
    "University of Washington, Seattle, WA\n",
    "\n",
    "pmackenz@uw.edu          \n",
    "https://www.ce.washington.edu/facultyfinder/peter-mackenzie-helnwein"
   ]
  },
  {
   "cell_type": "markdown",
   "metadata": {},
   "source": [
    "## Resources (reminder)\n",
    "   \n",
    "   1. Python Docs: https://docs.python.org/3/\n",
    "   \n",
    "   1. Python Tutorial (comprehensive): https://docs.python.org/3/tutorial/index.html\n",
    "   \n",
    "   1. <font color=red>**Classes**</font>: https://docs.python.org/3/tutorial/classes.html#a-first-look-at-classes\n",
    "   \n",
    "   1. <font color=red>**Inheritance**</font>: https://docs.python.org/3/tutorial/classes.html#inheritance\n",
    "   \n",
    "   1. Python Library Reference (the nitty-gritty details): https://docs.python.org/3/library/index.html\n",
    "   \n",
    "   1. Everything else: http://google.com\n",
    "   "
   ]
  },
  {
   "cell_type": "markdown",
   "metadata": {},
   "source": [
    "## Homework Questions & Discussion\n",
    "\n",
    "Reserving time for questions on Assignment \\#4\n",
    "\n",
    "..."
   ]
  },
  {
   "cell_type": "markdown",
   "metadata": {},
   "source": [
    "## Discussing questions from the self-study assignment\n",
    "\n",
    "This section is to discuss your questions\n",
    "\n",
    "...\n"
   ]
  },
  {
   "cell_type": "markdown",
   "metadata": {},
   "source": [
    "# Demonstration: Using the debugger\n",
    "\n",
    "<font color=magenta>***\"Bug-free code is a soleley theoretical concept!\"***</font>\n",
    "\n",
    "_This exercise is a continuation of our Lesson 8 exercises._\n",
    "\n",
    "**Your task**:\n",
    "Execute the following *3* cells to\n",
    "1. define an alternative form of `MyDataType`\n",
    "1. cause an exception\n",
    "1. look at the traceback information with the debugger"
   ]
  },
  {
   "cell_type": "code",
   "execution_count": null,
   "metadata": {},
   "outputs": [],
   "source": [
    "class MyDataType():\n",
    "    \n",
    "    def __init__(self,\n",
    "                 first = 'Jane',\n",
    "                 last  = 'Doe',\n",
    "                 email = 'jane.doe@gmail.com',\n",
    "                 phone = '(000) 000-0000',\n",
    "                 yob   = 2000):\n",
    "        \n",
    "        self.first_name = first\n",
    "        self.last_name  = last\n",
    "        self.email      = email\n",
    "        self.phone      = phone\n",
    "        self.YOB        = yob\n",
    "        \n",
    "        raise\n",
    "        \n",
    "    def __str__(self):\n",
    "        s =  \"First name:    {}\\n\".format(self.first_name)\n",
    "        s += \"Last name:     {}\\n\".format(self.last_name)\n",
    "        s += \"E-mail:        {}\\n\".format(self.email)\n",
    "        s += \"Phone number:  {}\\n\".format(self.phone)\n",
    "        s += \"Year of birth: {}\\n\".format(self.YOB)\n",
    "        \n",
    "        return s"
   ]
  },
  {
   "cell_type": "code",
   "execution_count": null,
   "metadata": {},
   "outputs": [],
   "source": [
    "student1 = MyDataType()\n",
    "student2 = MyDataType(first='John',email='john.doe@hotmail.com')\n",
    "\n",
    "# sloppy printing statement\n",
    "student1"
   ]
  },
  {
   "cell_type": "markdown",
   "metadata": {},
   "source": [
    "**TO DO**:\n",
    "remove the `raise` in the above constructor (`__init__(self)`) before moving to the next cell."
   ]
  },
  {
   "cell_type": "code",
   "execution_count": null,
   "metadata": {},
   "outputs": [],
   "source": [
    "# the propper printing statement\n",
    "\n",
    "print(student1)\n",
    "print(student2)"
   ]
  },
  {
   "cell_type": "markdown",
   "metadata": {},
   "source": [
    "**What's the difference?**\n",
    "\n",
    "`print(student1)` => `print(str(student1))` => `print(student1.__str__())` => `print(MyDataType.__str__(student1))`\n",
    "\n",
    "`student1` => `repr(student1)` => `student1.__repr__()` => `MyDataType.__repr__(student1)`"
   ]
  },
  {
   "cell_type": "markdown",
   "metadata": {},
   "source": [
    "**Your task**: \n",
    "Fix the code in the cell below such that the next two cells execute without the exception"
   ]
  },
  {
   "cell_type": "code",
   "execution_count": null,
   "metadata": {},
   "outputs": [],
   "source": [
    "class MyDataType():\n",
    "    \n",
    "    def __init__(self,\n",
    "                 first = 'Jane',\n",
    "                 last  = 'Doe',\n",
    "                 email = 'jane.doe@gmail.com',\n",
    "                 phone = '(000) 000-0000',\n",
    "                 yob   = 2000):\n",
    "        \n",
    "        self.first_name = first\n",
    "        self.last_name  = last\n",
    "        self.email      = email\n",
    "        self.phone      = phone\n",
    "        self.YOB        = yob\n",
    "        \n",
    "        raise\n",
    "        \n",
    "    def __str__(self):\n",
    "        s =  \"First name:    {}\\n\".format(self.first_name)\n",
    "        s += \"Last name:     {}\\n\".format(self.last_name)\n",
    "        s += \"E-mail:        {}\\n\".format(self.email)\n",
    "        s += \"Phone number:  {}\\n\".format(self.phone)\n",
    "        s += \"Year of birth: {}\\n\".format(self.YOB)\n",
    "        \n",
    "        return s\n",
    "        \n",
    "    def __repr__(self):\n",
    "        tmp = \"MyDataType(first='{}', last='{}', email='{}', phone='{}', yob={} )\"\n",
    "        s = tmp.format( self.first_name,\n",
    "                        self.last_name,\n",
    "                        self.email,\n",
    "                        self.phone,\n",
    "                        self.YOB )\n",
    "        return s\n",
    "        "
   ]
  },
  {
   "cell_type": "code",
   "execution_count": null,
   "metadata": {},
   "outputs": [],
   "source": [
    "student1 = MyDataType()\n",
    "student2 = MyDataType(first='John',email='john.doe@hotmail.com')\n",
    "\n",
    "print(student1)\n",
    "print(student2)\n",
    "\n",
    "print(repr(student1))\n",
    "print(repr(student2))"
   ]
  },
  {
   "cell_type": "markdown",
   "metadata": {},
   "source": [
    "**IMPORTANT**: The `repr(...)` function shall create a string that, when executed, creates a new instance of `MyDataType` that holds the same data."
   ]
  },
  {
   "cell_type": "code",
   "execution_count": null,
   "metadata": {},
   "outputs": [],
   "source": [
    "student2_copy = ..."
   ]
  },
  {
   "cell_type": "code",
   "execution_count": null,
   "metadata": {},
   "outputs": [],
   "source": [
    "print(student2)\n",
    "print(student2_copy)"
   ]
  },
  {
   "cell_type": "markdown",
   "metadata": {},
   "source": [
    "The following is to demonstrate that `student2_copy` is a separate instance of `MyDataType`"
   ]
  },
  {
   "cell_type": "code",
   "execution_count": null,
   "metadata": {},
   "outputs": [],
   "source": [
    "print(student2)\n",
    "print(student2_copy)\n",
    "\n",
    "student2_copy.YOB = 2002\n",
    "student2.phone = '(111) 111-1111'\n",
    "\n",
    "print(student2)\n",
    "print(student2_copy)"
   ]
  },
  {
   "cell_type": "markdown",
   "metadata": {},
   "source": [
    "### Exercise 2:  Designing a Family Tree\n",
    "\n",
    "We want to create a series of classes to represent entries in a family tree.  \n",
    "Each entry `Individual` shall provide the following methods:\n",
    "\n",
    "|method|input|returns|notes|\n",
    "|:-----|:----|:-----|:----|\n",
    "|`first_name`|none|string||\n",
    "|`last_name`|none|string||\n",
    "|`full_name`|none|string|as `'first last'`|\n",
    "|`gender`|none|string|default to `'unknown'`|\n",
    "|`DOB`||string|date of birth as string `'YYYY-MM-DD'`|\n",
    "|`children`||tuple|as a list of (pointers to) child objects|\n",
    "|`partner`||tuple|as a list of (pointers to) partner objects, most cases empty or one, but ...|\n",
    "|`add_child`|child object||adds that child to the list of children|\n",
    "|`add_partner`|another individual object||add that partner to partner list|\n",
    "|`__str__`||string|a nice representation of this `Individual`|\n",
    "\n",
    "\n",
    "**Your Task**:\n",
    "1. Given the `Human` class defined below, create the `Individual` class by deriving it from `Human` through **inheritance** and adding **only necessary** methods, thus, minimizing your effort.\n",
    "2. add some simple test that creates a small family with parents and two children. Use `print(mom)` (or similar) to produce nice info."
   ]
  },
  {
   "cell_type": "code",
   "execution_count": null,
   "metadata": {},
   "outputs": [],
   "source": [
    "class Human():\n",
    "    \"\"\"\n",
    "    Representation of a Human\n",
    "    \n",
    "    variables:\n",
    "        self.firstname\n",
    "        self.lastname\n",
    "        self.gender\n",
    "        self.date_of_birth\n",
    "    \n",
    "    methods:\n",
    "        __init__(self,first='unknown',last='unknown',gender='unknown',dob='2000-01-01')\n",
    "        __str__(self)\n",
    "        __repr__(self)\n",
    "        first_name(self)\n",
    "        last_name(self)\n",
    "        full_name(self)  \n",
    "    \"\"\"\n",
    "    \n",
    "    def __init__(self,first='unknown',last='unknown',gender='unknown',dob='2000-01-01'):\n",
    "        self.firstname = first\n",
    "        self.lastname  = last\n",
    "        self.gender    = gender\n",
    "        self.date_of_birth = dob\n",
    "        \n",
    "    def __str__(self):\n",
    "        s =  \"First name:    {}\\n\".format(self.firstname)\n",
    "        s += \"Last name:     {}\\n\".format(self.lastname)\n",
    "        s += \"Gender:        {}\\n\".format(self.gender)\n",
    "        s += \"date of birth: {}\\n\".format(self.date_of_birth)\n",
    "        return s\n",
    "        \n",
    "    def __repr__(self):\n",
    "        template=\"Human(first='{}',last='{}',gender='{}',dob='{}')\"\n",
    "        s = template.format(self.firstname,\n",
    "                            self.lastname,\n",
    "                            self.gender,\n",
    "                            self.date_of_birth)\n",
    "        return s\n",
    "    \n",
    "    def first_name(self):\n",
    "        return self.firstname\n",
    "    \n",
    "    def last_name(self):\n",
    "        return self.lastname\n",
    "    \n",
    "    def full_name(self):\n",
    "        return \"{} {}\".format(self.firstname, self.lastname)\n",
    "    "
   ]
  },
  {
   "cell_type": "code",
   "execution_count": null,
   "metadata": {},
   "outputs": [],
   "source": [
    "human1 = Human()\n",
    "human2 = Human(first='John',last='Doe',gender='male',dob='1950-07-04')\n",
    "\n",
    "print(human1)\n",
    "print(human2)"
   ]
  },
  {
   "cell_type": "code",
   "execution_count": null,
   "metadata": {},
   "outputs": [],
   "source": [
    "class Individual(Human):\n",
    "    \"\"\"\n",
    "    Representation of an Individual\n",
    "        \n",
    "    variables:\n",
    "        self.the_partner = []\n",
    "        self.the_children = []\n",
    "    \n",
    "    variables (inherited):\n",
    "        self.firstname\n",
    "        self.lastname\n",
    "        self.gender\n",
    "        self.date_of_birth\n",
    "    \n",
    "    methods:\n",
    "        __init__(self,first='unknown',last='unknown',gender='unknown',dob='2000-01-01')\n",
    "        __str__(self)\n",
    "        partner(self)\n",
    "        children(self)\n",
    "        add_partner(self, partner)\n",
    "        add_child(self, child)\n",
    "    \"\"\"\n",
    "    \n",
    "    def __init__(self,first='unknown',last='unknown',gender='unknown',dob='2000-01-01'):\n",
    "        super().__init__(first=first,last=last,gender=gender,dob=dob)\n",
    "        self.the_partner  = []\n",
    "        self.the_children = []\n",
    "                       \n",
    "    def __str__(self):\n",
    "        # s = Human.__str__(self)\n",
    "        s = super().__str__()\n",
    "        if self.the_partner:\n",
    "            s += \"Partner(s): {}\\n\".format([ partner.full_name() for partner in self.the_partner ])\n",
    "            #s += \"Partner(s): {}\\n\".format(self.the_partner)\n",
    "        if self.the_children:\n",
    "            s += \"Children:   {}\\n\".format([ child.full_name() for child in self.the_children ])\n",
    "        return s\n",
    "    \n",
    "    def partner(self):\n",
    "        return tuple(self.the_partner)\n",
    "    \n",
    "    def children(self):\n",
    "        return tuple(self.the_children)\n",
    "    \n",
    "    def add_partner(self, partner):\n",
    "        self.the_partner.append(partner)\n",
    "    \n",
    "    def add_child(self, child):\n",
    "        self.the_children.append(child)\n",
    "        "
   ]
  },
  {
   "cell_type": "code",
   "execution_count": null,
   "metadata": {},
   "outputs": [],
   "source": [
    "# creating Individuals\n",
    "\n",
    "dad  = Individual(first='Bob',last='Parr',gender='male',dob='1985-01-02')\n",
    "mom  = Individual(first='Helen',last='Parr',gender='female',dob='1980-03-04')\n",
    "girl = Individual(first='Violet',last='Parr',gender='female',dob='2002-05-06')\n",
    "boy  = Individual(first='Jack-Jack',last='Parr',gender='male',dob='2004-07-08')\n",
    "\n",
    "print(mom)\n",
    "print(dad)"
   ]
  },
  {
   "cell_type": "code",
   "execution_count": null,
   "metadata": {},
   "outputs": [],
   "source": [
    "# connecting individuals\n",
    "\n",
    "mom.add_partner(dad)\n",
    "dad.add_partner(mom)\n",
    "\n",
    "mom.add_child(girl)\n",
    "mom.add_child(boy)\n",
    "dad.add_child(girl)\n",
    "dad.add_child(boy)\n",
    "\n",
    "print(mom)\n",
    "print(dad)"
   ]
  },
  {
   "cell_type": "markdown",
   "metadata": {},
   "source": [
    "3. Create a new class `AltIndividual` from `Individual` that adds the ability to store information on parents.  \n",
    "    - What member variables need to be added?  \n",
    "    - What methods need to be added?\n",
    "    - create a simple test and demonstrate the new feature"
   ]
  },
  {
   "cell_type": "code",
   "execution_count": null,
   "metadata": {},
   "outputs": [],
   "source": [
    "class AltIndividual(Individual):\n",
    "    \"\"\"\n",
    "    Modify Individual to incorporate parent information\n",
    "        \n",
    "    variables:\n",
    "        self.the_parents = []\n",
    "    \n",
    "    variables (inherited):\n",
    "        self.firstname\n",
    "        self.lastname\n",
    "        self.gender\n",
    "        self.date_of_birth\n",
    "        self.the_partner = []\n",
    "        self.the_children = []\n",
    "    \n",
    "    methods:\n",
    "        __str__(self)\n",
    "        parents(self)\n",
    "        add_parent(self, parent)\n",
    "    \"\"\"\n",
    "    \n",
    "    def __init__(self,first='unknown',last='unknown',gender='unknown',dob='2000-01-01'):\n",
    "        super().__init__(first=first,last=last,gender=gender,dob=dob)\n",
    "        self.the_parents = []\n",
    "                       \n",
    "    def __str__(self):\n",
    "        s = Individual.__str__(self)\n",
    "        if self.the_parents:\n",
    "            s += \"Parents:    {}\\n\".format([ parent.full_name() for parent in self.the_parents ])\n",
    "        return s\n",
    "    \n",
    "    def parents(self):\n",
    "        return tuple(self.the_parents)\n",
    "    \n",
    "    def add_parent(self, parent):\n",
    "        self.the_parents.append(parent)\n",
    "        "
   ]
  },
  {
   "cell_type": "code",
   "execution_count": null,
   "metadata": {},
   "outputs": [],
   "source": [
    "# creating Individuals\n",
    "\n",
    "dad  = AltIndividual(first='Bob',last='Parr',gender='male',dob='1985-01-02')\n",
    "mom  = AltIndividual(first='Helen',last='Parr',gender='female',dob='1980-03-04')\n",
    "girl = AltIndividual(first='Violet',last='Parr',gender='female',dob='2002-05-06')\n",
    "boy  = AltIndividual(first='Jack-Jack',last='Parr',gender='male',dob='2004-07-08')\n",
    "\n",
    "# connecting individuals\n",
    "\n",
    "mom.add_partner(dad)\n",
    "dad.add_partner(mom)\n",
    "\n",
    "mom.add_child(girl)\n",
    "mom.add_child(boy)\n",
    "dad.add_child(girl)\n",
    "dad.add_child(boy)\n",
    "\n",
    "girl.add_parent(mom)\n",
    "girl.add_parent(dad)\n",
    "boy.add_parent(mom)\n",
    "boy.add_parent(dad)\n",
    "\n",
    "print(mom)\n",
    "print(dad)\n",
    "print(girl)\n",
    "print(boy)"
   ]
  },
  {
   "cell_type": "code",
   "execution_count": null,
   "metadata": {},
   "outputs": [],
   "source": [
    "# a smarter way of creating connections\n",
    "\n",
    "class SmartIndividual(AltIndividual):\n",
    "    \"\"\"\n",
    "    Modify Individual to automatically generate bi-directional relationships\n",
    "    \"\"\"\n",
    "    \n",
    "    def add_partner(self, partner):\n",
    "        if partner not in self.the_partner:\n",
    "            self.the_partner.append(partner)\n",
    "            partner.add_partner(self)\n",
    "    \n",
    "    def add_child(self, child):\n",
    "        if child not in self.the_children:\n",
    "            self.the_children.append(child)\n",
    "            child.add_parent(self)\n",
    "    \n",
    "    def add_parent(self, parent):\n",
    "        if parent not in self.the_parents:\n",
    "            self.the_parents.append(parent)\n",
    "            parent.add_child(self)\n",
    "    "
   ]
  },
  {
   "cell_type": "code",
   "execution_count": null,
   "metadata": {},
   "outputs": [],
   "source": [
    "# creating Individuals\n",
    "\n",
    "dad  = SmartIndividual(first='Bob',last='Parr',gender='male',dob='1985-01-02')\n",
    "mom  = SmartIndividual(first='Helen',last='Parr',gender='female',dob='1980-03-04')\n",
    "girl = SmartIndividual(first='Violet',last='Parr',gender='female',dob='2002-05-06')\n",
    "boy  = SmartIndividual(first='Jack-Jack',last='Parr',gender='male',dob='2004-07-08')\n",
    "\n",
    "# connecting individuals\n",
    "\n",
    "mom.add_partner(dad)\n",
    "    # dad.add_partner(mom) ... done automatically\n",
    "\n",
    "mom.add_child(girl)\n",
    "    # girl.add_parent(mom) ... done automatically\n",
    "mom.add_child(boy)\n",
    "    # boy.add_parent(mom) ... done automatically\n",
    "dad.add_child(girl)\n",
    "    # girl.add_parent(dad) ... done automatically\n",
    "dad.add_child(boy)\n",
    "    # boy.add_parent(dad) ... done automatically\n",
    "\n",
    "print(mom)\n",
    "print(dad)\n",
    "print(girl)\n",
    "print(boy)"
   ]
  },
  {
   "cell_type": "markdown",
   "metadata": {},
   "source": [
    "4. discuss potential issues concerning data duplication when assigning a child to both parents.\n",
    "\n",
    "..."
   ]
  }
 ],
 "metadata": {
  "kernelspec": {
   "display_name": "Python 3",
   "language": "python",
   "name": "python3"
  },
  "language_info": {
   "codemirror_mode": {
    "name": "ipython",
    "version": 3
   },
   "file_extension": ".py",
   "mimetype": "text/x-python",
   "name": "python",
   "nbconvert_exporter": "python",
   "pygments_lexer": "ipython3",
   "version": "3.8.5"
  }
 },
 "nbformat": 4,
 "nbformat_minor": 4
}
