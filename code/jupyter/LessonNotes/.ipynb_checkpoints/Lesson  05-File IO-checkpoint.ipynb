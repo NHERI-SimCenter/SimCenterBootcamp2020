{
 "cells": [
  {
   "cell_type": "markdown",
   "metadata": {},
   "source": [
    "# A Python Quick Start Tutorial\n",
    "# Lesson \\#5 : File IO & Exception handling\n",
    "\n",
    "## by Peter Mackenzie-Helnwein\n",
    "University of Washington, Seattle, WA\n",
    "\n",
    "pmackenz@uw.edu          \n",
    "https://www.ce.washington.edu/facultyfinder/peter-mackenzie-helnwein"
   ]
  },
  {
   "cell_type": "markdown",
   "metadata": {},
   "source": [
    "## Resources (reminder)\n",
    "\n",
    "   1. Python Docs: https://docs.python.org/3/\n",
    "   \n",
    "   1. Python Tutorial (comprehensive): https://docs.python.org/3/tutorial/index.html\n",
    "   \n",
    "   1. **File IO**: https://docs.python.org/3/tutorial/inputoutput.html#reading-and-writing-files\n",
    "   \n",
    "   1. **Exception handling**: https://docs.python.org/3/tutorial/errors.html\n",
    "   \n",
    "   1. Python Library Reference (the nitty-gritty details): https://docs.python.org/3/library/index.html\n",
    "   \n",
    "   1. Everything else: http://google.com\n",
    "   "
   ]
  },
  {
   "cell_type": "markdown",
   "metadata": {},
   "source": [
    "## Discussing questions from the self-study assignment\n",
    "\n",
    "This section is to discuss your questions\n"
   ]
  },
  {
   "cell_type": "markdown",
   "metadata": {},
   "source": [
    "### Exercise 1: \n",
    "\n",
    "**Given**:\n",
    "A file named **\"exercise6_data.csv\"** (_you may need to download that file from canvas and put it into your jupyter folder_)\n",
    "\n",
    "The data format is defined as follows\n",
    "\n",
    "~~~\n",
    "x, y1, y2, y3\n",
    ".\n",
    ".\n",
    ".\n",
    "~~~\n",
    "\n",
    "Each line is one data point for each of the four variables.\n",
    "\n",
    "**Your task**:\n",
    "1. open that file, \n",
    "2. read in **line by line** \n",
    "3. while reading the file, compute mean $(\\mu)$ and standard deviation $(\\sigma_z)$ for each variable\n",
    "4. print your answers\n",
    "\n",
    "**Formulas**:\n",
    "\n",
    "Mean:\n",
    "$$\n",
    "   \\mu_z = \\frac{1}{N} \\sum_{i} z_i\n",
    "$$\n",
    "\n",
    "where $N$ is the number of data points and $z_i$ stands for the $i^{th}$ value of any of the variables, $z$, in the file (`x,y1,y2,u3`).\n",
    "\n",
    "Standard deviation:\n",
    "$$\n",
    "   \\sigma_z^2 \n",
    "   = \\frac{\\sum_{i} (z_i - \\mu_z)^2}{N}\n",
    "   = \\frac{\\sum_{i} (z_i)^2}{N} - \\mu_z^2\n",
    "   \\quad\\to\\quad\n",
    "   \\sigma_z = \\sqrt{\\sigma_z^2}\n",
    "$$\n"
   ]
  },
  {
   "cell_type": "code",
   "execution_count": null,
   "metadata": {},
   "outputs": [],
   "source": [
    "import numpy as np\n",
    "\n",
    "# initialize \n",
    "means = np.zeros(4)\n",
    "sigs  = np.zeros(4)\n",
    "N = 0\n",
    "\n",
    "# collect data\n",
    "\n",
    "# YOUR CODE HERE ...\n"
   ]
  },
  {
   "cell_type": "markdown",
   "metadata": {},
   "source": [
    "5. **Create a plot with three subplots (1 row, 3 columns)**. For each subplot\n",
    "   - plot all the data points $y$ over $x$, one subplot per column. Use red crosses to represent the points.\n",
    "   - add a blue bullet (or circle) to the plot marking the centroid of the data points (you already have the coordinates)\n",
    "   - plot a box identifying the region of $\\pm\\sigma$ around the centroid.  Plot that rectangle as dotted cyan line without markers.\n",
    "   - if you got time left: fill the box with light cyan (color code \"#ccffef\")"
   ]
  },
  {
   "cell_type": "code",
   "execution_count": null,
   "metadata": {},
   "outputs": [],
   "source": [
    "import matplotlib.pyplot as plt\n",
    "\n",
    "# YOUR CODE HERE ..."
   ]
  },
  {
   "cell_type": "markdown",
   "metadata": {},
   "source": [
    "### Exercise 2: \n",
    "\n",
    "If you haven't done so yet, add exception handling to **Exercise 1** using `try: ... except: ...` statement(s)\n"
   ]
  },
  {
   "cell_type": "code",
   "execution_count": null,
   "metadata": {},
   "outputs": [],
   "source": [
    "# YOUR CODE HERE ...\n"
   ]
  },
  {
   "cell_type": "markdown",
   "metadata": {},
   "source": [
    "**Your task**:\n",
    "Test exception handling through generating errors and verify that your code warns you and exits gracefully."
   ]
  },
  {
   "cell_type": "code",
   "execution_count": null,
   "metadata": {},
   "outputs": [],
   "source": []
  },
  {
   "cell_type": "code",
   "execution_count": null,
   "metadata": {},
   "outputs": [],
   "source": []
  },
  {
   "cell_type": "markdown",
   "metadata": {},
   "source": [
    "### Exercise 3: Writing to a file - our first version of sending data to Excel\n",
    "\n",
    "\n",
    "**Given**:\n",
    "Let's reuse the data file **\"exercise6_data.csv\"**.\n",
    "\n",
    "**Your tasks**:\n",
    "Let's treat the first column as an angle, $\\theta$, in degrees.  Create a file **\"output_data.csv\"** and write to it a line at a time the following information:\n",
    "\n",
    "~~~\n",
    "theta, cos(10.*theta), sin(10.*theta),\n",
    ".\n",
    ".\n",
    "~~~\n",
    "\n",
    "Once completed, open that file in your spread sheet program (Excel, Number, LibreOffice, ...) and create three plots:\n",
    "1. column 1 - column 2\n",
    "2. column 1 - column 3\n",
    "3. column 2 - column 3 (axis equal)\n",
    "\n",
    "**Hint**: the sample points are in random order!  You either need to do a points-only plot or sort the data first when plotting in Excel."
   ]
  },
  {
   "cell_type": "code",
   "execution_count": null,
   "metadata": {},
   "outputs": [],
   "source": [
    "import sys\n",
    "from numpy import radians, sin, cos\n",
    "\n",
    "# YOUR CODE HERE ...\n"
   ]
  },
  {
   "cell_type": "markdown",
   "metadata": {},
   "source": [
    "**Next task**: \n",
    "- Read your file **\"output_data.csv\"** in python.  This time, use `read()` to read all data at once.\n",
    "- create the same three plots using `matplotlib.pyplot`"
   ]
  },
  {
   "cell_type": "code",
   "execution_count": null,
   "metadata": {},
   "outputs": [],
   "source": [
    "\n",
    "# YOUR CODE HERE ...\n"
   ]
  },
  {
   "cell_type": "markdown",
   "metadata": {},
   "source": [
    "### Exercise 4: Parsing a binary file - the tough nut to crack!\n",
    "\n",
    "**Given**:\n",
    "- A binary file named **\"weird_stuff.cesg\"**\n",
    "- The data is organized as sequence of binary representation of three (3) floating point numbers per data point.\n",
    "\n",
    "**Your task**:\n",
    "1. open the file for binary reading\n",
    "2. read a data point at a time (format: 'fff') -> (X0, X1, X2)\n",
    "3. collect all data in a list of data points\n",
    "4. plot X1 versus X2 (X1 on the horizontal, X2 on the vertical axis). Set aspect to equal.\n",
    "\n",
    "**Useful functions**:\n",
    "- I found all the useful information on: https://docs.python.org/3.1/library/struct.html#functions-and-exceptions\n",
    "- check out `struct.pack`, `struct.unpack`, `struct.calcsize`, and `struct.peek`\n",
    "- you may need the `size` argument to `f.read(size)`\n"
   ]
  },
  {
   "cell_type": "code",
   "execution_count": null,
   "metadata": {},
   "outputs": [],
   "source": [
    "import sys\n",
    "import numpy as np\n",
    "from struct import *\n",
    "import matplotlib.pyplot as plt\n",
    "\n",
    "\n",
    "try:\n",
    "    f = open('weird_stuff.cesg','rb')\n",
    "except IOError:\n",
    "    print('Cannot open file for binary reading')\n",
    "    sys.exit(1)\n",
    "    \n",
    "\n",
    "# YOUR CODE HERE ...\n",
    "\n",
    "\n",
    "# plot data read from file\n",
    "\n",
    "ax = plt.subplot(111)\n",
    "ax.plot(...)\n",
    "ax.grid(True)\n",
    "# more of your code ...\n",
    "        "
   ]
  },
  {
   "cell_type": "markdown",
   "metadata": {},
   "source": [
    "## Homework questions\n",
    "\n",
    "We can all learn from your questions!"
   ]
  }
 ],
 "metadata": {
  "kernelspec": {
   "display_name": "Python 3",
   "language": "python",
   "name": "python3"
  },
  "language_info": {
   "codemirror_mode": {
    "name": "ipython",
    "version": 3
   },
   "file_extension": ".py",
   "mimetype": "text/x-python",
   "name": "python",
   "nbconvert_exporter": "python",
   "pygments_lexer": "ipython3",
   "version": "3.8.5"
  }
 },
 "nbformat": 4,
 "nbformat_minor": 4
}
