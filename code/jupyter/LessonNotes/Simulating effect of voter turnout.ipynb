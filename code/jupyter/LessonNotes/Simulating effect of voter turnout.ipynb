{
 "cells": [
  {
   "cell_type": "markdown",
   "metadata": {},
   "source": [
    "# Challenge Problem: Simulating the Effect of Low Voter Turnout\n",
    "\n",
    "## Basic assumptions\n",
    "\n",
    "Let $\\mathcal{R}$ be the set of **all** registered voters and $\\mathcal{V}:\\mathcal{R}_i\\to v_i\\in\\mathcal{C}$ the set of votes, with $v_i$ as the individual vote, representing the **opinion** of each of the registered voters. $\\mathcal{C}:=[A,B]$ is the set of candiates with $A$ and $B$ being values representing a vote for candidate $A$ or $B$, respectively.\n",
    "\n",
    "We declare that candidate the **preferred candidate** who collects most votes out of $\\mathcal{V}$.\n",
    "\n",
    "\n",
    "## Voting procedure\n",
    "\n",
    "Now let $\\mathcal{R}_v\\subset\\mathcal{R}$ be the subset of registered voters, $\\mathcal{R}$, who actually voted. Let $\\mathcal{V}_v\\subset\\mathcal{V}$ be the set of these votes.\n",
    "\n",
    "We declare that candidate the **winner of the election** who collected most votes out of $\\mathcal{V}_v$.\n",
    "\n",
    "## Research question\n",
    "\n",
    "1. Assume 45% (47.5%) of $\\mathcal{V}$ are votes for candidate $A$ and 55% (52.5%) of $\\mathcal{V}$ are votes for candidate $B$ (everybody has a favorite candidate; no omissions).\n",
    "2. Assume further that only a random group $\\mathcal{R}_v = \\mathcal{R}/3$ actually votes, i.e., only $\\frac{1}{3}$rd of registered voters actually vote.\n",
    "\n",
    "What is the probability that the **winner of the election** is **NOT** the **preferred candidate** of the electorate?\n",
    "\n",
    "## Approach\n",
    "\n",
    "Develop \n",
    "1. a function that randomly generates a list $\\mathcal{R}_v$ and their votes $\\mathcal{V}_v$ by picking the respective votes out of $\\mathcal{V}$.\n",
    "2. a function that analyzes a set $\\mathcal{V}$ (or $\\mathcal{V}_v$) and returns the **winner of the election**\n",
    "3. a driver function that takes a `number of elections` as argument and simulates that number of random voters and collects the election results.\n",
    "4. analyze the set of election results for probability of each candidate to be the **winner of the election**\n",
    "\n",
    "**Hints**: For plausibility test cases.\n",
    "- if $\\mathcal{R}_v = \\mathcal{R}$, then $\\mathcal{V}_v = \\mathcal{V}$, and the **preferred candidate** should win at 100%\n",
    "- if $\\mathcal{R}_v$ consists of just one single voter, the **preferred candidate** and the **opposing candiate** should win in 66.67%  and 33.33% of the elections, respectively."
   ]
  },
  {
   "cell_type": "markdown",
   "metadata": {},
   "source": [
    "## Defining the electorate and their choices"
   ]
  },
  {
   "cell_type": "code",
   "execution_count": 31,
   "metadata": {},
   "outputs": [],
   "source": [
    "import numpy as np\n",
    "\n",
    "# candidates (9:11)\n",
    "C = ('A','A','A','A','A','A','A','A','A','B','B','B','B','B','B','B','B','B','B','B')\n",
    "C = ('A','A','A','A','A','A','A','A','A','B','B','B','B','B','B','B','B','B','B')\n",
    "\n",
    "# voters\n",
    "N_voters = 1000000\n",
    "\n",
    "R = np.arange(N_voters)\n",
    "V = np.array([ C[k%len(C)] for k in range(N_voters) ])\n",
    "\n",
    "# reduce to unique candidates\n",
    "C = ('A','B')"
   ]
  },
  {
   "cell_type": "code",
   "execution_count": 32,
   "metadata": {},
   "outputs": [
    {
     "name": "stdout",
     "output_type": "stream",
     "text": [
      "Candidate A\t 47.37%\n",
      "Candidate B\t 52.63%\n"
     ]
    }
   ],
   "source": [
    "# verify that the generated set satisfies\n",
    "    \n",
    "for candidate in C:\n",
    "    print(\"Candidate {}\\t{:6.2f}%\".format(candidate,100*sum(1 for i in V if i==candidate)/N_voters))"
   ]
  },
  {
   "cell_type": "markdown",
   "metadata": {},
   "source": [
    "## Defining election functions"
   ]
  },
  {
   "cell_type": "code",
   "execution_count": 3,
   "metadata": {},
   "outputs": [],
   "source": [
    "def pick_voters(R,V,turnout=1./3.):\n",
    "    \n",
    "    N = len(R)\n",
    "    M = int(N*turnout)\n",
    "    idx = np.random.randint(0,N,size=M)\n",
    "    Rv = R[idx]\n",
    "    Vv = V[idx]\n",
    "    \n",
    "    return (Rv,Vv)"
   ]
  },
  {
   "cell_type": "code",
   "execution_count": 4,
   "metadata": {},
   "outputs": [],
   "source": [
    "def count_election(Rv,Vv,Candidates):\n",
    "    N = len(Rv)\n",
    "    \n",
    "    winner = {'name':   'unknown',\n",
    "              'result': 0.00}\n",
    "    \n",
    "    for candidate in Candidates:\n",
    "        result = sum(1 for i in Vv if i==candidate)/N\n",
    "        if result > winner['result']:\n",
    "            winner['name']   = candidate\n",
    "            winner['result'] = result\n",
    "            \n",
    "    return winner\n",
    "        "
   ]
  },
  {
   "cell_type": "code",
   "execution_count": 5,
   "metadata": {},
   "outputs": [],
   "source": [
    "def run_elections(R,V,Candidates,n=1,turnout=1./3.):\n",
    "    results = []\n",
    "    \n",
    "    for e in range(n):\n",
    "        (Rv,Vv) = pick_voters(R,V,turnout)\n",
    "        winner  = count_election(Rv,Vv,C)\n",
    "        results.append(winner)\n",
    "    \n",
    "    return results"
   ]
  },
  {
   "cell_type": "code",
   "execution_count": 11,
   "metadata": {},
   "outputs": [],
   "source": [
    "def analyze_elections(Candidates,Results):\n",
    "    ans = {}\n",
    "    for candidate in Candidates:\n",
    "        rec = {'name':candidate, 'wins':0, 'percent_wins':0.0, 'results':[]}\n",
    "        ans[candidate] = rec\n",
    "        \n",
    "    for winner in Results:\n",
    "        if winner['name'] in ans:\n",
    "            rec = ans[winner['name']]\n",
    "            rec['wins'] += 1\n",
    "            rec['results'].append(winner['result'])\n",
    "    \n",
    "    for candidate in Candidates:\n",
    "        rec = ans[candidate]\n",
    "        rec['percent_wins'] = 100.*rec['wins']/len(Results)\n",
    "        \n",
    "    return ans"
   ]
  },
  {
   "cell_type": "markdown",
   "metadata": {},
   "source": [
    "## Run the election simulation"
   ]
  },
  {
   "cell_type": "code",
   "execution_count": 33,
   "metadata": {},
   "outputs": [
    {
     "name": "stdout",
     "output_type": "stream",
     "text": [
      "Candidate A\twins   0.00% of the time\n",
      "Candidate B\twins 100.00% of the time\n",
      "[0.526676, 0.525981, 0.526498, 0.526727, 0.52656, 0.525674, 0.52653, 0.526725, 0.52593, 0.526365]\n"
     ]
    }
   ],
   "source": [
    "# this should yield the perfect result\n",
    "results = run_elections(R,V,C,10,1.0)\n",
    "analysis = analyze_elections(C,results)\n",
    "\n",
    "# print(analysis)\n",
    "\n",
    "for candidate in analysis:\n",
    "    print(\"Candidate {name}\\twins {percent_wins:6.2f}% of the time\".format(**analysis[candidate]))\n",
    "    \n",
    "print(analysis[C[1]]['results'])"
   ]
  },
  {
   "cell_type": "code",
   "execution_count": 34,
   "metadata": {
    "scrolled": true
   },
   "outputs": [
    {
     "name": "stdout",
     "output_type": "stream",
     "text": [
      "Candidate A\twins  46.72% of the time\n",
      "Candidate B\twins  53.28% of the time\n"
     ]
    }
   ],
   "source": [
    "results = run_elections(R,V,C,10000,1./N_voters)\n",
    "analysis = analyze_elections(C,results)\n",
    "\n",
    "# print(analysis)\n",
    "\n",
    "for candidate in analysis:\n",
    "    print(\"Candidate {name}\\twins {percent_wins:6.2f}% of the time\".format(**analysis[candidate]))"
   ]
  },
  {
   "cell_type": "code",
   "execution_count": 35,
   "metadata": {},
   "outputs": [
    {
     "name": "stdout",
     "output_type": "stream",
     "text": [
      "Candidate A\twins  55.74% of the time\n",
      "Candidate B\twins  44.26% of the time\n"
     ]
    }
   ],
   "source": [
    "results = run_elections(R,V,C,10000,0.00001)\n",
    "analysis = analyze_elections(C,results)\n",
    "\n",
    "# print(analysis)\n",
    "\n",
    "for candidate in analysis:\n",
    "    print(\"Candidate {name}\\twins {percent_wins:6.2f}% of the time\".format(**analysis[candidate]))"
   ]
  },
  {
   "cell_type": "code",
   "execution_count": 36,
   "metadata": {},
   "outputs": [
    {
     "name": "stdout",
     "output_type": "stream",
     "text": [
      "Candidate A\twins  32.82% of the time\n",
      "Candidate B\twins  67.18% of the time\n"
     ]
    }
   ],
   "source": [
    "results = run_elections(R,V,C,10000,0.0001)\n",
    "analysis = analyze_elections(C,results)\n",
    "\n",
    "# print(analysis)\n",
    "\n",
    "for candidate in analysis:\n",
    "    print(\"Candidate {name}\\twins {percent_wins:6.2f}% of the time\".format(**analysis[candidate]))"
   ]
  },
  {
   "cell_type": "code",
   "execution_count": 37,
   "metadata": {},
   "outputs": [
    {
     "name": "stdout",
     "output_type": "stream",
     "text": [
      "Candidate A\twins   0.00% of the time\n",
      "Candidate B\twins 100.00% of the time\n"
     ]
    }
   ],
   "source": [
    "results = run_elections(R,V,C,10000,0.01)\n",
    "analysis = analyze_elections(C,results)\n",
    "\n",
    "# print(analysis)\n",
    "\n",
    "for candidate in analysis:\n",
    "    print(\"Candidate {name}\\twins {percent_wins:6.2f}% of the time\".format(**analysis[candidate]))\n",
    "    \n",
    "#print(analysis[C[1]]['results'])"
   ]
  },
  {
   "cell_type": "code",
   "execution_count": 38,
   "metadata": {},
   "outputs": [
    {
     "name": "stdout",
     "output_type": "stream",
     "text": [
      "Candidate A\twins   0.00% of the time\n",
      "Candidate B\twins 100.00% of the time\n"
     ]
    }
   ],
   "source": [
    "results = run_elections(R,V,C,1000,0.1)\n",
    "analysis = analyze_elections(C,results)\n",
    "\n",
    "# print(analysis)\n",
    "\n",
    "for candidate in analysis:\n",
    "    print(\"Candidate {name}\\twins {percent_wins:6.2f}% of the time\".format(**analysis[candidate]))"
   ]
  },
  {
   "cell_type": "code",
   "execution_count": 39,
   "metadata": {},
   "outputs": [
    {
     "name": "stdout",
     "output_type": "stream",
     "text": [
      "Candidate A\twins   0.00% of the time\n",
      "Candidate B\twins 100.00% of the time\n"
     ]
    }
   ],
   "source": [
    "results = run_elections(R,V,C,100,0.3333333333333333)\n",
    "analysis = analyze_elections(C,results)\n",
    "\n",
    "# print(analysis)\n",
    "\n",
    "for candidate in analysis:\n",
    "    print(\"Candidate {name}\\twins {percent_wins:6.2f}% of the time\".format(**analysis[candidate]))"
   ]
  },
  {
   "cell_type": "code",
   "execution_count": null,
   "metadata": {},
   "outputs": [],
   "source": []
  }
 ],
 "metadata": {
  "kernelspec": {
   "display_name": "Python 3",
   "language": "python",
   "name": "python3"
  },
  "language_info": {
   "codemirror_mode": {
    "name": "ipython",
    "version": 3
   },
   "file_extension": ".py",
   "mimetype": "text/x-python",
   "name": "python",
   "nbconvert_exporter": "python",
   "pygments_lexer": "ipython3",
   "version": "3.8.5"
  }
 },
 "nbformat": 4,
 "nbformat_minor": 4
}
