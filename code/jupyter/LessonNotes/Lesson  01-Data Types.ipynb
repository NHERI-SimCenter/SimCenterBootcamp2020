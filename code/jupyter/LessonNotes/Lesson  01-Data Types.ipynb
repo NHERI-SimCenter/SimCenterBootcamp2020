{
 "cells": [
  {
   "cell_type": "markdown",
   "metadata": {},
   "source": [
    "# A Python Quick Start Tutorial\n",
    "# Lesson \\#1: Basic data types and functions\n",
    "## by Peter Mackenzie-Helnwein\n",
    "University of Washington, Seattle, WA\n",
    "\n",
    "pmackenz@uw.edu          \n",
    "https://www.ce.washington.edu/facultyfinder/peter-mackenzie-helnwein"
   ]
  },
  {
   "cell_type": "markdown",
   "metadata": {},
   "source": [
    "## Resources\n",
    "\n",
    "   1. Python Docs: https://docs.python.org/3/\n",
    "   \n",
    "   1. Python Tutorial (comprehensive): https://docs.python.org/3/tutorial/index.html\n",
    "   \n",
    "   1. Python Library Reference (the nitty-gritty details): https://docs.python.org/3/library/index.html\n",
    "   \n",
    "   1. Everything else: http://google.com\n",
    "   "
   ]
  },
  {
   "cell_type": "markdown",
   "metadata": {},
   "source": [
    "## Discussing questions from the self-study assignment\n",
    "\n",
    "This section is to discuss your questions\n"
   ]
  },
  {
   "cell_type": "markdown",
   "metadata": {},
   "source": [
    "### Exercise 1\n",
    "\n",
    "**Theory**:\n",
    "Stress transformation\n",
    "\n",
    "$$\n",
    "\\begin{aligned}\n",
    "\\sigma_{x}' &= \\sigma_{x} \\cos^2\\theta + \\sigma_{y} \\sin^2\\theta + 2\\tau_{xy} \\sin\\theta \\cos\\theta \\\\\n",
    "\\sigma_{y}' &= \\sigma_{x} \\sin^2\\theta + \\sigma_{y} \\cos^2\\theta - 2\\tau_{xy} \\sin\\theta \\cos\\theta \\\\\n",
    "\\tau_{xy}'  &= (\\sigma_{y} - \\sigma_{x}) \\sin\\theta \\cos\\theta + \\tau_{xy} (\\cos^2\\theta - \\sin^2\\theta) \\\\\n",
    "\\end{aligned}\n",
    "$$\n",
    "\n",
    "**Given**:\n",
    "Stress state:\n",
    "\n",
    "$$\n",
    "\\sigma_{x} = 12~ksi~,\n",
    "~~~\n",
    "\\sigma_{y} = -5.5~ksi~,\n",
    "~~~\n",
    "\\tau_{xy} = 3.5~ksi \n",
    "$$\n",
    "\n",
    "**Find**:\n",
    "Components of stress in a rotated coordinate system for $\\theta=25^\\circ$."
   ]
  },
  {
   "cell_type": "code",
   "execution_count": 1,
   "metadata": {},
   "outputs": [],
   "source": [
    "# theta needs to be in radians\n",
    "# sin and cos are not part of phython\n",
    "\n",
    "from math import sin, cos, pi, radians"
   ]
  },
  {
   "cell_type": "code",
   "execution_count": 2,
   "metadata": {},
   "outputs": [
    {
     "data": {
      "text/plain": [
       "1.5707963267948966"
      ]
     },
     "execution_count": 2,
     "metadata": {},
     "output_type": "execute_result"
    }
   ],
   "source": [
    "radians(90)"
   ]
  },
  {
   "cell_type": "code",
   "execution_count": null,
   "metadata": {},
   "outputs": [],
   "source": []
  },
  {
   "cell_type": "markdown",
   "metadata": {},
   "source": [
    "### Exercise 2\n",
    "\n",
    "Convert the calculation from exercise 1 to a function"
   ]
  },
  {
   "cell_type": "code",
   "execution_count": 8,
   "metadata": {},
   "outputs": [],
   "source": [
    "def stressTransform(sigx, sigy, tauxy, theta):\n",
    "    # YOUR CODE\n",
    "    \n",
    "    return (sx,sy,txy)"
   ]
  },
  {
   "cell_type": "markdown",
   "metadata": {},
   "source": [
    "Test your function for \n",
    "\n",
    "* $\\theta=0$ (what should the result look like?)\n",
    "* $\\theta=25^\\circ$\n",
    "* $\\theta=180^\\circ$"
   ]
  },
  {
   "cell_type": "code",
   "execution_count": null,
   "metadata": {},
   "outputs": [],
   "source": []
  },
  {
   "cell_type": "markdown",
   "metadata": {},
   "source": [
    "### Exercise 3\n",
    "\n",
    "Let's use this function to study stress transformation.  In order to do so,\n",
    "\n",
    "1. Create a list of 81 evenly spaced $\\theta$-values from $0^\\circ$ to $180^\\circ$.\n",
    "2. Compute the transformed stress for each of these values and collect the results in three lists: \n",
    "\n",
    "       sigmax_values = ...\n",
    "       sigmay_values = ...\n",
    "       tauxy_values = ...\n",
    "\n",
    "3. print a nice table with 4 columns: $\\theta$, $\\sigma_x'$, $\\sigma_y'$, $\\tau_{xy}'$"
   ]
  },
  {
   "cell_type": "code",
   "execution_count": 19,
   "metadata": {},
   "outputs": [],
   "source": [
    "sigmax_values = []\n",
    "sigmay_values = []\n",
    "tauxy_values = []\n",
    "\n",
    "# YOUR CODE HERE"
   ]
  },
  {
   "cell_type": "markdown",
   "metadata": {},
   "source": [
    "### Exercise 4: Explore plotting in python\n",
    "\n",
    "For this, check out https://matplotlib.org/3.1.1/gallery/lines_bars_and_markers/simple_plot.html#sphx-glr-gallery-lines-bars-and-markers-simple-plot-py\n",
    "\n",
    "I copied the demo code below so you can modify it to plot $(\\sigma_{x}'/\\tau_{xy}')$ and  $(\\sigma_{y}'/-\\tau_{xy}')$ curves from the data collected in `sigmax_values`, `sigmay_values`, `tauxy_values`"
   ]
  },
  {
   "cell_type": "code",
   "execution_count": null,
   "metadata": {},
   "outputs": [],
   "source": [
    "import matplotlib\n",
    "import matplotlib.pyplot as plt\n",
    "import numpy as np\n",
    "\n",
    "# Data for plotting\n",
    "t = np.arange(0.0, 2.0, 0.01)\n",
    "s = 1 + np.sin(2 * np.pi * t)\n",
    "\n",
    "fig, ax = plt.subplots()\n",
    "ax.plot(t, s)\n",
    "\n",
    "ax.set(xlabel='time (s)', ylabel='voltage (mV)',\n",
    "       title='About as simple as it gets, folks')\n",
    "ax.grid()\n",
    "\n",
    "# I comment writing the figure to file ... makes this quicker\n",
    "# fig.savefig(\"test.png\")\n",
    "plt.show()"
   ]
  },
  {
   "cell_type": "markdown",
   "metadata": {},
   "source": [
    "**Remark**: This was just to wet your appetite! We will talk much more about `numpy` and `matplotlib` next week."
   ]
  },
  {
   "cell_type": "markdown",
   "metadata": {},
   "source": [
    "## Exercise 5: List versus dictionary\n",
    "\n",
    "You could express the stress state as\n",
    "\n",
    "1. three independent variables - the way we did it thus far\n",
    "\n",
    "2. a list of three values: `stress = `$[\\sigma_x, \\sigma_y, \\tau_{xy}]$ and replace\n",
    "\n",
    "        sigma_x --> stress[0]\n",
    "        sigma_y --> stress[2]\n",
    "        tau_xy  --> stress[3]\n",
    "        \n",
    "3. a dictionary \n",
    "\n",
    "        stress = {'sigx': 12.0, 'sigy': -5.5, 'tau':3.50}\n",
    "        \n",
    "   and replace\n",
    "\n",
    "        sigma_x --> stress['sigx']\n",
    "        sigma_y --> stress['sigy']\n",
    "        tau_xy  --> stress['tau']\n",
    "\n",
    "**Discuss**:\n",
    "\n",
    "1. Pros and cons for coding the equations\n",
    "2. Pros and cons for coding the function(s)\n",
    "3. How woud code and function change when switching from 2D to 3D (6 components instead of 3 components)\n",
    "\n",
    "Feel free to implement an alternative form of stressTrannsform() that looks like this:"
   ]
  },
  {
   "cell_type": "code",
   "execution_count": null,
   "metadata": {},
   "outputs": [],
   "source": [
    "def stressTransform(stress, theta):\n",
    "    # YOUR CODE\n",
    "    # stress2 is a list or dictionary, just as stress is\n",
    "    \n",
    "    return stress2"
   ]
  },
  {
   "cell_type": "code",
   "execution_count": null,
   "metadata": {},
   "outputs": [],
   "source": []
  },
  {
   "cell_type": "markdown",
   "metadata": {},
   "source": [
    "## Homework questions\n",
    "\n",
    "We can all learn from your questions!"
   ]
  },
  {
   "cell_type": "code",
   "execution_count": null,
   "metadata": {},
   "outputs": [],
   "source": []
  }
 ],
 "metadata": {
  "kernelspec": {
   "display_name": "Python 3",
   "language": "python",
   "name": "python3"
  },
  "language_info": {
   "codemirror_mode": {
    "name": "ipython",
    "version": 3
   },
   "file_extension": ".py",
   "mimetype": "text/x-python",
   "name": "python",
   "nbconvert_exporter": "python",
   "pygments_lexer": "ipython3",
   "version": "3.8.5"
  }
 },
 "nbformat": 4,
 "nbformat_minor": 4
}
