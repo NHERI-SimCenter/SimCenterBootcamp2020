{
 "cells": [
  {
   "cell_type": "markdown",
   "metadata": {},
   "source": [
    "# A Python Quick Start Tutorial\n",
    "# Lesson \\#1: Basic data types and functions\n",
    "## by Peter Mackenzie-Helnwein\n",
    "University of Washington, Seattle, WA\n",
    "\n",
    "pmackenz@uw.edu          \n",
    "https://www.ce.washington.edu/facultyfinder/peter-mackenzie-helnwein"
   ]
  },
  {
   "cell_type": "markdown",
   "metadata": {},
   "source": [
    "## Resources\n",
    "\n",
    "   1. Python Docs: https://docs.python.org/3/\n",
    "   \n",
    "   1. Python Tutorial (comprehensive): https://docs.python.org/3/tutorial/index.html\n",
    "   \n",
    "   1. Python Library Reference (the nitty-gritty details): https://docs.python.org/3/library/index.html\n",
    "   \n",
    "   1. Everything else: http://google.com\n",
    "   "
   ]
  },
  {
   "cell_type": "markdown",
   "metadata": {},
   "source": [
    "## Discussing questions from the self-study assignment\n",
    "\n",
    "This section is to discuss your questions\n"
   ]
  },
  {
   "cell_type": "markdown",
   "metadata": {},
   "source": [
    "### Exercise 1\n",
    "\n",
    "**Theory**:\n",
    "Stress transformation\n",
    "\n",
    "$$\n",
    "\\begin{aligned}\n",
    "\\sigma_{x}' &= \\sigma_{x} \\cos^2\\theta + \\sigma_{y} \\sin^2\\theta + 2\\tau_{xy} \\sin\\theta \\cos\\theta \\\\\n",
    "\\sigma_{y}' &= \\sigma_{x} \\sin^2\\theta + \\sigma_{y} \\cos^2\\theta - 2\\tau_{xy} \\sin\\theta \\cos\\theta \\\\\n",
    "\\tau_{xy}'  &= (\\sigma_{y} - \\sigma_{x}) \\sin\\theta \\cos\\theta + \\tau_{xy} (\\cos^2\\theta - \\sin^2\\theta) \\\\\n",
    "\\end{aligned}\n",
    "$$\n",
    "\n",
    "**Given**:\n",
    "Stress state:\n",
    "\n",
    "$$\n",
    "\\sigma_{x} = 12~ksi~,\n",
    "~~~\n",
    "\\sigma_{y} = -5.5~ksi~,\n",
    "~~~\n",
    "\\tau_{xy} = 3.5~ksi \n",
    "$$\n",
    "\n",
    "**Find**:\n",
    "Components of stress in a rotated coordinate system for $\\theta=25^\\circ$."
   ]
  },
  {
   "cell_type": "code",
   "execution_count": 8,
   "metadata": {},
   "outputs": [],
   "source": [
    "# theta needs to be in radians\n",
    "# sin and cos are not part of phython\n",
    "\n",
    "from math import sin, cos, pi, radians"
   ]
  },
  {
   "cell_type": "code",
   "execution_count": 11,
   "metadata": {},
   "outputs": [
    {
     "data": {
      "text/plain": [
       "1.5707963267948966"
      ]
     },
     "execution_count": 11,
     "metadata": {},
     "output_type": "execute_result"
    }
   ],
   "source": [
    "radians(90)"
   ]
  },
  {
   "cell_type": "code",
   "execution_count": 29,
   "metadata": {},
   "outputs": [
    {
     "name": "stdout",
     "output_type": "stream",
     "text": [
      "sigma_x' =  12.0000 ksi\n",
      "sigma_y' =  -5.5000 ksi\n",
      "tau_xy' =   3.5000 ksi\n",
      "sx' =  11.5555 ksi\n",
      "sy' =  -5.0555 ksi\n",
      "txy' = -12.1246 ksi\n"
     ]
    }
   ],
   "source": [
    "from math import sin, cos, pi, radians\n",
    "sigma_x = 12\n",
    "sigma_y = -5.5\n",
    "tau_xy = 3.5\n",
    "\n",
    "theta = radians(25.)\n",
    "sx = sigma_x * cos(theta)**2 + sigma_y * sin(theta)**2 + 2*tau_xy * sin(theta) * cos(theta)\n",
    "sy = sigma_x * sin(theta)**2 + sigma_y * cos(theta)**2 - 2*tau_xy * sin(theta) * cos(theta)\n",
    "txy = (sigma_y - sigma_x) * cos(theta) * cos(theta) + tau_xy * (cos(theta)**2 - sin(theta)**2)\n",
    "print(\"sigma_x' = {:8.4f} ksi\".format(sigma_x))\n",
    "print(\"sigma_y' = {:8.4f} ksi\".format(sigma_y))\n",
    "print(\"tau_xy' = {:8.4f} ksi\".format(tau_xy))\n",
    "print(\"sx' = {:8.4f} ksi\".format(sx))\n",
    "print(\"sy' = {:8.4f} ksi\".format(sy))\n",
    "print(\"txy' = {:8.4f} ksi\".format(txy))"
   ]
  },
  {
   "cell_type": "code",
   "execution_count": null,
   "metadata": {},
   "outputs": [],
   "source": []
  },
  {
   "cell_type": "code",
   "execution_count": null,
   "metadata": {},
   "outputs": [],
   "source": []
  },
  {
   "cell_type": "markdown",
   "metadata": {},
   "source": [
    "### Exercise 2\n",
    "\n",
    "Convert the calculation from exercise 1 to a function"
   ]
  },
  {
   "cell_type": "code",
   "execution_count": 34,
   "metadata": {},
   "outputs": [],
   "source": [
    "def stressTransform(sigx, sigy, tauxy, theta):\n",
    "\n",
    "    mytheta = radians(theta)\n",
    "\n",
    "    sx  = sigx * cos(mytheta)**2 + sigy * sin(mytheta)**2 + 2*tauxy * sin(mytheta) * cos(mytheta)\n",
    "    sy  = sigx * sin(mytheta)**2 + sigy * cos(mytheta)**2 - 2*tauxy * sin(mytheta) * cos(mytheta)\n",
    "    txy = (sigy - sigx) * sin(mytheta) * cos(mytheta) + tauxy * (cos(mytheta)**2 - sin(mytheta)**2) \n",
    "    \n",
    "    return (sx,sy,txy)"
   ]
  },
  {
   "cell_type": "markdown",
   "metadata": {},
   "source": [
    "Test your function for \n",
    "\n",
    "* $\\theta=0$ (what should the result look like?)\n",
    "* $\\theta=25^\\circ$\n",
    "* $\\theta=180^\\circ$"
   ]
  },
  {
   "cell_type": "code",
   "execution_count": 36,
   "metadata": {},
   "outputs": [
    {
     "data": {
      "text/plain": [
       "(12.0, -5.5, 3.5)"
      ]
     },
     "execution_count": 36,
     "metadata": {},
     "output_type": "execute_result"
    }
   ],
   "source": [
    "stressTransform(sigma_x, sigma_y, tau_xy, 0)"
   ]
  },
  {
   "cell_type": "code",
   "execution_count": 37,
   "metadata": {},
   "outputs": [
    {
     "data": {
      "text/plain": [
       "(11.555547135673642, -5.055547135673642, -4.453132243388171)"
      ]
     },
     "execution_count": 37,
     "metadata": {},
     "output_type": "execute_result"
    }
   ],
   "source": [
    "stressTransform(sigma_x, sigma_y, tau_xy, 25)"
   ]
  },
  {
   "cell_type": "code",
   "execution_count": 38,
   "metadata": {},
   "outputs": [
    {
     "data": {
      "text/plain": [
       "(12.0, -5.499999999999999, 3.500000000000002)"
      ]
     },
     "execution_count": 38,
     "metadata": {},
     "output_type": "execute_result"
    }
   ],
   "source": [
    "stressTransform(sigma_x, sigma_y, tau_xy, 180)"
   ]
  },
  {
   "cell_type": "code",
   "execution_count": 42,
   "metadata": {},
   "outputs": [],
   "source": [
    "stress=stressTransform(sigma_x, sigma_y, tau_xy, 25)"
   ]
  },
  {
   "cell_type": "markdown",
   "metadata": {},
   "source": [
    "### Exercise 3\n",
    "\n",
    "Let's use this function to study stress transformation.  In order to do so,\n",
    "\n",
    "1. Create a list of 81 evenly spaced $\\theta$-values from $0^\\circ$ to $180^\\circ$.\n",
    "2. Compute the transformed stress for each of these values and collect the results in three lists: \n",
    "\n",
    "       sigmax_values = ...\n",
    "       sigmay_values = ...\n",
    "       tauxy_values = ...\n",
    "\n",
    "3. print a nice table with 4 columns: $\\theta$, $\\sigma_x'$, $\\sigma_y'$, $\\tau_{xy}'$"
   ]
  },
  {
   "cell_type": "code",
   "execution_count": 43,
   "metadata": {},
   "outputs": [
    {
     "name": "stdout",
     "output_type": "stream",
     "text": [
      "(11.555547135673642, -5.055547135673642, -4.453132243388171)\n"
     ]
    }
   ],
   "source": [
    "print(stress)"
   ]
  },
  {
   "cell_type": "code",
   "execution_count": 44,
   "metadata": {},
   "outputs": [
    {
     "name": "stdout",
     "output_type": "stream",
     "text": [
      "sigma_x =  11.5555 ksi\n",
      "sigma_y =  -5.0555 ksi\n",
      "tau =  -4.4531 ksi\n"
     ]
    }
   ],
   "source": [
    "print(\"sigma_x = {:8.4f} ksi\\nsigma_y = {:8.4f} ksi\\ntau = {:8.4f} ksi\".format(stress[0],stress[1],stress[2]))"
   ]
  },
  {
   "cell_type": "code",
   "execution_count": 45,
   "metadata": {},
   "outputs": [],
   "source": [
    "sigmax_values = []\n",
    "sigmay_values = []\n",
    "tauxy_values = []\n",
    "\n",
    "# YOUR CODE HERE"
   ]
  },
  {
   "cell_type": "code",
   "execution_count": null,
   "metadata": {},
   "outputs": [],
   "source": []
  },
  {
   "cell_type": "code",
   "execution_count": 48,
   "metadata": {},
   "outputs": [
    {
     "name": "stdout",
     "output_type": "stream",
     "text": [
      "       theta       sigma_x       sigma_y        tau_xy \n",
      "=======================================================\n",
      "    0.000000,    12.000000,    -5.500000,     3.500000\n",
      "    2.250000,    12.247634,    -5.747634,     2.802694\n",
      "    4.500000,    12.439794,    -5.939794,     2.088108\n",
      "    6.750000,    12.575296,    -6.075296,     1.360648\n",
      "    9.000000,    12.653304,    -6.153304,     0.624799\n",
      "   11.250000,    12.673338,    -6.173338,    -0.114902\n",
      "   13.500000,    12.635274,    -6.135274,    -0.853894\n",
      "   15.750000,    12.539346,    -6.039346,    -1.587622\n",
      "   18.000000,    12.386147,    -5.886147,    -2.311561\n",
      "   20.250000,    12.176620,    -5.676620,    -3.021250\n",
      "   22.500000,    11.912058,    -5.412058,    -3.712311\n",
      "   24.750000,    11.594091,    -5.094091,    -4.380484\n",
      "   27.000000,    11.224680,    -4.724680,    -5.021650\n",
      "   29.250000,    10.806103,    -4.306103,    -5.631856\n",
      "   31.500000,    10.340940,    -3.840940,    -6.207340\n",
      "   33.750000,     9.832058,    -3.332058,    -6.744554\n",
      "   36.000000,     9.282597,    -2.782597,    -7.240185\n",
      "   38.250000,     8.695942,    -2.195942,    -7.691178\n",
      "   40.500000,     8.075711,    -1.575711,    -8.094752\n",
      "   42.750000,     7.425728,    -0.925728,    -8.448420\n",
      "   45.000000,     6.750000,    -0.250000,    -8.750000\n",
      "   47.250000,     6.052694,     0.447306,    -8.997634\n",
      "   49.500000,     5.338108,     1.161892,    -9.189794\n",
      "   51.750000,     4.610648,     1.889352,    -9.325296\n",
      "   54.000000,     3.874799,     2.625201,    -9.403304\n",
      "   56.250000,     3.135098,     3.364902,    -9.423338\n",
      "   58.500000,     2.396106,     4.103894,    -9.385274\n",
      "   60.750000,     1.662378,     4.837622,    -9.289346\n",
      "   63.000000,     0.938439,     5.561561,    -9.136147\n",
      "   65.250000,     0.228750,     6.271250,    -8.926620\n",
      "   67.500000,    -0.462311,     6.962311,    -8.662058\n",
      "   69.750000,    -1.130484,     7.630484,    -8.344091\n",
      "   72.000000,    -1.771650,     8.271650,    -7.974680\n",
      "   74.250000,    -2.381856,     8.881856,    -7.556103\n",
      "   76.500000,    -2.957340,     9.457340,    -7.090940\n",
      "   78.750000,    -3.494554,     9.994554,    -6.582058\n",
      "   81.000000,    -3.990185,    10.490185,    -6.032597\n",
      "   83.250000,    -4.441178,    10.941178,    -5.445942\n",
      "   85.500000,    -4.844752,    11.344752,    -4.825711\n",
      "   87.750000,    -5.198420,    11.698420,    -4.175728\n",
      "   90.000000,    -5.500000,    12.000000,    -3.500000\n",
      "   92.250000,    -5.747634,    12.247634,    -2.802694\n",
      "   94.500000,    -5.939794,    12.439794,    -2.088108\n",
      "   96.750000,    -6.075296,    12.575296,    -1.360648\n",
      "   99.000000,    -6.153304,    12.653304,    -0.624799\n",
      "  101.250000,    -6.173338,    12.673338,     0.114902\n",
      "  103.500000,    -6.135274,    12.635274,     0.853894\n",
      "  105.750000,    -6.039346,    12.539346,     1.587622\n",
      "  108.000000,    -5.886147,    12.386147,     2.311561\n",
      "  110.250000,    -5.676620,    12.176620,     3.021250\n",
      "  112.500000,    -5.412058,    11.912058,     3.712311\n",
      "  114.750000,    -5.094091,    11.594091,     4.380484\n",
      "  117.000000,    -4.724680,    11.224680,     5.021650\n",
      "  119.250000,    -4.306103,    10.806103,     5.631856\n",
      "  121.500000,    -3.840940,    10.340940,     6.207340\n",
      "  123.750000,    -3.332058,     9.832058,     6.744554\n",
      "  126.000000,    -2.782597,     9.282597,     7.240185\n",
      "  128.250000,    -2.195942,     8.695942,     7.691178\n",
      "  130.500000,    -1.575711,     8.075711,     8.094752\n",
      "  132.750000,    -0.925728,     7.425728,     8.448420\n",
      "  135.000000,    -0.250000,     6.750000,     8.750000\n",
      "  137.250000,     0.447306,     6.052694,     8.997634\n",
      "  139.500000,     1.161892,     5.338108,     9.189794\n",
      "  141.750000,     1.889352,     4.610648,     9.325296\n",
      "  144.000000,     2.625201,     3.874799,     9.403304\n",
      "  146.250000,     3.364902,     3.135098,     9.423338\n",
      "  148.500000,     4.103894,     2.396106,     9.385274\n",
      "  150.750000,     4.837622,     1.662378,     9.289346\n",
      "  153.000000,     5.561561,     0.938439,     9.136147\n",
      "  155.250000,     6.271250,     0.228750,     8.926620\n",
      "  157.500000,     6.962311,    -0.462311,     8.662058\n",
      "  159.750000,     7.630484,    -1.130484,     8.344091\n",
      "  162.000000,     8.271650,    -1.771650,     7.974680\n",
      "  164.250000,     8.881856,    -2.381856,     7.556103\n",
      "  166.500000,     9.457340,    -2.957340,     7.090940\n",
      "  168.750000,     9.994554,    -3.494554,     6.582058\n",
      "  171.000000,    10.490185,    -3.990185,     6.032597\n",
      "  173.250000,    10.941178,    -4.441178,     5.445942\n",
      "  175.500000,    11.344752,    -4.844752,     4.825711\n",
      "  177.750000,    11.698420,    -5.198420,     4.175728\n",
      "  180.000000,    12.000000,    -5.500000,     3.500000\n"
     ]
    }
   ],
   "source": [
    "theta = []\n",
    "\n",
    "print(\"       theta       sigma_x       sigma_y        tau_xy \")\n",
    "print(\"=======================================================\")\n",
    "\n",
    "for i in range(81):\n",
    "    th = i*180/80;\n",
    "    \n",
    "    theta.append(th)\n",
    "    (sx,sy,tau) = stressTransform(sigma_x, sigma_y, tau_xy, th)\n",
    "    sigmax_values.append(sx)\n",
    "    sigmay_values.append(sy)\n",
    "    tauxy_values.append(tau)\n",
    "    \n",
    "    print(\"{:12.6f}, {:12.6f}, {:12.6f}, {:12.6f}\".format(th,sx,sy,tau))"
   ]
  },
  {
   "cell_type": "code",
   "execution_count": null,
   "metadata": {},
   "outputs": [],
   "source": []
  },
  {
   "cell_type": "markdown",
   "metadata": {},
   "source": [
    "### Exercise 4: Explore plotting in python\n",
    "\n",
    "For this, check out https://matplotlib.org/3.1.1/gallery/lines_bars_and_markers/simple_plot.html#sphx-glr-gallery-lines-bars-and-markers-simple-plot-py\n",
    "\n",
    "I copied the demo code below so you can modify it to plot $(\\sigma_{x}'/\\tau_{xy}')$ and  $(\\sigma_{y}'/-\\tau_{xy}')$ curves from the data collected in `sigmax_values`, `sigmay_values`, `tauxy_values`"
   ]
  },
  {
   "cell_type": "code",
   "execution_count": null,
   "metadata": {},
   "outputs": [],
   "source": [
    "import matplotlib\n",
    "import matplotlib.pyplot as plt\n",
    "import numpy as np\n",
    "\n",
    "# Data for plotting\n",
    "t = np.arange(0.0, 2.0, 0.01)\n",
    "s = 1 + np.sin(2 * np.pi * t)\n",
    "\n",
    "fig, ax = plt.subplots()\n",
    "ax.plot(t, s)\n",
    "\n",
    "ax.set(xlabel='time (s)', ylabel='voltage (mV)',\n",
    "       title='About as simple as it gets, folks')\n",
    "ax.grid()\n",
    "\n",
    "# I comment writing the figure to file ... makes this quicker\n",
    "# fig.savefig(\"test.png\")\n",
    "plt.show()"
   ]
  },
  {
   "cell_type": "markdown",
   "metadata": {},
   "source": [
    "**Remark**: This was just to wet your appetite! We will talk much more about `numpy` and `matplotlib` next week."
   ]
  },
  {
   "cell_type": "markdown",
   "metadata": {},
   "source": [
    "## Exercise 5: List versus dictionary\n",
    "\n",
    "You could express the stress state as\n",
    "\n",
    "1. three independent variables - the way we did it thus far\n",
    "\n",
    "2. a list of three values: `stress = `$[\\sigma_x, \\sigma_y, \\tau_{xy}]$ and replace\n",
    "\n",
    "        sigma_x --> stress[0]\n",
    "        sigma_y --> stress[2]\n",
    "        tau_xy  --> stress[3]\n",
    "        \n",
    "3. a dictionary \n",
    "\n",
    "        stress = {'sigx': 12.0, 'sigy': -5.5, 'tau':3.50}\n",
    "        \n",
    "   and replace\n",
    "\n",
    "        sigma_x --> stress['sigx']\n",
    "        sigma_y --> stress['sigy']\n",
    "        tau_xy  --> stress['tau']\n",
    "\n",
    "**Discuss**:\n",
    "\n",
    "1. Pros and cons for coding the equations\n",
    "2. Pros and cons for coding the function(s)\n",
    "3. How woud code and function change when switching from 2D to 3D (6 components instead of 3 components)\n",
    "\n",
    "Feel free to implement an alternative form of stressTrannsform() that looks like this:"
   ]
  },
  {
   "cell_type": "code",
   "execution_count": null,
   "metadata": {},
   "outputs": [],
   "source": [
    "def stressTransform(stress, theta):\n",
    "    # YOUR CODE\n",
    "    # stress2 is a list or dictionary, just as stress is\n",
    "    \n",
    "    return stress2"
   ]
  },
  {
   "cell_type": "code",
   "execution_count": null,
   "metadata": {},
   "outputs": [],
   "source": []
  },
  {
   "cell_type": "markdown",
   "metadata": {},
   "source": [
    "## Homework questions\n",
    "\n",
    "We can all learn from your questions!"
   ]
  },
  {
   "cell_type": "code",
   "execution_count": null,
   "metadata": {},
   "outputs": [],
   "source": []
  }
 ],
 "metadata": {
  "kernelspec": {
   "display_name": "Python 3",
   "language": "python",
   "name": "python3"
  },
  "language_info": {
   "codemirror_mode": {
    "name": "ipython",
    "version": 3
   },
   "file_extension": ".py",
   "mimetype": "text/x-python",
   "name": "python",
   "nbconvert_exporter": "python",
   "pygments_lexer": "ipython3",
   "version": "3.8.3"
  }
 },
 "nbformat": 4,
 "nbformat_minor": 4
}
