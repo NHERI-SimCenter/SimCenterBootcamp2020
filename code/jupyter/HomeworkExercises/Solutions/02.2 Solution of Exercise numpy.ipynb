{
 "cells": [
  {
   "cell_type": "markdown",
   "metadata": {},
   "source": [
    "# Solution of Exercise 2: numpy"
   ]
  },
  {
   "cell_type": "code",
   "execution_count": 2,
   "metadata": {},
   "outputs": [],
   "source": [
    "import numpy as np"
   ]
  },
  {
   "cell_type": "markdown",
   "metadata": {},
   "source": [
    "## Problem 1: \n",
    "\n",
    "Compute\n",
    "$$\n",
    "   \\left[ \\begin{array}{ccc}\n",
    "   3 &  2 & 1 \\\\\n",
    "   6 & -3 & 0 \\\\\n",
    "   1 &  2 & 9 \\\\\n",
    "   \\end{array} \\right]\n",
    "   \\left[ \\begin{array}{ccc}\n",
    "   -4 & 1 \\\\\n",
    "    7 & 3 \\\\\n",
    "    2 & 5 \\\\\n",
    "   \\end{array} \\right]\n",
    "$$\n",
    "using **matrix** objects"
   ]
  },
  {
   "cell_type": "code",
   "execution_count": 3,
   "metadata": {},
   "outputs": [
    {
     "name": "stdout",
     "output_type": "stream",
     "text": [
      "[[  4  14]\n",
      " [-45  -3]\n",
      " [ 28  52]]\n"
     ]
    }
   ],
   "source": [
    "############\n",
    "# solution\n",
    "############\n",
    "\n",
    "A = np.matrix([[3,2,1],[6,-3,0],[1,2,9]])\n",
    "B = np.matrix([[-4,1],[7,3],[2,5]])\n",
    "C = A*B\n",
    "\n",
    "print(C)"
   ]
  },
  {
   "cell_type": "markdown",
   "metadata": {},
   "source": [
    "Compute\n",
    "$$\n",
    "   \\left[ \\begin{array}{ccc}\n",
    "   3 &  2 & 1 \\\\\n",
    "   6 & -3 & 0 \\\\\n",
    "   1 &  2 & 9 \\\\\n",
    "   \\end{array} \\right]\n",
    "   \\left[ \\begin{array}{ccc}\n",
    "   -4 & 1 \\\\\n",
    "    7 & 3 \\\\\n",
    "    2 & 5 \\\\\n",
    "   \\end{array} \\right]\n",
    "$$\n",
    "using **array** objects"
   ]
  },
  {
   "cell_type": "code",
   "execution_count": 4,
   "metadata": {},
   "outputs": [
    {
     "name": "stdout",
     "output_type": "stream",
     "text": [
      "[[  4  14]\n",
      " [-45  -3]\n",
      " [ 28  52]]\n"
     ]
    }
   ],
   "source": [
    "D = np.array(A)\n",
    "E = np.array(B)\n",
    "F = D@B\n",
    "\n",
    "print(F)"
   ]
  },
  {
   "cell_type": "markdown",
   "metadata": {},
   "source": [
    "## Problem 2: \n",
    "\n",
    "Numpy provides random number generators for different distributions.\n",
    "You can find simple examples at [https://numpy.org/doc/stable/reference/random/index.html](https://numpy.org/doc/stable/reference/random/index.html)\n",
    "\n",
    "1. Write a function that outputs a list of 250 numbers in a normal distribution with (approximately) mean of 2.5 and standard deviation of 0.75. (check [https://numpy.org/doc/stable/reference/random/generated/numpy.random.normal.html#numpy.random.normal](https://numpy.org/doc/stable/reference/random/generated/numpy.random.normal.html#numpy.random.normal))\n",
    "2. Write a loop that uses this function to create 10 instances of such lists. Compute the actual mean and standard deviation and print them.\n",
    "3. Verify that the answers are indeed random by running your code multiple times."
   ]
  },
  {
   "cell_type": "code",
   "execution_count": 5,
   "metadata": {},
   "outputs": [
    {
     "name": "stdout",
     "output_type": "stream",
     "text": [
      "avg=      2.49732758, std=      0.74127319\n",
      "avg=      2.49661181, std=      0.74327964\n",
      "avg=      2.45178674, std=      0.68501923\n",
      "avg=      2.50531613, std=      0.72162585\n",
      "avg=      2.48081101, std=      0.80739420\n",
      "avg=      2.46628156, std=      0.75401900\n",
      "avg=      2.52531928, std=      0.72113278\n",
      "avg=      2.57290673, std=      0.77236062\n",
      "avg=      2.52324093, std=      0.76685176\n",
      "avg=      2.45144802, std=      0.71734124\n"
     ]
    }
   ],
   "source": [
    "############\n",
    "# solution\n",
    "############\n",
    "\n",
    "def getList():\n",
    "    return np.random.normal(2.5, 0.75, 250)\n",
    "    \n",
    "for i in range(10):\n",
    "    data = getList()\n",
    "    print(\"avg={:16.8f}, std={:16.8f}\".format(np.mean(data), np.std(data)))"
   ]
  },
  {
   "cell_type": "markdown",
   "metadata": {},
   "source": [
    "## Problem 3: \n",
    "\n",
    "1. Compute and print the eigenvalues, $\\lambda_i$, and eigenvectors, ${\\bf n}_i$, of\n",
    "$$\n",
    "   {\\bf A} =\n",
    "   \\left[ \\begin{array}{ccccc}\n",
    "   3 & 2 & 1 & 0 & 0 \\\\\n",
    "   2 & 3 & 2 & 1 & 0 \\\\\n",
    "   1 & 2 & 3 & 2 & 1 \\\\\n",
    "   0 & 1 & 2 & 3 & 2 \\\\\n",
    "   0 & 0 & 1 & 2 & 3 \n",
    "   \\end{array} \\right]\n",
    "$$\n",
    "2. Show that\n",
    "$$\n",
    "   {\\rm det}({\\bf A}) = \\prod_{i=1}^5 \\lambda_i\n",
    "$$\n",
    "3. Verify the following relation\n",
    "$$\n",
    "   {\\bf A} = \\sum_{i=1}^{5} \\lambda_i\\,{\\bf n}_i\\otimes{\\bf n}_i\n",
    "$$"
   ]
  },
  {
   "cell_type": "code",
   "execution_count": 30,
   "metadata": {},
   "outputs": [
    {
     "name": "stdout",
     "output_type": "stream",
     "text": [
      "lambda=7.654273 with n=[0.3287337  0.48567647 0.55866362 0.48567647 0.3287337 ]\n",
      "lambda=4.561553 with n=[ 5.57345410e-01  4.35162146e-01 -6.11410290e-16 -4.35162146e-01\n",
      " -5.57345410e-01]\n",
      "lambda=1.747703 with n=[ 0.61754841 -0.17829779 -0.41675859 -0.17829779  0.61754841]\n",
      "lambda=0.438447 with n=[ 4.35162146e-01 -5.57345410e-01 -3.92388876e-15  5.57345410e-01\n",
      " -4.35162146e-01]\n",
      "lambda=0.598024 with n=[ 0.10280135 -0.48200442  0.71708245 -0.48200442  0.10280135]\n",
      "16.000000000000007 16.000000000000036\n",
      "9.1104335791443 9.1104335791443 6.5146265818595516e-15\n"
     ]
    }
   ],
   "source": [
    "############\n",
    "# solution\n",
    "############\n",
    "\n",
    "# 1.\n",
    "A = np.array([\n",
    "    [3,2,1,0,0],\n",
    "    [2,3,2,1,0],\n",
    "    [1,2,3,2,1],\n",
    "    [0,1,2,3,2],\n",
    "    [0,0,1,2,3]\n",
    "])\n",
    "\n",
    "(lam,v) = np.linalg.eig(A)\n",
    "\n",
    "for i in range(5):\n",
    "    lami = lam[i]\n",
    "    ni = v[:,i]\n",
    "    print(\"lambda={:f} with n={}\".format(lami,ni))\n",
    "\n",
    "# 2.\n",
    "d = 1\n",
    "for x in lam:\n",
    "    d *= x\n",
    "\n",
    "print(np.linalg.det(A), d)\n",
    "\n",
    "# 3.\n",
    "B = np.zeros((5,5))\n",
    "for i in range(5):\n",
    "    ni = v[:,i]\n",
    "    B += lam[i] * np.outer(ni,ni)\n",
    "    \n",
    "print(np.linalg.norm(A),np.linalg.norm(B),np.linalg.norm(A-B))"
   ]
  },
  {
   "cell_type": "code",
   "execution_count": null,
   "metadata": {},
   "outputs": [],
   "source": []
  }
 ],
 "metadata": {
  "kernelspec": {
   "display_name": "Python 3",
   "language": "python",
   "name": "python3"
  },
  "language_info": {
   "codemirror_mode": {
    "name": "ipython",
    "version": 3
   },
   "file_extension": ".py",
   "mimetype": "text/x-python",
   "name": "python",
   "nbconvert_exporter": "python",
   "pygments_lexer": "ipython3",
   "version": "3.7.4"
  }
 },
 "nbformat": 4,
 "nbformat_minor": 4
}
