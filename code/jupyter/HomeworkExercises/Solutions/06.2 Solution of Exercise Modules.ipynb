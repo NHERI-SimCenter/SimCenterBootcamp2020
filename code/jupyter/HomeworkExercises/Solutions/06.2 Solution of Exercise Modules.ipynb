{
 "cells": [
  {
   "cell_type": "markdown",
   "metadata": {},
   "source": [
    "# Solution of Exercise 6: Modules"
   ]
  },
  {
   "cell_type": "markdown",
   "metadata": {},
   "source": [
    "## Problem 1:  Migrating a notebook to deployable code\n",
    "\n",
    "While jupyter notebooks are really nice to develop and document concepts, they can become long and confusing as your code matures.  In order to deploy your code, it is considered best practice to \n",
    "1. use one file per class, \n",
    "2. name that file the name of the class.py \n",
    "3. Use all lowercase for the filename since some operation systems are case sensitive and your code may break if you mix upper and lowercase the wrong way.\n",
    "4. import classes where needed and ONLY where needed\n",
    "5. start each file with a multi-line comment block explaining \n",
    "   1. name of the file (so you can find the file on your computer if you find a printout)\n",
    "   * name the author (for credit)\n",
    "   * creation date\n",
    "   * add lines for modification date and author (this is for the blame game)\n",
    "   \n",
    "<hr>\n",
    "\n",
    "Take your code from [Exercise 5, Problem 3](./05.1%20Exercise%20Classes.ipynb) and put each of the four classes into their own file.  You may need to import the parent class and all modules used by a class in its respective file.  Avoid unused imports for loading speed and memory usuage.\n",
    "\n",
    "Copy and adapt your main() function below such that it imports the necessary classes.  This should yield a much cleaner notebook."
   ]
  },
  {
   "cell_type": "code",
   "execution_count": 4,
   "metadata": {},
   "outputs": [],
   "source": [
    "# The Common() class is not directly needed here.\n",
    "# It needs to be included in each of the three python files instead.\n",
    "\n",
    "from customer import *         # imports the Customer() class\n",
    "from warehouse import *        # imports the WareHouse() class\n",
    "from momandpopstore import *   # imports the MomAndPopStore() class\n",
    "\n",
    "def main():\n",
    "    # this one remains unchanged!\n",
    "    pass\n",
    "\n",
    "# execute\n",
    "main()"
   ]
  },
  {
   "cell_type": "markdown",
   "metadata": {},
   "source": [
    "## Problem 2: Using the subprocess module\n",
    "\n",
    "The lecture demonstrated one use of the subprocess module.  This module has many more powerful features and I encourage you to review the [subprocess manual page](https://docs.python.org/3/library/subprocess.html) for more information.\n",
    "\n",
    "For this exercise, I prepared and provided a python code as 'lastExample.py'.  **Your task** is to run that file as a subprocess using your installed python executable.  The proper first call looks like\n",
    "~~~\n",
    "python3 lastExample.py -h\n",
    "~~~\n",
    "This will display further instructions, where\n",
    "* {all|some|none} means that you should pick all OR some OR none\n",
    "* [] indicates an optional argument.\n",
    "\n",
    "You may need to adjust the name of the python_execuatable for your installation.  Do not hardcode for your installation only but try to make your code run on all platforms (always a good goal!). \n",
    "\n",
    "**Hint**: If you encounter problems, check the entire output, not just stdout."
   ]
  },
  {
   "cell_type": "code",
   "execution_count": 1,
   "metadata": {},
   "outputs": [
    {
     "name": "stdout",
     "output_type": "stream",
     "text": [
      "usage: lastExample.py [-h] --name NAME --done {all,some,none} [-L]\n",
      "\n",
      "Your final challenger\n",
      "\n",
      "optional arguments:\n",
      "  -h, --help            show this help message and exit\n",
      "  --name NAME           your name. Use quotes if your name contains spaces\n",
      "  --done {all,some,none}\n",
      "                        You are telling me that you are done with {all or some\n",
      "                        or none} of the assignments.\n",
      "  -L                    set this option if you liked this python tutorial\n",
      "\n"
     ]
    }
   ],
   "source": [
    "import subprocess\n",
    "\n",
    "import os\n",
    "if os.name == 'posix':\n",
    "    executable = 'python3'\n",
    "else:\n",
    "    executable = 'python3.exe'\n",
    "\n",
    "out=subprocess.run([executable, 'lastExample.py','-h'], capture_output=True)\n",
    "if out.stderr:\n",
    "    print(out.stderr.decode('utf8'))\n",
    "else:\n",
    "    print(out.stdout.decode('utf8'))"
   ]
  },
  {
   "cell_type": "code",
   "execution_count": 2,
   "metadata": {},
   "outputs": [
    {
     "name": "stdout",
     "output_type": "stream",
     "text": [
      "\n",
      "Hi Peter Mackenzie-Helnwein,\n",
      "\n",
      "Looks like you've done all of the assignments.\n",
      "Great job!\n",
      "\n",
      "So glad you liked this tutorial :)\n",
      "\n",
      "Hope to see you again soon,\n",
      "Peter\n",
      "\n",
      "\n"
     ]
    }
   ],
   "source": [
    "cmd = [executable, \n",
    "        'lastExample.py',\n",
    "        '--name','Peter Mackenzie-Helnwein',\n",
    "        '--done','all',\n",
    "        '-L']\n",
    "    \n",
    "out=subprocess.run(cmd, capture_output=True)\n",
    "if out.stderr:\n",
    "    print(out.stderr.decode('utf8'))\n",
    "else:\n",
    "    print(out.stdout.decode('utf8'))"
   ]
  },
  {
   "cell_type": "code",
   "execution_count": null,
   "metadata": {},
   "outputs": [],
   "source": []
  }
 ],
 "metadata": {
  "kernelspec": {
   "display_name": "Python 3",
   "language": "python",
   "name": "python3"
  },
  "language_info": {
   "codemirror_mode": {
    "name": "ipython",
    "version": 3
   },
   "file_extension": ".py",
   "mimetype": "text/x-python",
   "name": "python",
   "nbconvert_exporter": "python",
   "pygments_lexer": "ipython3",
   "version": "3.7.4"
  }
 },
 "nbformat": 4,
 "nbformat_minor": 4
}
