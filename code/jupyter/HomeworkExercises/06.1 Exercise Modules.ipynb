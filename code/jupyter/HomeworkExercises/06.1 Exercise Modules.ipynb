{
 "cells": [
  {
   "cell_type": "markdown",
   "metadata": {},
   "source": [
    "# Exercise 6: Modules"
   ]
  },
  {
   "cell_type": "markdown",
   "metadata": {},
   "source": [
    "## Problem 1:  Migrating a notebook to deployable code\n",
    "\n",
    "While jupyter notebooks are really nice to develop and document concepts, they can become long and confusing as your code matures.  In order to deploy your code, it is considered best practice to \n",
    "1. use one file per class, \n",
    "2. name that file the name of the class.py \n",
    "3. Use all lowercase for the filename since some operation systems are case sensitive and your code may break if you mix upper and lowercase the wrong way.\n",
    "4. import classes where needed and ONLY where needed\n",
    "5. start each file with a multi-line comment block explaining \n",
    "   1. name of the file (so you can find the file on your computer if you find a printout)\n",
    "   * name the author (for credit)\n",
    "   * creation date\n",
    "   * add lines for modification date and author (this is for the blame game)\n",
    "   \n",
    "<hr>\n",
    "\n",
    "Take your code from [Exercise 5, Problem 3](./05.1%20Exercise%20Classes.ipynb) and put each of the four classes into their own file.  You may need to import the parent class and all modules used by a class in its respective file.  Avoid unused imports for loading speed and memory usuage.\n",
    "\n",
    "Copy and adapt your main() function below such that it imports the necessary classes.  This should yield a much cleaner notebook."
   ]
  },
  {
   "cell_type": "code",
   "execution_count": null,
   "metadata": {},
   "outputs": [],
   "source": []
  },
  {
   "cell_type": "markdown",
   "metadata": {},
   "source": [
    "## Problem 2: Using the subprocess module\n",
    "\n",
    "The lecture demonstrated one use of the subprocess module.  This module has many more powerful features and I encourage you to review the [subprocess manual page](https://docs.python.org/3/library/subprocess.html) for more information.\n",
    "\n",
    "For this exercise, I prepared and provided a python code as 'lastExample.py'.  **Your task** is to run that file as a subprocess using your installed python executable.  The proper call looks like\n",
    "~~~\n",
    "python3 lastExample.py --name YOUR_NAME --done {all|some|none} [-L]\n",
    "~~~\n",
    "* {all|some|none} means that you should pick all OR some OR none\n",
    "* [] indicates an optional argument.\n",
    "\n",
    "You may need to adjust the name of the python_execuatable for your installation.  Do not hardcode for your installation only but try to make your code run on all platforms (always a good goal!). "
   ]
  },
  {
   "cell_type": "code",
   "execution_count": null,
   "metadata": {},
   "outputs": [],
   "source": []
  }
 ],
 "metadata": {
  "kernelspec": {
   "display_name": "Python 3",
   "language": "python",
   "name": "python3"
  },
  "language_info": {
   "codemirror_mode": {
    "name": "ipython",
    "version": 3
   },
   "file_extension": ".py",
   "mimetype": "text/x-python",
   "name": "python",
   "nbconvert_exporter": "python",
   "pygments_lexer": "ipython3",
   "version": "3.7.4"
  }
 },
 "nbformat": 4,
 "nbformat_minor": 4
}
