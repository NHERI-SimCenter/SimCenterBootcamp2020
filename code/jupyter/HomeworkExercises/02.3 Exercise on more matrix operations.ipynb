{
 "cells": [
  {
   "cell_type": "markdown",
   "metadata": {},
   "source": [
    "# Exercise 2(b): More Linear Algebra\n",
    "\n",
    "Let's practice more using numpy and refreshing some linear algebra along the way."
   ]
  },
  {
   "cell_type": "markdown",
   "metadata": {},
   "source": [
    "## Problem 5\n",
    "\n",
    "**Given**:\n",
    "Two symmetric matrices ${\\bf A}$ and ${\\bf B}$, bot symmetric, are used to construct a series of matrices\n",
    "$$\n",
    "   {\\bf K}(\\lambda) := {\\bf A} + \\lambda {\\bf B}\n",
    "$$\n",
    "\n",
    "A critical state occurs if ${\\bf K}(\\lambda)$ becomes singular."
   ]
  },
  {
   "cell_type": "code",
   "execution_count": null,
   "metadata": {},
   "outputs": [],
   "source": [
    "# loading useful types and functions\n",
    "from numpy import array\n",
    "from numpy.linalg import eig, det\n",
    "\n",
    "# define matrices A and B\n",
    "A = array([\n",
    "    [2,2,1,0,0],\n",
    "    [2,4,2,1,0],\n",
    "    [1,2,8,2,1],\n",
    "    [0,1,2,4,2],\n",
    "    [0,0,1,2,2]\n",
    "])\n",
    "\n",
    "B = array([\n",
    "    [-1,-1, 1, 0, 0],\n",
    "    [-1,-2,-1, 1, 0],\n",
    "    [ 1,-1,-2,-1, 1],\n",
    "    [ 0, 1,-1,-2,-1],\n",
    "    [ 0, 0, 1,-1,-1]\n",
    "])\n",
    "\n",
    "# define a function to compute K\n",
    "def K(s):\n",
    "    return A + s*B\n"
   ]
  },
  {
   "cell_type": "markdown",
   "metadata": {},
   "source": [
    "**Find (i)**: \n",
    "Use simple plotting locate critical values for $\\lambda$."
   ]
  },
  {
   "cell_type": "code",
   "execution_count": null,
   "metadata": {},
   "outputs": [],
   "source": [
    "from numpy import linspace, zeros_like\n",
    "import matplotlib.pyplot as plt\n",
    "\n",
    "# setting the horizontal axis values ...\n",
    "s = linspace(-2,4,80)\n",
    "\n",
    "# YOUR CODE HERE ...\n",
    "\n",
    "plt.show()"
   ]
  },
  {
   "cell_type": "markdown",
   "metadata": {},
   "source": [
    "**Find (ii)**: \n",
    "Discuss a strategy that would find critical states in an automated way. \n",
    "Suitable algorithms are _bisection_, _linear interpolation_, or the _Newton algorithm_. \n",
    "\n",
    "1. Write a function that takes one (or two) guesses for solutions and returns an improved guess.\n",
    "2. Write another function that uses the first one to iteratively find a solution for which $\\det {\\bf K}<10^{-10}$ "
   ]
  },
  {
   "cell_type": "code",
   "execution_count": null,
   "metadata": {},
   "outputs": [],
   "source": []
  },
  {
   "cell_type": "markdown",
   "metadata": {},
   "source": [
    "**An analytical solution to the problem**:\n",
    "Using Cholesky decomposition,\n",
    "$$\n",
    "{\\bf A} = {\\bf L}{\\bf L}^t\n",
    "$$\n",
    "we find\n",
    "$$\n",
    "   {\\bf A} + \\lambda {\\bf B}\n",
    "   = \n",
    "   \\lambda {\\bf L}(\\bar{\\bf B}-\\omega {\\bf 1} ){\\bf L}^t\n",
    "   \\qquad\\text{with}\\quad\n",
    "   \\omega = -\\frac{1}{\\lambda}\n",
    "   \\quad\\text{and}\\quad\n",
    "   \\bar{\\bf B} = {\\bf L}^{-1}{\\bf B}{\\bf L}^{-t}\n",
    "$$\n",
    "and, thus, the solution to the original question follows from the standard eigenvalue problem as\n",
    "$$\n",
    "   \\bar{\\bf B}-\\omega {\\bf 1} = {\\bf 0}\n",
    "   \\qquad\\Rightarrow\\quad\n",
    "   \\lambda = -\\frac{1}{\\omega}\n",
    "$$"
   ]
  },
  {
   "cell_type": "code",
   "execution_count": null,
   "metadata": {},
   "outputs": [],
   "source": [
    "from numpy.linalg import cholesky\n",
    "\n",
    "L = cholesky(A)"
   ]
  },
  {
   "cell_type": "code",
   "execution_count": null,
   "metadata": {},
   "outputs": [],
   "source": [
    "from numpy.linalg import inv, eigvals\n",
    "\n",
    "Linv = inv(L)\n",
    "BB = ...\n",
    "\n",
    "# REST OF YOUR CODE HERE ...\n",
    "\n",
    "lam = ..."
   ]
  },
  {
   "cell_type": "code",
   "execution_count": null,
   "metadata": {},
   "outputs": [],
   "source": [
    "# output your results\n",
    "\n",
    "for l in sorted(lam):\n",
    "    print(l)"
   ]
  },
  {
   "cell_type": "code",
   "execution_count": null,
   "metadata": {},
   "outputs": [],
   "source": [
    "from numpy import linspace, zeros_like\n",
    "import matplotlib.pyplot as plt\n",
    "\n",
    "# setting the horizontal axis values ...\n",
    "s = linspace(-2,4,80)\n",
    "\n",
    "# YOUR CODE HERE ...\n",
    "\n",
    "plt.show()"
   ]
  },
  {
   "cell_type": "markdown",
   "metadata": {},
   "source": [
    "## Problem 6: coding a truss element\n",
    "\n",
    "The stiffness method (CESG 501/CESG 506/CESG 506) defines the reaction force as\n",
    "$$\n",
    "   {\\bf P}_e = f \\,{\\bf n}\n",
    "$$\n",
    "and the stiffness matrix for a truss element as\n",
    "$$\n",
    "   {\\bf K}_e = \\frac{EA}{\\ell} \\,{\\bf n}\\otimes{\\bf n} + \\frac{f}{\\ell} \\,({\\bf 1}-{\\bf n}\\otimes{\\bf n})\n",
    "$$\n",
    "where\n",
    "    \n",
    "| variable              | symbol        | definition            |\n",
    "|:--------              |:--------      |:-----------           |\n",
    "| **given**:            |               |                       |\n",
    "| modulus of elasticity |   $E$\t        |  `float`              |\n",
    "| cross section area    |   $A$\t        |  `float`              |       \n",
    "| location vector for $i^{th}$ node ($i=1,2$) | ${\\bf X}_i$\t| `numpy.array` | \n",
    "| nodal displacement vector for $i^{th}$ node ($i=1,2$) | ${\\bf u}_i$ | `numpy.array` |\n",
    "| **computed**:         |               |                       | \n",
    "| original axial vector | $ {\\bf L}_0 $ | $ {\\bf X}_2 - {\\bf X}_1 $ |\n",
    "| deformed axial vector | $ {\\bf L} $   | $ {\\bf X}_2 + {\\bf u}_2 - {\\bf X}_1 - {\\bf u}_1 $ |\n",
    "| original length       | $\\ell_0$      | $\\| {\\bf L}_0 \\|$ |\n",
    "| deformed length       | $\\ell$        | $\\| {\\bf L} \\|$ |\n",
    "| normal vector         | ${\\bf n}$     | $ { \\frac{1}{\\ell} ( {\\bf L} ) } $ | \n",
    "| axial strain          | $\\varepsilon$ |     $ \\frac{1}{2} \\left(\\left(\\frac{\\ell}{\\ell_0}\\right)^2 - 1 \\right) $ |    \n",
    "| axial force           | $f$           | $ EA\\, \\varepsilon $  |\n",
    "| **pre-defined**:      |               |                       |\n",
    "| identity matrix       | $ {\\bf 1} $   | `numpy.ones((3,3))`   |\n",
    "| outer product         | $ \\otimes $   | `numpy.outer(v,w)`    |\n",
    "| **Return values**:    |               |                       |\n",
    "| reaction force        | $ {\\bf P}_e $ |  `numpy.array` (3-comp. vector) |\n",
    "| nodal stiffness       | $ {\\bf K}_e $ |  `numpy.array` (3x3 matrix)     |\n",
    "\n",
    "**Your task**:\n",
    "Complete a function `TrussElement(...)` that takes the provided input, computes ${\\bf P}_e$ and ${\\bf K}_e$, and returns both."
   ]
  },
  {
   "cell_type": "code",
   "execution_count": null,
   "metadata": {},
   "outputs": [],
   "source": [
    "from numpy.linalg import norm\n",
    "import numpy as np\n",
    "\n",
    "def TrussElement(E,A,X1,X2,U1,U2):\n",
    "    \n",
    "    # YOUR CODE HERE ...\n",
    "    \n",
    "    Pe = ...\n",
    "    \n",
    "    Ke = ...\n",
    "    \n",
    "    return (Pe, Ke)"
   ]
  },
  {
   "cell_type": "markdown",
   "metadata": {},
   "source": [
    "I implemented a simple test procedure that\n",
    "1. calls your function with two different data sets\n",
    "2. compares your results against mine\n",
    "3. prints info on whether or not your code produced the correct answers\n",
    "\n",
    "**Your task**:\n",
    "Simply define your function above and execute first your definition (above) and second my test procedure (below)."
   ]
  },
  {
   "cell_type": "code",
   "execution_count": null,
   "metadata": {},
   "outputs": [],
   "source": [
    "# TEST PROCEDURE\n",
    "def tensorCompare(s,v,w):\n",
    "    if np.linalg.norm(v-w)<1.e-8:\n",
    "        print(\"*** {} SUCCESS - RESULTS MATCH ***\".format(s))\n",
    "    else:\n",
    "        print(\"*** {} ERROR - NO MATCH ***\".format(s))\n",
    "        print(\"yours:\\n\",v,\"\\ntarget:\\n\",w,\"---\")\n",
    "\n",
    "X1 = np.array([0.,0.,0.])\n",
    "X2 = np.array([10.,5.,15.])\n",
    "\n",
    "U1 = np.array([0.,0.,0.])\n",
    "U2 = np.array([0.,0.,0.])\n",
    "\n",
    "(P,K) = TrussElement(1000., 2.5, X1, X2, U1, U2)\n",
    "\n",
    "tensorCompare(\"Pe #1\",P,np.array([0., 0., 0.]))\n",
    "tensorCompare(\"Ke #1\",K,np.array([[38.18017742, 19.09008871, 57.27026612],\n",
    "                                  [19.09008871,  9.54504435, 28.63513306],\n",
    "                                  [57.27026612, 28.63513306, 85.90539919]]))\n",
    "\n",
    "U1 = np.array([0.15,0.10,0.20])\n",
    "U2 = np.array([0.05,0.25,0.10])\n",
    "\n",
    "(P,K) = TrussElement(1000., 2.5, X1, X2, U1, U2)\n",
    "\n",
    "tensorCompare(\"Pe #2\",P,np.array([-6.58320907, -3.42459866, -9.90806213]))\n",
    "tensorCompare(\"Ke #2\",K,np.array([[37.50490667, 19.85604728, 57.44759309],\n",
    "                                  [19.85604728,  9.66418529, 29.88435398],\n",
    "                                  [57.44759309, 29.88435398, 85.79655838]]))\n"
   ]
  },
  {
   "cell_type": "code",
   "execution_count": null,
   "metadata": {},
   "outputs": [],
   "source": []
  }
 ],
 "metadata": {
  "kernelspec": {
   "display_name": "Python 3",
   "language": "python",
   "name": "python3"
  },
  "language_info": {
   "codemirror_mode": {
    "name": "ipython",
    "version": 3
   },
   "file_extension": ".py",
   "mimetype": "text/x-python",
   "name": "python",
   "nbconvert_exporter": "python",
   "pygments_lexer": "ipython3",
   "version": "3.8.5"
  }
 },
 "nbformat": 4,
 "nbformat_minor": 4
}
