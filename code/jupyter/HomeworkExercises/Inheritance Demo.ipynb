{
 "cells": [
  {
   "cell_type": "markdown",
   "metadata": {},
   "source": [
    "# Inheritance Demo Problem\n",
    "\n",
    "## Base class"
   ]
  },
  {
   "cell_type": "code",
   "execution_count": 37,
   "metadata": {},
   "outputs": [],
   "source": [
    "class Human():\n",
    "    \n",
    "    def __init__(self, name='unknown', gender='unknown', age=0, weight=3.5, height=0.50):\n",
    "        self.age    = age\n",
    "        self.weight = weight\n",
    "        self.height = height\n",
    "        self.name   = name\n",
    "        self.gender = gender\n",
    "        \n",
    "    def __str__(self):\n",
    "        classname = self.__class__.__name__\n",
    "        return f\"{classname}(age={self.age}, weight={self.weight}, height={self.height})\"\n",
    "    \n",
    "    def __repr__(self):\n",
    "        return str(self)\n",
    "    \n",
    "    def speak(self):\n",
    "        print(\"Hi, I am {} and I scream all night long\".format(self.name))\n",
    "        \n",
    "    def walk(self):\n",
    "        print(\"I am crawling\")\n",
    "    \n",
    "        "
   ]
  },
  {
   "cell_type": "markdown",
   "metadata": {},
   "source": [
    "## Derived classes"
   ]
  },
  {
   "cell_type": "code",
   "execution_count": 38,
   "metadata": {},
   "outputs": [],
   "source": [
    "class Female(Human):\n",
    "    def __init__(self,name='unknown',age=0, weight=3.5, height=0.50):\n",
    "        super().__init__(name=name, gender='female',age=age, weight=weight, height=height)\n",
    "        \n",
    "    def speak(self):\n",
    "        print(\"Hi, I am {} and I have a great singing voice\".format(self.name))"
   ]
  },
  {
   "cell_type": "code",
   "execution_count": 39,
   "metadata": {},
   "outputs": [],
   "source": [
    "class Male(Human):\n",
    "    def __init__(self,name='unknown',age=0, weight=3.5, height=0.50):\n",
    "        super().__init__(name=name, gender='male', age=age, weight=weight, height=height)\n",
    "        \n",
    "    def speak(self):\n",
    "        print(\"Hi, I am {} and I talk a lot\".format(self.name))"
   ]
  },
  {
   "cell_type": "code",
   "execution_count": 40,
   "metadata": {},
   "outputs": [],
   "source": [
    "class Trans(Human):\n",
    "    def __init__(self,name='unknown',age=0, weight=3.5, height=0.50):\n",
    "        super().__init__(name=name, gender='trans', age=age, weight=weight, height=height)\n",
    "        \n",
    "    def speak(self):\n",
    "        print(\"Hi, I am {} and I am the smartest student\".format(self.name))"
   ]
  },
  {
   "cell_type": "code",
   "execution_count": 41,
   "metadata": {},
   "outputs": [],
   "source": [
    "class Ballerina(Female):\n",
    "    \n",
    "    def walk(self):\n",
    "        print(\"Beautifully dancing across the stage\")"
   ]
  },
  {
   "cell_type": "markdown",
   "metadata": {},
   "source": [
    "## Testing"
   ]
  },
  {
   "cell_type": "code",
   "execution_count": 42,
   "metadata": {},
   "outputs": [
    {
     "name": "stdout",
     "output_type": "stream",
     "text": [
      "Male(age=0, weight=3.5, height=0.5)\n",
      "Female(age=0, weight=3.5, height=0.5)\n",
      "Trans(age=0, weight=3.5, height=0.5)\n",
      "Human(age=0, weight=3.5, height=0.5)\n",
      "Ballerina(age=0, weight=3.5, height=0.5)\n",
      "Hi, I am Peter and I talk a lot\n",
      "Hi, I am Jeanne and I have a great singing voice\n",
      "Hi, I am Jamie and I am the smartest student\n",
      "Hi, I am Louisa and I scream all night long\n",
      "Hi, I am Sophistica and I have a great singing voice\n",
      "I am crawling\n",
      "I am crawling\n",
      "I am crawling\n",
      "I am crawling\n",
      "Beautifully dancing across the stage\n"
     ]
    }
   ],
   "source": [
    "\n",
    "peter = Male('Peter')\n",
    "jeanne = Female('Jeanne')\n",
    "friend = Trans('Jamie')\n",
    "baby = Human('Louisa')\n",
    "dancer = Ballerina('Sophistica')\n",
    "\n",
    "print(peter)\n",
    "print(jeanne)\n",
    "print(friend)\n",
    "print(baby)\n",
    "print(dancer)\n",
    "\n",
    "peter.speak()\n",
    "jeanne.speak()\n",
    "friend.speak()\n",
    "baby.speak()\n",
    "dancer.speak()\n",
    "\n",
    "peter.walk()\n",
    "jeanne.walk()\n",
    "friend.walk()\n",
    "baby.walk()\n",
    "dancer.walk()"
   ]
  },
  {
   "cell_type": "code",
   "execution_count": null,
   "metadata": {},
   "outputs": [],
   "source": []
  }
 ],
 "metadata": {
  "kernelspec": {
   "display_name": "Python 3",
   "language": "python",
   "name": "python3"
  },
  "language_info": {
   "codemirror_mode": {
    "name": "ipython",
    "version": 3
   },
   "file_extension": ".py",
   "mimetype": "text/x-python",
   "name": "python",
   "nbconvert_exporter": "python",
   "pygments_lexer": "ipython3",
   "version": "3.8.5"
  }
 },
 "nbformat": 4,
 "nbformat_minor": 4
}
