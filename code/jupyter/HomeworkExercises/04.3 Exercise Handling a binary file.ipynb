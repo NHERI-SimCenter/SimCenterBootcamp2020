{
 "cells": [
  {
   "cell_type": "markdown",
   "metadata": {},
   "source": [
    "# Exercise 4 - Part 2: Working with binary files"
   ]
  },
  {
   "cell_type": "code",
   "execution_count": 1,
   "metadata": {},
   "outputs": [],
   "source": [
    "import numpy as np\n",
    "import matplotlib.pyplot as plt"
   ]
  },
  {
   "cell_type": "markdown",
   "metadata": {},
   "source": [
    "## Problem 4: Parsing a binary file \n",
    "\n",
    "This homework will review and combine multiple concepts:\n",
    "- file handling with focus on a binary file\n",
    "- data types: conversion between types, and manipulation of data\n",
    "- `numpy.array` data type: creation, manipulation, and slicing\n",
    "- `matplotlib` extension for showing images\n",
    "\n",
    "**Given**: \n",
    "- a binary file named `612A8347.ppm` (_download from the class website_)\n",
    "- jpg file named `612A8347.jpg` to show you how the final result should look like (_for validation only_)\n",
    "- a description of the binary file (given after the task list)\n",
    "\n",
    "**Your tasks**: \n",
    "1. read this file making sure to implement at least some suitable exception handling.\n",
    "   Break up the task in \n",
    "   1. reading and analyzing the general information \n",
    "   1. identifying the correct data type and format string from that information\n",
    "   1. reading image information into a three-dimensional `numpy.array` named `data`.  \n",
    "      `data` is organized as a 2-d array of RGB pixels, i.e., each `data[i,j,:]` is an `array([R,G,B])` for R (red), G (green), and B (blue) color values, all in the range $0\\le R,G,B \\le 1$.\n",
    "2. Using `matplotlib.pyplot.imshow(...)`, plot the image contained in your data.\n",
    "3. Create and plot three RGB-images, each containing only one or the three color channels, and plot them side by side.\n",
    "4. For each of the color channels, create and plot a histogram with 256 equally sized bins (check out `numpy` and `matplotlib` for ways to generate and visualize histograms).\n",
    "5. Break the original RBG image into 3x3 = 9 equal images and plot those.  Use python's `slicing` (see both `lists` and `numpy.array` documentations for that)."
   ]
  },
  {
   "cell_type": "markdown",
   "metadata": {},
   "source": [
    "### Color Depth\n",
    "\n",
    "RGB -> 8bit per color (= 1 byte per color) -> $2^{8} = 256$\n",
    "\n",
    "RGB -> 16bit per color (= 2 byte per color) -> $2^{16} = 256^2 = 65636$"
   ]
  },
  {
   "cell_type": "markdown",
   "metadata": {},
   "source": [
    "### locate your image.  Mine is placed inside a folder named `images` inside the `jupyter-notebooks` folder."
   ]
  },
  {
   "cell_type": "code",
   "execution_count": 2,
   "metadata": {},
   "outputs": [
    {
     "name": "stdout",
     "output_type": "stream",
     "text": [
      "00 Outline.ipynb\r\n",
      "01 Basic Concepts.ipynb\r\n",
      "01.1 Exercise_Functions.ipynb\r\n",
      "01.2 Solution of Exercise_Functions.ipynb\r\n",
      "02 Matrix Data Types.ipynb\r\n",
      "02.1 Exercise numpy.ipynb\r\n",
      "02.2 Solution of Exercise numpy.ipynb\r\n",
      "02.3 Exercise on more matrix operations.ipynb\r\n",
      "02.4 Solution for Exercise on more matrix operations.ipynb\r\n",
      "03 Plotting using matplotlib.ipynb\r\n",
      "03.1 Exercise Plotting.ipynb\r\n",
      "03.2 Solution of Exercise Plotting.ipynb\r\n",
      "04 File handling.ipynb\r\n",
      "04.1 Exercise File handling.ipynb\r\n",
      "04.2 Solution of Exercise File handling.ipynb\r\n",
      "04.3 Exercise Handling a binary file.ipynb\r\n",
      "04.4 Solution of Exercise Handling a binary file.ipynb\r\n",
      "05 Classes.ipynb\r\n",
      "05.1 Exercise Classes.ipynb\r\n",
      "05.2 Solution of Exercise Classes.ipynb\r\n",
      "06 Modules.ipynb\r\n",
      "06.1 Exercise Modules.ipynb\r\n",
      "06.2 Solution of Exercise Modules.ipynb\r\n",
      "\u001b[34m07 ML\u001b[m\u001b[m/\r\n",
      "07 ML_basics.ipynb\r\n",
      "07 Machine Learning AI.ipynb\r\n",
      "08 User Interface with PyQt5.ipynb\r\n",
      "09 SQL Databases.ipynb\r\n",
      "10 Web Scrabbing.ipynb\r\n",
      "80 IPython Widgets.ipynb\r\n",
      "90 Exploring special features of jupyter notebooks.ipynb\r\n",
      "99 System Information Scripts.ipynb\r\n",
      "Demo Notebook.ipynb\r\n",
      "ExampleData.txt\r\n",
      "ExcelDemo.xlsx\r\n",
      "\u001b[34mGIS\u001b[m\u001b[m/\r\n",
      "\u001b[34mLessonNotes\u001b[m\u001b[m/\r\n",
      "\u001b[34mMechanics\u001b[m\u001b[m/\r\n",
      "MyExcelFile.xlsx\r\n",
      "MyWidget.py\r\n",
      "Problem3.xlsx\r\n",
      "\u001b[34mStudent_Submissions\u001b[m\u001b[m/\r\n",
      "\u001b[34mWeb\u001b[m\u001b[m/\r\n",
      "\u001b[31mWebDriver\u001b[m\u001b[m*\r\n",
      "common.py\r\n",
      "customer.py\r\n",
      "\u001b[34mdemo\u001b[m\u001b[m/\r\n",
      "examplefigure.png\r\n",
      "hello.py\r\n",
      "\u001b[34mimages\u001b[m\u001b[m/\r\n",
      "lastExample.py\r\n",
      "makeSampleData.py\r\n",
      "momandpopstore.py\r\n",
      "myDataFile.txt\r\n",
      "myWebData.csv\r\n",
      "point.py\r\n",
      "simpleData.txt\r\n",
      "warehouse.py\r\n"
     ]
    }
   ],
   "source": [
    "%ls"
   ]
  },
  {
   "cell_type": "code",
   "execution_count": 3,
   "metadata": {},
   "outputs": [
    {
     "name": "stdout",
     "output_type": "stream",
     "text": [
      "total 168288\r\n",
      "-rw-r--r--@ 1 pmackenz  staff   5269451 Oct 22 15:01 612A8347.jpg\r\n",
      "-rw-r--r--@ 1 pmackenz  staff  39992995 Oct 22 15:04 612A8347.ppm\r\n",
      "-rw-r--r--@ 1 pmackenz  staff  40010224 Oct 22 15:01 612A8347.tif\r\n"
     ]
    }
   ],
   "source": [
    "%ll images"
   ]
  },
  {
   "cell_type": "markdown",
   "metadata": {},
   "source": [
    "### This example code explores the file byte by byte and reads and displays the first 24 characters.\n",
    "\n",
    "This should help you get started with reading the header information"
   ]
  },
  {
   "cell_type": "code",
   "execution_count": 4,
   "metadata": {},
   "outputs": [
    {
     "name": "stdout",
     "output_type": "stream",
     "text": [
      "c[0]: b'P'\n",
      "c[1]: b'6'\n",
      "c[2]: b'\\n'\n",
      "c[3]: b'3'\n",
      "c[4]: b'1'\n",
      "c[5]: b'6'\n",
      "c[6]: b'2'\n",
      "c[7]: b' '\n",
      "c[8]: b'2'\n",
      "c[9]: b'1'\n",
      "c[10]: b'0'\n",
      "c[11]: b'8'\n",
      "c[12]: b'\\n'\n",
      "c[13]: b'6'\n",
      "c[14]: b'5'\n",
      "c[15]: b'5'\n",
      "c[16]: b'3'\n",
      "c[17]: b'5'\n",
      "c[18]: b'\\n'\n",
      "c[19]: b'\\xad'\n",
      "c[20]: b'u'\n",
      "c[21]: b'\\xbc'\n",
      "c[22]: b'.'\n",
      "c[23]: b'\\xd1'\n"
     ]
    }
   ],
   "source": [
    "# You may need to change the filename if you are storing the image in a different location\n",
    "source_filename = 'images/612A8347.ppm'\n",
    "\n",
    "try:\n",
    "    f=open(source_filename,'rb')\n",
    "except IOError:\n",
    "    print(f'CANNOT OPEN {source_filename} FOR READING')\n",
    "    raise\n",
    "    \n",
    "for i in range(24):\n",
    "    c = f.read(1)\n",
    "    print(\"c[{}]: {}\".format(i,c))\n",
    "\n",
    "f.close()"
   ]
  },
  {
   "cell_type": "markdown",
   "metadata": {},
   "source": [
    "1.1 **Read the header information**\n",
    "\n",
    "From the above initial attempt, we conclude the following:\n",
    "\n",
    "- The binary file starts with human readable information\n",
    "- There are three (3) lines of information, each ending with `'\\n'`\n",
    "    1. the first line contains a string, known as `magic number`.  You may google for that magic number to ID the file type.  We may ignore it for this exercise.\n",
    "    2. the second line contains two numbers: width and height of the stored image in pixels.\n",
    "    3. the number of colors per channel or `color depth`.  "
   ]
  },
  {
   "cell_type": "code",
   "execution_count": null,
   "metadata": {},
   "outputs": [],
   "source": [
    "import sys\n",
    "from struct import unpack, calcsize\n",
    "import numpy as np\n",
    "\n",
    "source_filename = 'images/612A8347.ppm'\n",
    "\n",
    "# YOUR CODE HERE ...\n",
    "\n",
    "print(magic_number)\n",
    "print(size)\n",
    "print(color_depth)\n"
   ]
  },
  {
   "cell_type": "markdown",
   "metadata": {},
   "source": [
    "1.2. **Find dimension of the data from `color_depth`**\n",
    "\n",
    "The third number represented color depth. \n",
    "That number is $2^{bits}-1$, with $bits$ as the  available number of bits in the data type used to represent each channel. **Note**: each byte holds 8 bits.  Common data types at `unsigned byte`, `unsigned character`, `unsigned short`, `unsigned integer`, `undigned long` or `unsigned long long`.  Use `struct.calcsize(fmt)` to identify which of the data types matches the given color depth.\n",
    "\n",
    "**References**:\n",
    "- https://docs.python.org/2/library/struct.html#format-characters"
   ]
  },
  {
   "cell_type": "code",
   "execution_count": null,
   "metadata": {},
   "outputs": [],
   "source": [
    "# find bytes per color\n",
    "N = 0\n",
    "fmt = ''\n",
    "\n",
    "candidates = ['B', ... ]    # YOUR list of suitable candidates\n",
    "\n",
    "for t in candidates:\n",
    "    \n",
    "    # YOUR CODE HERE ...\n",
    "    \n",
    "    N = ...\n",
    "    fmt = ...\n",
    "        \n",
    "        \n",
    "print(f\"---\\nthe suggested format is '{fmt}' and takes {N} bytes per value\")"
   ]
  },
  {
   "cell_type": "markdown",
   "metadata": {},
   "source": [
    "1.3. **Read the pixels into a 3-dimensional `numpy.array` named `data`**\n",
    "\n",
    "Now that you know the correct data type for the binary storage scheme, read the data as follows:\n",
    "- each pixel is represented by three consecutive numbers of the identified data type.  These numbers, in sequence, represent R, G, and B values.  Those values are $0\\le R,G,B\\le color~depth$ and nned to be converted to `np.array([r,g,b])` with $0\\le r,g,b\\le 1$.\n",
    "- pixels are stored in the file sequentially forming row after row of your image.  You should know the size from the header data.\n",
    "- make sure the colleacted data is a `numpy.array`!\n",
    "- **Hint**: depending on your operation system, the data may appear in a native or non-native format.  You may need to specify whether your binary data is to be interpreted as `little-endian` or `big-endian` (see documentation for `struct`)"
   ]
  },
  {
   "cell_type": "code",
   "execution_count": null,
   "metadata": {},
   "outputs": [],
   "source": [
    "# read the data from file\n",
    "data = []\n",
    "\n",
    "FMT = ... # the format string for one pixel (RGB values, byte order)\n",
    "\n",
    "\n",
    "# YOUR CODE HERE ...\n",
    "\n",
    "    \n",
    "# we are done reading that file\n",
    "f.close()"
   ]
  },
  {
   "cell_type": "code",
   "execution_count": null,
   "metadata": {},
   "outputs": [],
   "source": [
    "# check the shape of data.  The answer should be (num_rows, num_cols, 3)\n",
    "data.shape"
   ]
  },
  {
   "cell_type": "markdown",
   "metadata": {},
   "source": [
    "2. **Visualize the data as RGB image**\n",
    "\n",
    "- Check out `matplotlib.pyplot.imshow(...)`.  It should be able to visualize your `data` array quickly as an image.\n",
    "- **Hint**: depending on your operation system, the data may appear in a native or non-native format.  You may need to specify whether your binary data is to be interpreted as `little-endian` or `big-endian` (see documentation for `struct`).  Picking the wrong one will make the image look very weird, while picking the write one will disclose what I've done last weekend."
   ]
  },
  {
   "cell_type": "code",
   "execution_count": null,
   "metadata": {},
   "outputs": [],
   "source": [
    "import matplotlib.pyplot as plt\n",
    "\n",
    "# YOUR CODE HERE ...\n"
   ]
  },
  {
   "cell_type": "markdown",
   "metadata": {},
   "source": [
    "3.1 **Visualize each color channel seperately**\n",
    "\n",
    "While it may be tempting to use `data[:,:,i]` for the `i`th channel, that form represents a greysacle image of that color channel and will generate fake colors.  Make sure to create another RGB image."
   ]
  },
  {
   "cell_type": "code",
   "execution_count": null,
   "metadata": {},
   "outputs": [],
   "source": [
    "\n",
    "# YOUR CODE HERE ...\n"
   ]
  },
  {
   "cell_type": "markdown",
   "metadata": {},
   "source": [
    "3.2 **Here is the original image**\n",
    "\n",
    "This is for validation only"
   ]
  },
  {
   "cell_type": "code",
   "execution_count": null,
   "metadata": {},
   "outputs": [],
   "source": [
    "img = mpimg.imread(source_filename[:-3]+'jpg')\n",
    "plt.imshow(img)"
   ]
  },
  {
   "cell_type": "markdown",
   "metadata": {},
   "source": [
    "4. **Generate histograms for each color channel**\n",
    "\n",
    "**Useful options**:\n",
    "- `numpy.histogram`: https://numpy.org/doc/stable/reference/generated/numpy.histogram.html\n",
    "- `matplotlib.pyplot.hist`: https://numpy.org/doc/stable/reference/generated/numpy.histogram.html"
   ]
  },
  {
   "cell_type": "code",
   "execution_count": null,
   "metadata": {},
   "outputs": [],
   "source": [
    "\n",
    "# YOUR CODE HERE ...\n"
   ]
  },
  {
   "cell_type": "markdown",
   "metadata": {},
   "source": [
    "5. **Viewing a zoomed image**\n",
    "\n",
    "Think of slicing that image both vertically and horizontally into nine (9) equal images. Plot those 9 images in a 3x3 matrix (`matplotlib.pyplot.subplots`)"
   ]
  },
  {
   "cell_type": "code",
   "execution_count": null,
   "metadata": {},
   "outputs": [],
   "source": [
    "fig,ax = plt.subplots(3,3)\n",
    "\n",
    "\n",
    "# YOUR CODE HERE ...\n"
   ]
  }
 ],
 "metadata": {
  "kernelspec": {
   "display_name": "Python 3",
   "language": "python",
   "name": "python3"
  },
  "language_info": {
   "codemirror_mode": {
    "name": "ipython",
    "version": 3
   },
   "file_extension": ".py",
   "mimetype": "text/x-python",
   "name": "python",
   "nbconvert_exporter": "python",
   "pygments_lexer": "ipython3",
   "version": "3.8.5"
  }
 },
 "nbformat": 4,
 "nbformat_minor": 4
}
