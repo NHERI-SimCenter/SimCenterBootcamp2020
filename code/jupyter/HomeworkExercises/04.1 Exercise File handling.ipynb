{
 "cells": [
  {
   "cell_type": "markdown",
   "metadata": {},
   "source": [
    "# Exercise 4: File handling"
   ]
  },
  {
   "cell_type": "code",
   "execution_count": 1,
   "metadata": {},
   "outputs": [],
   "source": [
    "import numpy as np\n",
    "import matplotlib.pyplot as plt"
   ]
  },
  {
   "cell_type": "markdown",
   "metadata": {},
   "source": [
    "## Problem 1: \n",
    "\n",
    "Open and read the file 'ExampleData.txt'.  This file is a plain text file providing data as comma-separated list.  An example of this file looks like this:\n",
    "~~~\n",
    "1.0,0.0,\n",
    "1.0043021179718516,0.06331229237152888,\n",
    "1.0045749747914792,0.12716436093274708,\n",
    "1.0007678438038003,0.1912984977208162,\n",
    "...\n",
    "~~~\n",
    "Each line represents the X and Y coordinate on one point on a polygon.\n",
    "\n",
    "**Your tasks**: \n",
    "1. read this file making sure to implement proper exception handling.\n",
    "2. plot the polygon.  Make sure to preserve correct proportions and angles by setting equal axis scaling."
   ]
  },
  {
   "cell_type": "code",
   "execution_count": null,
   "metadata": {},
   "outputs": [],
   "source": []
  },
  {
   "cell_type": "markdown",
   "metadata": {},
   "source": [
    "## Problem 2: \n",
    "\n",
    "**Your tasks**: \n",
    "1. Using the **pandas** library, read 'SheetWind' from 'ExcelDemo.xlsx' and provide the mean, standard deviation, max, and min values for the columns 'vx1','vy1','vx2','vy2','vx3','vy3'\n",
    "2. plot 'vy2' against 'vx2'"
   ]
  },
  {
   "cell_type": "code",
   "execution_count": null,
   "metadata": {},
   "outputs": [],
   "source": []
  },
  {
   "cell_type": "markdown",
   "metadata": {},
   "source": [
    "## Problem 3: \n",
    "\n",
    "**Your tasks**: \n",
    "1. Read 'ExampleData.txt' line by line and create a DataFrame object with the same content as that source file.  Make sure to add labels 'X' and 'Y' to th efirst and second column, respectively.\n",
    "2. write that information to an excel file named 'Problem3.xlsx'\n",
    "3. open the 'Problem3.xlsx' file in Excel and plot X versus Y. Verify that the file was created correctly by comparing the chart in Excel with your answer to Problem 1."
   ]
  },
  {
   "cell_type": "code",
   "execution_count": null,
   "metadata": {},
   "outputs": [],
   "source": []
  }
 ],
 "metadata": {
  "kernelspec": {
   "display_name": "Python 3",
   "language": "python",
   "name": "python3"
  },
  "language_info": {
   "codemirror_mode": {
    "name": "ipython",
    "version": 3
   },
   "file_extension": ".py",
   "mimetype": "text/x-python",
   "name": "python",
   "nbconvert_exporter": "python",
   "pygments_lexer": "ipython3",
   "version": "3.7.4"
  }
 },
 "nbformat": 4,
 "nbformat_minor": 4
}
